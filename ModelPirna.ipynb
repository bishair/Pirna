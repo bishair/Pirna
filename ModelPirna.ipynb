{
  "nbformat": 4,
  "nbformat_minor": 0,
  "metadata": {
    "colab": {
      "provenance": [],
      "authorship_tag": "ABX9TyNpXdvJjTyCe2vLyyiLTv7M",
      "include_colab_link": true
    },
    "kernelspec": {
      "name": "python3",
      "display_name": "Python 3"
    },
    "language_info": {
      "name": "python"
    }
  },
  "cells": [
    {
      "cell_type": "markdown",
      "metadata": {
        "id": "view-in-github",
        "colab_type": "text"
      },
      "source": [
        "<a href=\"https://colab.research.google.com/github/bishair/Pirna/blob/main/ModelPirna.ipynb\" target=\"_parent\"><img src=\"https://colab.research.google.com/assets/colab-badge.svg\" alt=\"Open In Colab\"/></a>"
      ]
    },
    {
      "cell_type": "markdown",
      "source": [
        "# Import libraries and upload excel files for groundwater level and river water level separately"
      ],
      "metadata": {
        "id": "rJsBVc2YZ-vD"
      }
    },
    {
      "cell_type": "code",
      "execution_count": 2,
      "metadata": {
        "id": "6INebHJS8qAi"
      },
      "outputs": [],
      "source": [
        "import numpy as np\n",
        "import pandas as pd\n",
        "from google.colab import files\n",
        "import matplotlib.pyplot as plt\n",
        "from sklearn.preprocessing import MinMaxScaler\n",
        "from sklearn.metrics import mean_squared_error\n",
        "from tensorflow.keras.models import Sequential, load_model\n",
        "from tensorflow.keras.layers import LSTM, Dense\n",
        "from tensorflow.keras.optimizers import Adam\n",
        "from math import sqrt\n",
        "from tensorflow.keras.callbacks import EarlyStopping, ModelCheckpoint\n"
      ]
    },
    {
      "cell_type": "code",
      "source": [
        "uploaded_file = files.upload()"
      ],
      "metadata": {
        "id": "l5mGQVY5cWPI",
        "outputId": "0c2fa570-f144-417f-8ffa-6090d0572221",
        "colab": {
          "base_uri": "https://localhost:8080/",
          "height": 73
        }
      },
      "execution_count": 4,
      "outputs": [
        {
          "output_type": "display_data",
          "data": {
            "text/plain": [
              "<IPython.core.display.HTML object>"
            ],
            "text/html": [
              "\n",
              "     <input type=\"file\" id=\"files-a3cf5a3b-4196-4612-a5de-9c35f5b143eb\" name=\"files[]\" multiple disabled\n",
              "        style=\"border:none\" />\n",
              "     <output id=\"result-a3cf5a3b-4196-4612-a5de-9c35f5b143eb\">\n",
              "      Upload widget is only available when the cell has been executed in the\n",
              "      current browser session. Please rerun this cell to enable.\n",
              "      </output>\n",
              "      <script>// Copyright 2017 Google LLC\n",
              "//\n",
              "// Licensed under the Apache License, Version 2.0 (the \"License\");\n",
              "// you may not use this file except in compliance with the License.\n",
              "// You may obtain a copy of the License at\n",
              "//\n",
              "//      http://www.apache.org/licenses/LICENSE-2.0\n",
              "//\n",
              "// Unless required by applicable law or agreed to in writing, software\n",
              "// distributed under the License is distributed on an \"AS IS\" BASIS,\n",
              "// WITHOUT WARRANTIES OR CONDITIONS OF ANY KIND, either express or implied.\n",
              "// See the License for the specific language governing permissions and\n",
              "// limitations under the License.\n",
              "\n",
              "/**\n",
              " * @fileoverview Helpers for google.colab Python module.\n",
              " */\n",
              "(function(scope) {\n",
              "function span(text, styleAttributes = {}) {\n",
              "  const element = document.createElement('span');\n",
              "  element.textContent = text;\n",
              "  for (const key of Object.keys(styleAttributes)) {\n",
              "    element.style[key] = styleAttributes[key];\n",
              "  }\n",
              "  return element;\n",
              "}\n",
              "\n",
              "// Max number of bytes which will be uploaded at a time.\n",
              "const MAX_PAYLOAD_SIZE = 100 * 1024;\n",
              "\n",
              "function _uploadFiles(inputId, outputId) {\n",
              "  const steps = uploadFilesStep(inputId, outputId);\n",
              "  const outputElement = document.getElementById(outputId);\n",
              "  // Cache steps on the outputElement to make it available for the next call\n",
              "  // to uploadFilesContinue from Python.\n",
              "  outputElement.steps = steps;\n",
              "\n",
              "  return _uploadFilesContinue(outputId);\n",
              "}\n",
              "\n",
              "// This is roughly an async generator (not supported in the browser yet),\n",
              "// where there are multiple asynchronous steps and the Python side is going\n",
              "// to poll for completion of each step.\n",
              "// This uses a Promise to block the python side on completion of each step,\n",
              "// then passes the result of the previous step as the input to the next step.\n",
              "function _uploadFilesContinue(outputId) {\n",
              "  const outputElement = document.getElementById(outputId);\n",
              "  const steps = outputElement.steps;\n",
              "\n",
              "  const next = steps.next(outputElement.lastPromiseValue);\n",
              "  return Promise.resolve(next.value.promise).then((value) => {\n",
              "    // Cache the last promise value to make it available to the next\n",
              "    // step of the generator.\n",
              "    outputElement.lastPromiseValue = value;\n",
              "    return next.value.response;\n",
              "  });\n",
              "}\n",
              "\n",
              "/**\n",
              " * Generator function which is called between each async step of the upload\n",
              " * process.\n",
              " * @param {string} inputId Element ID of the input file picker element.\n",
              " * @param {string} outputId Element ID of the output display.\n",
              " * @return {!Iterable<!Object>} Iterable of next steps.\n",
              " */\n",
              "function* uploadFilesStep(inputId, outputId) {\n",
              "  const inputElement = document.getElementById(inputId);\n",
              "  inputElement.disabled = false;\n",
              "\n",
              "  const outputElement = document.getElementById(outputId);\n",
              "  outputElement.innerHTML = '';\n",
              "\n",
              "  const pickedPromise = new Promise((resolve) => {\n",
              "    inputElement.addEventListener('change', (e) => {\n",
              "      resolve(e.target.files);\n",
              "    });\n",
              "  });\n",
              "\n",
              "  const cancel = document.createElement('button');\n",
              "  inputElement.parentElement.appendChild(cancel);\n",
              "  cancel.textContent = 'Cancel upload';\n",
              "  const cancelPromise = new Promise((resolve) => {\n",
              "    cancel.onclick = () => {\n",
              "      resolve(null);\n",
              "    };\n",
              "  });\n",
              "\n",
              "  // Wait for the user to pick the files.\n",
              "  const files = yield {\n",
              "    promise: Promise.race([pickedPromise, cancelPromise]),\n",
              "    response: {\n",
              "      action: 'starting',\n",
              "    }\n",
              "  };\n",
              "\n",
              "  cancel.remove();\n",
              "\n",
              "  // Disable the input element since further picks are not allowed.\n",
              "  inputElement.disabled = true;\n",
              "\n",
              "  if (!files) {\n",
              "    return {\n",
              "      response: {\n",
              "        action: 'complete',\n",
              "      }\n",
              "    };\n",
              "  }\n",
              "\n",
              "  for (const file of files) {\n",
              "    const li = document.createElement('li');\n",
              "    li.append(span(file.name, {fontWeight: 'bold'}));\n",
              "    li.append(span(\n",
              "        `(${file.type || 'n/a'}) - ${file.size} bytes, ` +\n",
              "        `last modified: ${\n",
              "            file.lastModifiedDate ? file.lastModifiedDate.toLocaleDateString() :\n",
              "                                    'n/a'} - `));\n",
              "    const percent = span('0% done');\n",
              "    li.appendChild(percent);\n",
              "\n",
              "    outputElement.appendChild(li);\n",
              "\n",
              "    const fileDataPromise = new Promise((resolve) => {\n",
              "      const reader = new FileReader();\n",
              "      reader.onload = (e) => {\n",
              "        resolve(e.target.result);\n",
              "      };\n",
              "      reader.readAsArrayBuffer(file);\n",
              "    });\n",
              "    // Wait for the data to be ready.\n",
              "    let fileData = yield {\n",
              "      promise: fileDataPromise,\n",
              "      response: {\n",
              "        action: 'continue',\n",
              "      }\n",
              "    };\n",
              "\n",
              "    // Use a chunked sending to avoid message size limits. See b/62115660.\n",
              "    let position = 0;\n",
              "    do {\n",
              "      const length = Math.min(fileData.byteLength - position, MAX_PAYLOAD_SIZE);\n",
              "      const chunk = new Uint8Array(fileData, position, length);\n",
              "      position += length;\n",
              "\n",
              "      const base64 = btoa(String.fromCharCode.apply(null, chunk));\n",
              "      yield {\n",
              "        response: {\n",
              "          action: 'append',\n",
              "          file: file.name,\n",
              "          data: base64,\n",
              "        },\n",
              "      };\n",
              "\n",
              "      let percentDone = fileData.byteLength === 0 ?\n",
              "          100 :\n",
              "          Math.round((position / fileData.byteLength) * 100);\n",
              "      percent.textContent = `${percentDone}% done`;\n",
              "\n",
              "    } while (position < fileData.byteLength);\n",
              "  }\n",
              "\n",
              "  // All done.\n",
              "  yield {\n",
              "    response: {\n",
              "      action: 'complete',\n",
              "    }\n",
              "  };\n",
              "}\n",
              "\n",
              "scope.google = scope.google || {};\n",
              "scope.google.colab = scope.google.colab || {};\n",
              "scope.google.colab._files = {\n",
              "  _uploadFiles,\n",
              "  _uploadFilesContinue,\n",
              "};\n",
              "})(self);\n",
              "</script> "
            ]
          },
          "metadata": {}
        },
        {
          "output_type": "stream",
          "name": "stdout",
          "text": [
            "Saving riverL.xlsx to riverL.xlsx\n"
          ]
        }
      ]
    },
    {
      "cell_type": "markdown",
      "source": [
        "# Main Functions\n",
        "**merge_and_resample:**\n",
        "\n",
        "Merge and preprocess data from two Excel files containing groundwater and river water level data along with their respective dates, function  reads the two files, merges the data on the date column, resamples it to an hourly frequency, and then applies forward fill to handle missing hours.\n",
        "\n",
        "**preprocess_data_for_lstm:**\n",
        "\n",
        "Handle missing values for groundwater level and river water level by using the previous value. Normalize the data in the range 0 to 1. Return numpy arrays for X and y and create sequences using windows of given length.\n",
        "\n",
        "**Train model:**\n",
        "Specify optimizer, loss function, batch size, epochs and number of neurons and layers for model training"
      ],
      "metadata": {
        "id": "VnE41A-aAyEK"
      }
    },
    {
      "cell_type": "code",
      "source": [
        "#Use consistent time data, in case of missing observations use forward fill to have consistent time data\n",
        "#date_format= '%Y-%m-%d %H:%M:%S'\n",
        "\n",
        "def merge_and_resample(file_groundwater, file_river, date_format_groundwater, date_format_river):\n",
        "    # Read the groundwater level data\n",
        "    gw_data = pd.read_excel(file_groundwater)\n",
        "    gw_data['Date'] = pd.to_datetime(gw_data['Date'], format=date_format_groundwater)\n",
        "\n",
        "    # Read the river water level data\n",
        "    river_data = pd.read_excel(file_river)\n",
        "    river_data['Date'] = pd.to_datetime(river_data['Date'], format=date_format_river)\n",
        "\n",
        "    # Merge the two datasets on the 'Date' column\n",
        "    merged_data = pd.merge_asof(gw_data.sort_values('Date'), river_data.sort_values('Date'), on='Date', direction='nearest')\n",
        "\n",
        "    # Set 'Date' as the index\n",
        "    merged_data.set_index('Date', inplace=True)\n",
        "\n",
        "    # Create a new date range that starts from the first timestamp in merged_data\n",
        "    start_date = merged_data.index.min()\n",
        "    end_date = merged_data.index.max()\n",
        "    new_date_range = pd.date_range(start=start_date, end=end_date, freq='H')\n",
        "\n",
        "    # Reindex and resample merged_data with the new date range\n",
        "    resampled_data = merged_data.reindex(new_date_range).ffill().bfill()\n",
        "\n",
        "    return resampled_data\n",
        "\n"
      ],
      "metadata": {
        "id": "RNV7cskjCpe4"
      },
      "execution_count": 5,
      "outputs": []
    },
    {
      "cell_type": "code",
      "source": [
        "\n",
        "def preprocess_data_for_lstm(data, n_steps):\n",
        "    \"\"\"\n",
        "    Preprocess the data for LSTM model to predict 'G10' using past values of 'G10' and 'River'.\n",
        "    - data: pandas DataFrame containing 'G10' and 'River' columns.\n",
        "    - n_steps: number of time steps to use for predicting the next time step.\n",
        "\n",
        "    Returns:\n",
        "    - X, y: numpy arrays of features and labels suitable for LSTM model.\n",
        "    \"\"\"\n",
        "    # Handling missing values using forward fill\n",
        "    data = data.fillna(method='ffill')\n",
        "\n",
        "    # Normalizing the data\n",
        "    scaler = MinMaxScaler(feature_range=(0, 1))\n",
        "    data_scaled = scaler.fit_transform(data)\n",
        "\n",
        "    # Creating sequences\n",
        "    X, y = [], []\n",
        "    for i in range(n_steps, len(data_scaled)):\n",
        "        X.append(data_scaled[i-n_steps:i, :])\n",
        "        y.append(data_scaled[i, 0])\n",
        "\n",
        "    X, y = np.array(X), np.array(y)\n",
        "    # Split the data into training and testing sets\n",
        "    train_size = int(len(X) * 0.7)\n",
        "    test_size = len(X) - train_size\n",
        "    X_train, X_test = X[:train_size], X[train_size:]\n",
        "    y_train, y_test = y[:train_size], y[train_size:]\n",
        "    return X_train, y_train, X_test, y_test\n",
        "\n"
      ],
      "metadata": {
        "id": "J07A7V0sCwUM"
      },
      "execution_count": 6,
      "outputs": []
    },
    {
      "cell_type": "code",
      "source": [
        "def train_model(x_train, y_train, input_shape, epochs=100, batch_size=32):\n",
        "    model = Sequential([\n",
        "        LSTM(units=50, return_sequences=True, input_shape=input_shape),\n",
        "        LSTM(units=50),\n",
        "        Dense(1)\n",
        "    ])\n",
        "    model.compile(optimizer='adam', loss='mean_squared_error')\n",
        "    model.fit(x_train, y_train, epochs=epochs, batch_size=batch_size)\n",
        "    return model"
      ],
      "metadata": {
        "id": "QQAGaJsg3PlF"
      },
      "execution_count": 7,
      "outputs": []
    },
    {
      "cell_type": "code",
      "source": [
        "def evaluate_model(model, x_test, y_test):\n",
        "    # Evaluate the model's performance on the test data\n",
        "    # It returns a list: [loss, mse]\n",
        "    loss, mse = model.evaluate(x_test, y_test)\n",
        "    return loss, mse\n"
      ],
      "metadata": {
        "id": "Jcxs1sP47RFE"
      },
      "execution_count": 8,
      "outputs": []
    },
    {
      "cell_type": "markdown",
      "source": [
        "# Forward fill the missing hours by calling merge_and_resample function"
      ],
      "metadata": {
        "id": "hARmXNjJb4hi"
      }
    },
    {
      "cell_type": "code",
      "source": [
        "merged_df = merge_and_resample('groundwater.xlsx','riverL.xlsx', '%d/%m/%Y %H:%M' ,'%d/%m/%Y %H:%M')"
      ],
      "metadata": {
        "id": "avxbtdkKcION"
      },
      "execution_count": 9,
      "outputs": []
    },
    {
      "cell_type": "markdown",
      "source": [
        "# Preprocess and define window size for LSTM model by using function(preprocess_data_for_lstm)"
      ],
      "metadata": {
        "id": "kUOcioyCTZX3"
      }
    },
    {
      "cell_type": "code",
      "source": [
        "n_steps = 24\n",
        "X_train, y_train, X_test, y_test = preprocess_data_for_lstm(merged_df, n_steps)"
      ],
      "metadata": {
        "id": "hIAGj9yYdAZ4"
      },
      "execution_count": 10,
      "outputs": []
    },
    {
      "cell_type": "markdown",
      "source": [
        "# Train model"
      ],
      "metadata": {
        "id": "wnhy7q1Q34vR"
      }
    },
    {
      "cell_type": "code",
      "source": [
        "\"\"\"\n",
        "input_shape  includes two dimensions: (time_steps, features)\n",
        "Time Steps: Number of time intervals or sequences each input sample consists of.\n",
        "Features: Number of variables observed at each time step.\n",
        "\"\"\"\n",
        "\n",
        "input_shape=(X_train.shape[1], X_train.shape[2])\n",
        "epochs=40\n",
        "batch_size=64\n",
        "trained_model = train_model(X_train, y_train, input_shape, epochs, batch_size)"
      ],
      "metadata": {
        "id": "WWsw7z_F39tD",
        "outputId": "383c99ac-2670-4635-b5df-5913271586a1",
        "colab": {
          "base_uri": "https://localhost:8080/"
        }
      },
      "execution_count": 11,
      "outputs": [
        {
          "output_type": "stream",
          "name": "stdout",
          "text": [
            "Epoch 1/40\n",
            "192/192 [==============================] - 6s 19ms/step - loss: 6.2866e-04\n",
            "Epoch 2/40\n",
            "192/192 [==============================] - 3s 16ms/step - loss: 8.7254e-06\n",
            "Epoch 3/40\n",
            "192/192 [==============================] - 3s 16ms/step - loss: 9.8525e-06\n",
            "Epoch 4/40\n",
            "192/192 [==============================] - 3s 17ms/step - loss: 1.2701e-05\n",
            "Epoch 5/40\n",
            "192/192 [==============================] - 3s 18ms/step - loss: 7.8631e-06\n",
            "Epoch 6/40\n",
            "192/192 [==============================] - 3s 16ms/step - loss: 1.2081e-05\n",
            "Epoch 7/40\n",
            "192/192 [==============================] - 3s 16ms/step - loss: 7.5376e-06\n",
            "Epoch 8/40\n",
            "192/192 [==============================] - 4s 19ms/step - loss: 5.8520e-06\n",
            "Epoch 9/40\n",
            "192/192 [==============================] - 3s 16ms/step - loss: 6.6215e-06\n",
            "Epoch 10/40\n",
            "192/192 [==============================] - 3s 16ms/step - loss: 1.4039e-05\n",
            "Epoch 11/40\n",
            "192/192 [==============================] - 3s 16ms/step - loss: 9.3961e-06\n",
            "Epoch 12/40\n",
            "192/192 [==============================] - 4s 18ms/step - loss: 6.3901e-06\n",
            "Epoch 13/40\n",
            "192/192 [==============================] - 3s 16ms/step - loss: 5.0859e-06\n",
            "Epoch 14/40\n",
            "192/192 [==============================] - 3s 16ms/step - loss: 6.9199e-06\n",
            "Epoch 15/40\n",
            "192/192 [==============================] - 4s 19ms/step - loss: 6.4199e-06\n",
            "Epoch 16/40\n",
            "192/192 [==============================] - 3s 16ms/step - loss: 3.2462e-06\n",
            "Epoch 17/40\n",
            "192/192 [==============================] - 3s 16ms/step - loss: 5.8997e-06\n",
            "Epoch 18/40\n",
            "192/192 [==============================] - 3s 16ms/step - loss: 4.1972e-06\n",
            "Epoch 19/40\n",
            "192/192 [==============================] - 4s 19ms/step - loss: 3.7144e-06\n",
            "Epoch 20/40\n",
            "192/192 [==============================] - 3s 16ms/step - loss: 6.7864e-06\n",
            "Epoch 21/40\n",
            "192/192 [==============================] - 3s 16ms/step - loss: 3.6152e-06\n",
            "Epoch 22/40\n",
            "192/192 [==============================] - 3s 18ms/step - loss: 4.6028e-06\n",
            "Epoch 23/40\n",
            "192/192 [==============================] - 3s 17ms/step - loss: 3.2445e-06\n",
            "Epoch 24/40\n",
            "192/192 [==============================] - 3s 16ms/step - loss: 4.7805e-06\n",
            "Epoch 25/40\n",
            "192/192 [==============================] - 3s 16ms/step - loss: 1.7774e-05\n",
            "Epoch 26/40\n",
            "192/192 [==============================] - 4s 19ms/step - loss: 3.6970e-06\n",
            "Epoch 27/40\n",
            "192/192 [==============================] - 3s 16ms/step - loss: 3.9428e-06\n",
            "Epoch 28/40\n",
            "192/192 [==============================] - 3s 16ms/step - loss: 5.1329e-06\n",
            "Epoch 29/40\n",
            "192/192 [==============================] - 3s 17ms/step - loss: 1.4707e-06\n",
            "Epoch 30/40\n",
            "192/192 [==============================] - 4s 18ms/step - loss: 2.4936e-06\n",
            "Epoch 31/40\n",
            "192/192 [==============================] - 3s 16ms/step - loss: 5.2563e-06\n",
            "Epoch 32/40\n",
            "192/192 [==============================] - 3s 16ms/step - loss: 2.3445e-06\n",
            "Epoch 33/40\n",
            "192/192 [==============================] - 4s 19ms/step - loss: 1.0624e-05\n",
            "Epoch 34/40\n",
            "192/192 [==============================] - 3s 16ms/step - loss: 1.4502e-06\n",
            "Epoch 35/40\n",
            "192/192 [==============================] - 3s 16ms/step - loss: 1.6331e-06\n",
            "Epoch 36/40\n",
            "192/192 [==============================] - 3s 16ms/step - loss: 2.0197e-06\n",
            "Epoch 37/40\n",
            "192/192 [==============================] - 4s 19ms/step - loss: 3.1577e-06\n",
            "Epoch 38/40\n",
            "192/192 [==============================] - 3s 16ms/step - loss: 4.4784e-06\n",
            "Epoch 39/40\n",
            "192/192 [==============================] - 3s 16ms/step - loss: 3.0843e-06\n",
            "Epoch 40/40\n",
            "192/192 [==============================] - 4s 19ms/step - loss: 2.2794e-06\n"
          ]
        }
      ]
    },
    {
      "cell_type": "markdown",
      "source": [
        "# Evaluate Model by calculating MSE"
      ],
      "metadata": {
        "id": "Kz6vjfaa77KM"
      }
    },
    {
      "cell_type": "code",
      "source": [
        "evaluate_model(trained_model, X_test, y_test)\n"
      ],
      "metadata": {
        "id": "S7mtsoLI5LoB",
        "outputId": "f190df82-4b05-453c-9c1d-41008639d510",
        "colab": {
          "base_uri": "https://localhost:8080/",
          "height": 297
        }
      },
      "execution_count": 12,
      "outputs": [
        {
          "output_type": "stream",
          "name": "stdout",
          "text": [
            "165/165 [==============================] - 1s 5ms/step - loss: 3.0073e-07\n"
          ]
        },
        {
          "output_type": "error",
          "ename": "TypeError",
          "evalue": "ignored",
          "traceback": [
            "\u001b[0;31m---------------------------------------------------------------------------\u001b[0m",
            "\u001b[0;31mTypeError\u001b[0m                                 Traceback (most recent call last)",
            "\u001b[0;32m<ipython-input-12-d31591371731>\u001b[0m in \u001b[0;36m<cell line: 1>\u001b[0;34m()\u001b[0m\n\u001b[0;32m----> 1\u001b[0;31m \u001b[0mevaluate_model\u001b[0m\u001b[0;34m(\u001b[0m\u001b[0mtrained_model\u001b[0m\u001b[0;34m,\u001b[0m \u001b[0mX_test\u001b[0m\u001b[0;34m,\u001b[0m \u001b[0my_test\u001b[0m\u001b[0;34m)\u001b[0m\u001b[0;34m\u001b[0m\u001b[0;34m\u001b[0m\u001b[0m\n\u001b[0m",
            "\u001b[0;32m<ipython-input-8-cf287c1b4aba>\u001b[0m in \u001b[0;36mevaluate_model\u001b[0;34m(model, x_test, y_test)\u001b[0m\n\u001b[1;32m      2\u001b[0m     \u001b[0;31m# Evaluate the model's performance on the test data\u001b[0m\u001b[0;34m\u001b[0m\u001b[0;34m\u001b[0m\u001b[0m\n\u001b[1;32m      3\u001b[0m     \u001b[0;31m# It returns a list: [loss, mse]\u001b[0m\u001b[0;34m\u001b[0m\u001b[0;34m\u001b[0m\u001b[0m\n\u001b[0;32m----> 4\u001b[0;31m     \u001b[0mloss\u001b[0m\u001b[0;34m,\u001b[0m \u001b[0mmse\u001b[0m \u001b[0;34m=\u001b[0m \u001b[0mmodel\u001b[0m\u001b[0;34m.\u001b[0m\u001b[0mevaluate\u001b[0m\u001b[0;34m(\u001b[0m\u001b[0mx_test\u001b[0m\u001b[0;34m,\u001b[0m \u001b[0my_test\u001b[0m\u001b[0;34m)\u001b[0m\u001b[0;34m\u001b[0m\u001b[0;34m\u001b[0m\u001b[0m\n\u001b[0m\u001b[1;32m      5\u001b[0m     \u001b[0;32mreturn\u001b[0m \u001b[0mloss\u001b[0m\u001b[0;34m,\u001b[0m \u001b[0mmse\u001b[0m\u001b[0;34m\u001b[0m\u001b[0;34m\u001b[0m\u001b[0m\n",
            "\u001b[0;31mTypeError\u001b[0m: cannot unpack non-iterable float object"
          ]
        }
      ]
    },
    {
      "cell_type": "code",
      "source": [],
      "metadata": {
        "id": "Z_-9vEsf7l9x"
      },
      "execution_count": null,
      "outputs": []
    }
  ]
}
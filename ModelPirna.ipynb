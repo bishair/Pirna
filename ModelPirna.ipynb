{
  "nbformat": 4,
  "nbformat_minor": 0,
  "metadata": {
    "colab": {
      "provenance": [],
      "authorship_tag": "ABX9TyObq0BuGaKR39Eqy0OXcJq4",
      "include_colab_link": true
    },
    "kernelspec": {
      "name": "python3",
      "display_name": "Python 3"
    },
    "language_info": {
      "name": "python"
    }
  },
  "cells": [
    {
      "cell_type": "markdown",
      "metadata": {
        "id": "view-in-github",
        "colab_type": "text"
      },
      "source": [
        "<a href=\"https://colab.research.google.com/github/bishair/Pirna/blob/main/ModelPirna.ipynb\" target=\"_parent\"><img src=\"https://colab.research.google.com/assets/colab-badge.svg\" alt=\"Open In Colab\"/></a>"
      ]
    },
    {
      "cell_type": "markdown",
      "source": [
        "# Import libraries and upload excel files for groundwater level and river water level separately"
      ],
      "metadata": {
        "id": "rJsBVc2YZ-vD"
      }
    },
    {
      "cell_type": "code",
      "execution_count": null,
      "metadata": {
        "id": "6INebHJS8qAi"
      },
      "outputs": [],
      "source": [
        "import numpy as np\n",
        "import pandas as pd\n",
        "from google.colab import files\n",
        "import matplotlib.pyplot as plt\n",
        "from sklearn.preprocessing import MinMaxScaler\n",
        "from sklearn.metrics import mean_squared_error\n",
        "from tensorflow.keras.models import Sequential, load_model\n",
        "from tensorflow.keras.layers import LSTM, Dense\n",
        "from tensorflow.keras.optimizers import Adam\n",
        "from math import sqrt\n",
        "from tensorflow.keras.callbacks import EarlyStopping, ModelCheckpoint\n"
      ]
    },
    {
      "cell_type": "code",
      "source": [
        "uploaded_file = files.upload()"
      ],
      "metadata": {
        "id": "l5mGQVY5cWPI",
        "outputId": "12ed7a33-c1b6-4ac5-c847-b1414f237f3e",
        "colab": {
          "base_uri": "https://localhost:8080/",
          "height": 73
        }
      },
      "execution_count": null,
      "outputs": [
        {
          "output_type": "display_data",
          "data": {
            "text/plain": [
              "<IPython.core.display.HTML object>"
            ],
            "text/html": [
              "\n",
              "     <input type=\"file\" id=\"files-14446bd5-7dc8-436a-b49f-786a8bb087e6\" name=\"files[]\" multiple disabled\n",
              "        style=\"border:none\" />\n",
              "     <output id=\"result-14446bd5-7dc8-436a-b49f-786a8bb087e6\">\n",
              "      Upload widget is only available when the cell has been executed in the\n",
              "      current browser session. Please rerun this cell to enable.\n",
              "      </output>\n",
              "      <script>// Copyright 2017 Google LLC\n",
              "//\n",
              "// Licensed under the Apache License, Version 2.0 (the \"License\");\n",
              "// you may not use this file except in compliance with the License.\n",
              "// You may obtain a copy of the License at\n",
              "//\n",
              "//      http://www.apache.org/licenses/LICENSE-2.0\n",
              "//\n",
              "// Unless required by applicable law or agreed to in writing, software\n",
              "// distributed under the License is distributed on an \"AS IS\" BASIS,\n",
              "// WITHOUT WARRANTIES OR CONDITIONS OF ANY KIND, either express or implied.\n",
              "// See the License for the specific language governing permissions and\n",
              "// limitations under the License.\n",
              "\n",
              "/**\n",
              " * @fileoverview Helpers for google.colab Python module.\n",
              " */\n",
              "(function(scope) {\n",
              "function span(text, styleAttributes = {}) {\n",
              "  const element = document.createElement('span');\n",
              "  element.textContent = text;\n",
              "  for (const key of Object.keys(styleAttributes)) {\n",
              "    element.style[key] = styleAttributes[key];\n",
              "  }\n",
              "  return element;\n",
              "}\n",
              "\n",
              "// Max number of bytes which will be uploaded at a time.\n",
              "const MAX_PAYLOAD_SIZE = 100 * 1024;\n",
              "\n",
              "function _uploadFiles(inputId, outputId) {\n",
              "  const steps = uploadFilesStep(inputId, outputId);\n",
              "  const outputElement = document.getElementById(outputId);\n",
              "  // Cache steps on the outputElement to make it available for the next call\n",
              "  // to uploadFilesContinue from Python.\n",
              "  outputElement.steps = steps;\n",
              "\n",
              "  return _uploadFilesContinue(outputId);\n",
              "}\n",
              "\n",
              "// This is roughly an async generator (not supported in the browser yet),\n",
              "// where there are multiple asynchronous steps and the Python side is going\n",
              "// to poll for completion of each step.\n",
              "// This uses a Promise to block the python side on completion of each step,\n",
              "// then passes the result of the previous step as the input to the next step.\n",
              "function _uploadFilesContinue(outputId) {\n",
              "  const outputElement = document.getElementById(outputId);\n",
              "  const steps = outputElement.steps;\n",
              "\n",
              "  const next = steps.next(outputElement.lastPromiseValue);\n",
              "  return Promise.resolve(next.value.promise).then((value) => {\n",
              "    // Cache the last promise value to make it available to the next\n",
              "    // step of the generator.\n",
              "    outputElement.lastPromiseValue = value;\n",
              "    return next.value.response;\n",
              "  });\n",
              "}\n",
              "\n",
              "/**\n",
              " * Generator function which is called between each async step of the upload\n",
              " * process.\n",
              " * @param {string} inputId Element ID of the input file picker element.\n",
              " * @param {string} outputId Element ID of the output display.\n",
              " * @return {!Iterable<!Object>} Iterable of next steps.\n",
              " */\n",
              "function* uploadFilesStep(inputId, outputId) {\n",
              "  const inputElement = document.getElementById(inputId);\n",
              "  inputElement.disabled = false;\n",
              "\n",
              "  const outputElement = document.getElementById(outputId);\n",
              "  outputElement.innerHTML = '';\n",
              "\n",
              "  const pickedPromise = new Promise((resolve) => {\n",
              "    inputElement.addEventListener('change', (e) => {\n",
              "      resolve(e.target.files);\n",
              "    });\n",
              "  });\n",
              "\n",
              "  const cancel = document.createElement('button');\n",
              "  inputElement.parentElement.appendChild(cancel);\n",
              "  cancel.textContent = 'Cancel upload';\n",
              "  const cancelPromise = new Promise((resolve) => {\n",
              "    cancel.onclick = () => {\n",
              "      resolve(null);\n",
              "    };\n",
              "  });\n",
              "\n",
              "  // Wait for the user to pick the files.\n",
              "  const files = yield {\n",
              "    promise: Promise.race([pickedPromise, cancelPromise]),\n",
              "    response: {\n",
              "      action: 'starting',\n",
              "    }\n",
              "  };\n",
              "\n",
              "  cancel.remove();\n",
              "\n",
              "  // Disable the input element since further picks are not allowed.\n",
              "  inputElement.disabled = true;\n",
              "\n",
              "  if (!files) {\n",
              "    return {\n",
              "      response: {\n",
              "        action: 'complete',\n",
              "      }\n",
              "    };\n",
              "  }\n",
              "\n",
              "  for (const file of files) {\n",
              "    const li = document.createElement('li');\n",
              "    li.append(span(file.name, {fontWeight: 'bold'}));\n",
              "    li.append(span(\n",
              "        `(${file.type || 'n/a'}) - ${file.size} bytes, ` +\n",
              "        `last modified: ${\n",
              "            file.lastModifiedDate ? file.lastModifiedDate.toLocaleDateString() :\n",
              "                                    'n/a'} - `));\n",
              "    const percent = span('0% done');\n",
              "    li.appendChild(percent);\n",
              "\n",
              "    outputElement.appendChild(li);\n",
              "\n",
              "    const fileDataPromise = new Promise((resolve) => {\n",
              "      const reader = new FileReader();\n",
              "      reader.onload = (e) => {\n",
              "        resolve(e.target.result);\n",
              "      };\n",
              "      reader.readAsArrayBuffer(file);\n",
              "    });\n",
              "    // Wait for the data to be ready.\n",
              "    let fileData = yield {\n",
              "      promise: fileDataPromise,\n",
              "      response: {\n",
              "        action: 'continue',\n",
              "      }\n",
              "    };\n",
              "\n",
              "    // Use a chunked sending to avoid message size limits. See b/62115660.\n",
              "    let position = 0;\n",
              "    do {\n",
              "      const length = Math.min(fileData.byteLength - position, MAX_PAYLOAD_SIZE);\n",
              "      const chunk = new Uint8Array(fileData, position, length);\n",
              "      position += length;\n",
              "\n",
              "      const base64 = btoa(String.fromCharCode.apply(null, chunk));\n",
              "      yield {\n",
              "        response: {\n",
              "          action: 'append',\n",
              "          file: file.name,\n",
              "          data: base64,\n",
              "        },\n",
              "      };\n",
              "\n",
              "      let percentDone = fileData.byteLength === 0 ?\n",
              "          100 :\n",
              "          Math.round((position / fileData.byteLength) * 100);\n",
              "      percent.textContent = `${percentDone}% done`;\n",
              "\n",
              "    } while (position < fileData.byteLength);\n",
              "  }\n",
              "\n",
              "  // All done.\n",
              "  yield {\n",
              "    response: {\n",
              "      action: 'complete',\n",
              "    }\n",
              "  };\n",
              "}\n",
              "\n",
              "scope.google = scope.google || {};\n",
              "scope.google.colab = scope.google.colab || {};\n",
              "scope.google.colab._files = {\n",
              "  _uploadFiles,\n",
              "  _uploadFilesContinue,\n",
              "};\n",
              "})(self);\n",
              "</script> "
            ]
          },
          "metadata": {}
        },
        {
          "output_type": "stream",
          "name": "stdout",
          "text": [
            "Saving riverL.xlsx to riverL (4).xlsx\n"
          ]
        }
      ]
    },
    {
      "cell_type": "markdown",
      "source": [
        "# Main Functions\n",
        "**merge_and_resample:**\n",
        "\n",
        "Merge and preprocess data from two Excel files containing groundwater and river water level data along with their respective dates, function  reads the two files, merges the data on the date column, resamples it to an hourly frequency, and then applies forward fill to handle missing hours.\n",
        "\n",
        "**preprocess_data_for_lstm:**\n",
        "\n",
        "Handle missing values for groundwater level and river water level by using the previous value. Normalize the data in the range 0 to 1. Return numpy arrays for X and y and create sequences using windows of given length.\n",
        "\n",
        "**Train and save model:**\n",
        "Specify optimizer, loss function, batch size, epochs and number of neurons and layers for model training"
      ],
      "metadata": {
        "id": "VnE41A-aAyEK"
      }
    },
    {
      "cell_type": "code",
      "source": [
        "#Use consistent time data, in case of missing observations use forward fill to have consistent time data\n",
        "#date_format= '%Y-%m-%d %H:%M:%S'\n",
        "\n",
        "def merge_and_resample(file_groundwater, file_river, date_format_groundwater, date_format_river):\n",
        "    # Read the groundwater level data\n",
        "    gw_data = pd.read_excel(file_groundwater)\n",
        "    gw_data['Date'] = pd.to_datetime(gw_data['Date'], format=date_format_groundwater)\n",
        "\n",
        "    # Read the river water level data\n",
        "    river_data = pd.read_excel(file_river)\n",
        "    river_data['Date'] = pd.to_datetime(river_data['Date'], format=date_format_river)\n",
        "\n",
        "    # Merge the two datasets on the 'Date' column\n",
        "    merged_data = pd.merge_asof(gw_data.sort_values('Date'), river_data.sort_values('Date'), on='Date', direction='nearest')\n",
        "\n",
        "    # Set 'Date' as the index\n",
        "    merged_data.set_index('Date', inplace=True)\n",
        "\n",
        "    # Create a new date range that starts from the first timestamp in merged_data\n",
        "    start_date = merged_data.index.min()\n",
        "    end_date = merged_data.index.max()\n",
        "    new_date_range = pd.date_range(start=start_date, end=end_date, freq='H')\n",
        "\n",
        "    # Reindex and resample merged_data with the new date range\n",
        "    resampled_data = merged_data.reindex(new_date_range).ffill().bfill()\n",
        "\n",
        "    return resampled_data\n",
        "\n"
      ],
      "metadata": {
        "id": "RNV7cskjCpe4"
      },
      "execution_count": null,
      "outputs": []
    },
    {
      "cell_type": "code",
      "source": [
        "\n",
        "def preprocess_data_for_lstm(data, n_steps):\n",
        "    \"\"\"\n",
        "    Preprocess the data for LSTM model to predict 'G10' using past values of 'G10' and 'River'.\n",
        "    - data: pandas DataFrame containing 'G10' and 'River' columns.\n",
        "    - n_steps: number of time steps to use for predicting the next time step.\n",
        "\n",
        "    Returns:\n",
        "    - X, y: numpy arrays of features and labels suitable for LSTM model.\n",
        "    \"\"\"\n",
        "    # Handling missing values using forward fill\n",
        "    data = data.fillna(method='ffill')\n",
        "\n",
        "    # Normalizing the data\n",
        "    scaler = MinMaxScaler(feature_range=(0, 1))\n",
        "    data_scaled = scaler.fit_transform(data)\n",
        "\n",
        "    # Creating sequences\n",
        "    X, y = [], []\n",
        "    for i in range(n_steps, len(data_scaled)):\n",
        "        X.append(data_scaled[i-n_steps:i, :])\n",
        "        y.append(data_scaled[i, 0])\n",
        "\n",
        "    X, y = np.array(X), np.array(y)\n",
        "    # Split the data into training and testing sets\n",
        "    train_size = int(len(X) * 0.7)\n",
        "    test_size = len(X) - train_size\n",
        "    X_train, X_test = X[:train_size], X[train_size:]\n",
        "    y_train, y_test = y[:train_size], y[train_size:]\n",
        "    return X_train, y_train, X_test, y_test\n",
        "\n"
      ],
      "metadata": {
        "id": "J07A7V0sCwUM"
      },
      "execution_count": null,
      "outputs": []
    },
    {
      "cell_type": "code",
      "source": [
        "def train_model(x_train, y_train, input_shape, epochs=100, batch_size=32):\n",
        "    model = Sequential([\n",
        "        LSTM(units=50, return_sequences=True, input_shape=input_shape),\n",
        "        LSTM(units=50),\n",
        "        Dense(1)\n",
        "    ])\n",
        "    model.compile(optimizer='adam', loss='mean_squared_error')\n",
        "    model.fit(x_train, y_train, epochs=epochs, batch_size=batch_size)\n",
        "    return model"
      ],
      "metadata": {
        "id": "QQAGaJsg3PlF"
      },
      "execution_count": null,
      "outputs": []
    },
    {
      "cell_type": "code",
      "source": [
        "def save_model(model, filename='my_lstm_model.h5'):\n",
        "    model.save(filename)\n",
        "    return model"
      ],
      "metadata": {
        "id": "KDqFiGwMwFbw"
      },
      "execution_count": null,
      "outputs": []
    },
    {
      "cell_type": "code",
      "source": [
        "def evaluate_model(model, x_test, y_test):\n",
        "    # Evaluate the model's performance on the test data\n",
        "    # It returns a list: [loss, mse]\n",
        "    loss = model.evaluate(x_test, y_test)\n",
        "    return loss\n"
      ],
      "metadata": {
        "id": "Jcxs1sP47RFE"
      },
      "execution_count": null,
      "outputs": []
    },
    {
      "cell_type": "markdown",
      "source": [
        "# Forward fill the missing hours by calling merge_and_resample function"
      ],
      "metadata": {
        "id": "hARmXNjJb4hi"
      }
    },
    {
      "cell_type": "code",
      "source": [
        "merged_df = merge_and_resample('groundwater.xlsx','riverL.xlsx', '%d/%m/%Y %H:%M' ,'%d/%m/%Y %H:%M')"
      ],
      "metadata": {
        "id": "avxbtdkKcION"
      },
      "execution_count": null,
      "outputs": []
    },
    {
      "cell_type": "markdown",
      "source": [
        "# Preprocess and define window size for LSTM model by using function(preprocess_data_for_lstm)"
      ],
      "metadata": {
        "id": "kUOcioyCTZX3"
      }
    },
    {
      "cell_type": "code",
      "source": [
        "n_steps = 24\n",
        "X_train, y_train, X_test, y_test = preprocess_data_for_lstm(merged_df, n_steps)"
      ],
      "metadata": {
        "id": "hIAGj9yYdAZ4"
      },
      "execution_count": null,
      "outputs": []
    },
    {
      "cell_type": "markdown",
      "source": [
        "# Train and save model"
      ],
      "metadata": {
        "id": "wnhy7q1Q34vR"
      }
    },
    {
      "cell_type": "code",
      "source": [
        "\"\"\"\n",
        "input_shape  includes two dimensions: (time_steps, features)\n",
        "Time Steps: Number of time intervals or sequences each input sample consists of.\n",
        "Features: Number of variables observed at each time step.\n",
        "\"\"\"\n",
        "\n",
        "input_shape=(X_train.shape[1], X_train.shape[2])\n",
        "epochs=40\n",
        "batch_size=64\n",
        "trained_model = train_model(X_train, y_train, input_shape, epochs, batch_size)"
      ],
      "metadata": {
        "id": "WWsw7z_F39tD",
        "outputId": "504784a4-5dab-474c-c0a1-dbcedbddea9b",
        "colab": {
          "base_uri": "https://localhost:8080/"
        }
      },
      "execution_count": null,
      "outputs": [
        {
          "output_type": "stream",
          "name": "stdout",
          "text": [
            "Epoch 1/40\n",
            "192/192 [==============================] - 6s 17ms/step - loss: 7.2515e-04\n",
            "Epoch 2/40\n",
            "192/192 [==============================] - 3s 18ms/step - loss: 7.7589e-06\n",
            "Epoch 3/40\n",
            "192/192 [==============================] - 4s 19ms/step - loss: 8.0858e-06\n",
            "Epoch 4/40\n",
            "192/192 [==============================] - 3s 17ms/step - loss: 9.7840e-06\n",
            "Epoch 5/40\n",
            "192/192 [==============================] - 3s 17ms/step - loss: 7.1974e-06\n",
            "Epoch 6/40\n",
            "192/192 [==============================] - 4s 20ms/step - loss: 1.1938e-05\n",
            "Epoch 7/40\n",
            "192/192 [==============================] - 3s 17ms/step - loss: 7.4592e-06\n",
            "Epoch 8/40\n",
            "192/192 [==============================] - 3s 17ms/step - loss: 7.2645e-06\n",
            "Epoch 9/40\n",
            "192/192 [==============================] - 4s 20ms/step - loss: 6.3398e-06\n",
            "Epoch 10/40\n",
            "192/192 [==============================] - 3s 17ms/step - loss: 6.7521e-06\n",
            "Epoch 11/40\n",
            "192/192 [==============================] - 3s 17ms/step - loss: 8.6211e-06\n",
            "Epoch 12/40\n",
            "192/192 [==============================] - 4s 18ms/step - loss: 7.4432e-06\n",
            "Epoch 13/40\n",
            "192/192 [==============================] - 4s 19ms/step - loss: 1.1558e-05\n",
            "Epoch 14/40\n",
            "192/192 [==============================] - 3s 17ms/step - loss: 1.2570e-05\n",
            "Epoch 15/40\n",
            "192/192 [==============================] - 3s 17ms/step - loss: 6.5179e-06\n",
            "Epoch 16/40\n",
            "192/192 [==============================] - 4s 20ms/step - loss: 9.1741e-06\n",
            "Epoch 17/40\n",
            "192/192 [==============================] - 3s 17ms/step - loss: 6.7919e-06\n",
            "Epoch 18/40\n",
            "192/192 [==============================] - 3s 18ms/step - loss: 4.8481e-06\n",
            "Epoch 19/40\n",
            "192/192 [==============================] - 4s 20ms/step - loss: 9.9378e-06\n",
            "Epoch 20/40\n",
            "192/192 [==============================] - 3s 17ms/step - loss: 4.8713e-06\n",
            "Epoch 21/40\n",
            "192/192 [==============================] - 3s 17ms/step - loss: 5.8498e-06\n",
            "Epoch 22/40\n",
            "192/192 [==============================] - 4s 19ms/step - loss: 3.0973e-06\n",
            "Epoch 23/40\n",
            "192/192 [==============================] - 4s 19ms/step - loss: 9.0110e-06\n",
            "Epoch 24/40\n",
            "192/192 [==============================] - 3s 17ms/step - loss: 1.1252e-05\n",
            "Epoch 25/40\n",
            "192/192 [==============================] - 3s 17ms/step - loss: 4.3627e-06\n",
            "Epoch 26/40\n",
            "192/192 [==============================] - 4s 20ms/step - loss: 4.2319e-06\n",
            "Epoch 27/40\n",
            "192/192 [==============================] - 3s 18ms/step - loss: 4.2218e-06\n",
            "Epoch 28/40\n",
            "192/192 [==============================] - 3s 17ms/step - loss: 3.1927e-06\n",
            "Epoch 29/40\n",
            "192/192 [==============================] - 4s 20ms/step - loss: 4.6490e-06\n",
            "Epoch 30/40\n",
            "192/192 [==============================] - 3s 18ms/step - loss: 4.2551e-06\n",
            "Epoch 31/40\n",
            "192/192 [==============================] - 4s 19ms/step - loss: 4.1296e-06\n",
            "Epoch 32/40\n",
            "192/192 [==============================] - 4s 20ms/step - loss: 4.7702e-06\n",
            "Epoch 33/40\n",
            "192/192 [==============================] - 4s 19ms/step - loss: 6.7065e-06\n",
            "Epoch 34/40\n",
            "192/192 [==============================] - 4s 22ms/step - loss: 2.6931e-06\n",
            "Epoch 35/40\n",
            "192/192 [==============================] - 4s 22ms/step - loss: 2.7929e-06\n",
            "Epoch 36/40\n",
            "192/192 [==============================] - 4s 19ms/step - loss: 8.4222e-06\n",
            "Epoch 37/40\n",
            "192/192 [==============================] - 4s 20ms/step - loss: 5.9060e-06\n",
            "Epoch 38/40\n",
            "192/192 [==============================] - 4s 23ms/step - loss: 1.4612e-06\n",
            "Epoch 39/40\n",
            "192/192 [==============================] - 3s 17ms/step - loss: 2.9720e-06\n",
            "Epoch 40/40\n",
            "192/192 [==============================] - 4s 19ms/step - loss: 1.6079e-06\n"
          ]
        }
      ]
    },
    {
      "cell_type": "code",
      "source": [
        "saved_model = save_model(trained_model)\n",
        "print(saved_model)"
      ],
      "metadata": {
        "id": "L_85BVOFwLzv",
        "outputId": "5798c9e4-69b2-4196-ae0e-e6536c33e194",
        "colab": {
          "base_uri": "https://localhost:8080/"
        }
      },
      "execution_count": null,
      "outputs": [
        {
          "output_type": "stream",
          "name": "stdout",
          "text": [
            "<keras.src.engine.sequential.Sequential object at 0x7af92826f250>\n"
          ]
        },
        {
          "output_type": "stream",
          "name": "stderr",
          "text": [
            "/usr/local/lib/python3.10/dist-packages/keras/src/engine/training.py:3103: UserWarning: You are saving your model as an HDF5 file via `model.save()`. This file format is considered legacy. We recommend using instead the native Keras format, e.g. `model.save('my_model.keras')`.\n",
            "  saving_api.save_model(\n"
          ]
        }
      ]
    },
    {
      "cell_type": "markdown",
      "source": [
        "# Evaluate Model by calculating MSE"
      ],
      "metadata": {
        "id": "Kz6vjfaa77KM"
      }
    },
    {
      "cell_type": "code",
      "source": [
        "evaluate_model(saved_model, X_test, y_test)\n"
      ],
      "metadata": {
        "id": "S7mtsoLI5LoB",
        "outputId": "b2ce3461-6969-410a-bf09-eaf9a34c7a03",
        "colab": {
          "base_uri": "https://localhost:8080/"
        }
      },
      "execution_count": null,
      "outputs": [
        {
          "output_type": "stream",
          "name": "stdout",
          "text": [
            "165/165 [==============================] - 1s 5ms/step - loss: 4.3812e-09\n"
          ]
        },
        {
          "output_type": "execute_result",
          "data": {
            "text/plain": [
              "4.381248253082504e-09"
            ]
          },
          "metadata": {},
          "execution_count": 70
        }
      ]
    },
    {
      "cell_type": "markdown",
      "source": [
        "# ------------------------**Anomaly detection in new data**------------------------------"
      ],
      "metadata": {
        "id": "j-hGDSkQxIo7"
      }
    },
    {
      "cell_type": "code",
      "source": [
        "uploaded_file = files.upload()"
      ],
      "metadata": {
        "id": "PhTis7zb3EVN",
        "outputId": "016c59c7-daa8-451a-a472-7a6775ceb317",
        "colab": {
          "base_uri": "https://localhost:8080/",
          "height": 73
        }
      },
      "execution_count": null,
      "outputs": [
        {
          "output_type": "display_data",
          "data": {
            "text/plain": [
              "<IPython.core.display.HTML object>"
            ],
            "text/html": [
              "\n",
              "     <input type=\"file\" id=\"files-b3624c4c-4734-4ce0-9846-b29d68789a7a\" name=\"files[]\" multiple disabled\n",
              "        style=\"border:none\" />\n",
              "     <output id=\"result-b3624c4c-4734-4ce0-9846-b29d68789a7a\">\n",
              "      Upload widget is only available when the cell has been executed in the\n",
              "      current browser session. Please rerun this cell to enable.\n",
              "      </output>\n",
              "      <script>// Copyright 2017 Google LLC\n",
              "//\n",
              "// Licensed under the Apache License, Version 2.0 (the \"License\");\n",
              "// you may not use this file except in compliance with the License.\n",
              "// You may obtain a copy of the License at\n",
              "//\n",
              "//      http://www.apache.org/licenses/LICENSE-2.0\n",
              "//\n",
              "// Unless required by applicable law or agreed to in writing, software\n",
              "// distributed under the License is distributed on an \"AS IS\" BASIS,\n",
              "// WITHOUT WARRANTIES OR CONDITIONS OF ANY KIND, either express or implied.\n",
              "// See the License for the specific language governing permissions and\n",
              "// limitations under the License.\n",
              "\n",
              "/**\n",
              " * @fileoverview Helpers for google.colab Python module.\n",
              " */\n",
              "(function(scope) {\n",
              "function span(text, styleAttributes = {}) {\n",
              "  const element = document.createElement('span');\n",
              "  element.textContent = text;\n",
              "  for (const key of Object.keys(styleAttributes)) {\n",
              "    element.style[key] = styleAttributes[key];\n",
              "  }\n",
              "  return element;\n",
              "}\n",
              "\n",
              "// Max number of bytes which will be uploaded at a time.\n",
              "const MAX_PAYLOAD_SIZE = 100 * 1024;\n",
              "\n",
              "function _uploadFiles(inputId, outputId) {\n",
              "  const steps = uploadFilesStep(inputId, outputId);\n",
              "  const outputElement = document.getElementById(outputId);\n",
              "  // Cache steps on the outputElement to make it available for the next call\n",
              "  // to uploadFilesContinue from Python.\n",
              "  outputElement.steps = steps;\n",
              "\n",
              "  return _uploadFilesContinue(outputId);\n",
              "}\n",
              "\n",
              "// This is roughly an async generator (not supported in the browser yet),\n",
              "// where there are multiple asynchronous steps and the Python side is going\n",
              "// to poll for completion of each step.\n",
              "// This uses a Promise to block the python side on completion of each step,\n",
              "// then passes the result of the previous step as the input to the next step.\n",
              "function _uploadFilesContinue(outputId) {\n",
              "  const outputElement = document.getElementById(outputId);\n",
              "  const steps = outputElement.steps;\n",
              "\n",
              "  const next = steps.next(outputElement.lastPromiseValue);\n",
              "  return Promise.resolve(next.value.promise).then((value) => {\n",
              "    // Cache the last promise value to make it available to the next\n",
              "    // step of the generator.\n",
              "    outputElement.lastPromiseValue = value;\n",
              "    return next.value.response;\n",
              "  });\n",
              "}\n",
              "\n",
              "/**\n",
              " * Generator function which is called between each async step of the upload\n",
              " * process.\n",
              " * @param {string} inputId Element ID of the input file picker element.\n",
              " * @param {string} outputId Element ID of the output display.\n",
              " * @return {!Iterable<!Object>} Iterable of next steps.\n",
              " */\n",
              "function* uploadFilesStep(inputId, outputId) {\n",
              "  const inputElement = document.getElementById(inputId);\n",
              "  inputElement.disabled = false;\n",
              "\n",
              "  const outputElement = document.getElementById(outputId);\n",
              "  outputElement.innerHTML = '';\n",
              "\n",
              "  const pickedPromise = new Promise((resolve) => {\n",
              "    inputElement.addEventListener('change', (e) => {\n",
              "      resolve(e.target.files);\n",
              "    });\n",
              "  });\n",
              "\n",
              "  const cancel = document.createElement('button');\n",
              "  inputElement.parentElement.appendChild(cancel);\n",
              "  cancel.textContent = 'Cancel upload';\n",
              "  const cancelPromise = new Promise((resolve) => {\n",
              "    cancel.onclick = () => {\n",
              "      resolve(null);\n",
              "    };\n",
              "  });\n",
              "\n",
              "  // Wait for the user to pick the files.\n",
              "  const files = yield {\n",
              "    promise: Promise.race([pickedPromise, cancelPromise]),\n",
              "    response: {\n",
              "      action: 'starting',\n",
              "    }\n",
              "  };\n",
              "\n",
              "  cancel.remove();\n",
              "\n",
              "  // Disable the input element since further picks are not allowed.\n",
              "  inputElement.disabled = true;\n",
              "\n",
              "  if (!files) {\n",
              "    return {\n",
              "      response: {\n",
              "        action: 'complete',\n",
              "      }\n",
              "    };\n",
              "  }\n",
              "\n",
              "  for (const file of files) {\n",
              "    const li = document.createElement('li');\n",
              "    li.append(span(file.name, {fontWeight: 'bold'}));\n",
              "    li.append(span(\n",
              "        `(${file.type || 'n/a'}) - ${file.size} bytes, ` +\n",
              "        `last modified: ${\n",
              "            file.lastModifiedDate ? file.lastModifiedDate.toLocaleDateString() :\n",
              "                                    'n/a'} - `));\n",
              "    const percent = span('0% done');\n",
              "    li.appendChild(percent);\n",
              "\n",
              "    outputElement.appendChild(li);\n",
              "\n",
              "    const fileDataPromise = new Promise((resolve) => {\n",
              "      const reader = new FileReader();\n",
              "      reader.onload = (e) => {\n",
              "        resolve(e.target.result);\n",
              "      };\n",
              "      reader.readAsArrayBuffer(file);\n",
              "    });\n",
              "    // Wait for the data to be ready.\n",
              "    let fileData = yield {\n",
              "      promise: fileDataPromise,\n",
              "      response: {\n",
              "        action: 'continue',\n",
              "      }\n",
              "    };\n",
              "\n",
              "    // Use a chunked sending to avoid message size limits. See b/62115660.\n",
              "    let position = 0;\n",
              "    do {\n",
              "      const length = Math.min(fileData.byteLength - position, MAX_PAYLOAD_SIZE);\n",
              "      const chunk = new Uint8Array(fileData, position, length);\n",
              "      position += length;\n",
              "\n",
              "      const base64 = btoa(String.fromCharCode.apply(null, chunk));\n",
              "      yield {\n",
              "        response: {\n",
              "          action: 'append',\n",
              "          file: file.name,\n",
              "          data: base64,\n",
              "        },\n",
              "      };\n",
              "\n",
              "      let percentDone = fileData.byteLength === 0 ?\n",
              "          100 :\n",
              "          Math.round((position / fileData.byteLength) * 100);\n",
              "      percent.textContent = `${percentDone}% done`;\n",
              "\n",
              "    } while (position < fileData.byteLength);\n",
              "  }\n",
              "\n",
              "  // All done.\n",
              "  yield {\n",
              "    response: {\n",
              "      action: 'complete',\n",
              "    }\n",
              "  };\n",
              "}\n",
              "\n",
              "scope.google = scope.google || {};\n",
              "scope.google.colab = scope.google.colab || {};\n",
              "scope.google.colab._files = {\n",
              "  _uploadFiles,\n",
              "  _uploadFilesContinue,\n",
              "};\n",
              "})(self);\n",
              "</script> "
            ]
          },
          "metadata": {}
        },
        {
          "output_type": "stream",
          "name": "stdout",
          "text": [
            "Saving riverL1.xlsx to riverL1.xlsx\n"
          ]
        }
      ]
    },
    {
      "cell_type": "code",
      "source": [],
      "metadata": {
        "id": "PknTvmLk4NWX"
      },
      "execution_count": null,
      "outputs": []
    }
  ]
}
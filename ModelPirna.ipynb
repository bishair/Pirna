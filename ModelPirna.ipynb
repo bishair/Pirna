{
  "nbformat": 4,
  "nbformat_minor": 0,
  "metadata": {
    "colab": {
      "provenance": [],
      "authorship_tag": "ABX9TyP0hi1+0yp+ztyM1rbe/+kA",
      "include_colab_link": true
    },
    "kernelspec": {
      "name": "python3",
      "display_name": "Python 3"
    },
    "language_info": {
      "name": "python"
    }
  },
  "cells": [
    {
      "cell_type": "markdown",
      "metadata": {
        "id": "view-in-github",
        "colab_type": "text"
      },
      "source": [
        "<a href=\"https://colab.research.google.com/github/bishair/Pirna/blob/main/ModelPirna.ipynb\" target=\"_parent\"><img src=\"https://colab.research.google.com/assets/colab-badge.svg\" alt=\"Open In Colab\"/></a>"
      ]
    },
    {
      "cell_type": "markdown",
      "source": [
        "# Import libraries and upload excel files for groundwater level and river water level separately"
      ],
      "metadata": {
        "id": "rJsBVc2YZ-vD"
      }
    },
    {
      "cell_type": "code",
      "execution_count": 1,
      "metadata": {
        "id": "6INebHJS8qAi"
      },
      "outputs": [],
      "source": [
        "import numpy as np\n",
        "import pandas as pd\n",
        "from google.colab import files\n",
        "import matplotlib.pyplot as plt\n",
        "from sklearn.preprocessing import MinMaxScaler\n",
        "from sklearn.metrics import mean_squared_error\n",
        "from tensorflow.keras.models import Sequential, load_model\n",
        "from tensorflow.keras.layers import LSTM, Dense\n",
        "from tensorflow.keras.optimizers import Adam\n",
        "from math import sqrt\n",
        "from tensorflow.keras.callbacks import EarlyStopping, ModelCheckpoint\n"
      ]
    },
    {
      "cell_type": "code",
      "source": [
        "uploaded_file = files.upload()"
      ],
      "metadata": {
        "id": "l5mGQVY5cWPI",
        "outputId": "c48bbbc9-b6f8-4df3-c7dd-c3c789be243e",
        "colab": {
          "base_uri": "https://localhost:8080/",
          "height": 73
        }
      },
      "execution_count": 9,
      "outputs": [
        {
          "output_type": "display_data",
          "data": {
            "text/plain": [
              "<IPython.core.display.HTML object>"
            ],
            "text/html": [
              "\n",
              "     <input type=\"file\" id=\"files-2a3cd438-828b-4e7a-b85f-137bce0d9a63\" name=\"files[]\" multiple disabled\n",
              "        style=\"border:none\" />\n",
              "     <output id=\"result-2a3cd438-828b-4e7a-b85f-137bce0d9a63\">\n",
              "      Upload widget is only available when the cell has been executed in the\n",
              "      current browser session. Please rerun this cell to enable.\n",
              "      </output>\n",
              "      <script>// Copyright 2017 Google LLC\n",
              "//\n",
              "// Licensed under the Apache License, Version 2.0 (the \"License\");\n",
              "// you may not use this file except in compliance with the License.\n",
              "// You may obtain a copy of the License at\n",
              "//\n",
              "//      http://www.apache.org/licenses/LICENSE-2.0\n",
              "//\n",
              "// Unless required by applicable law or agreed to in writing, software\n",
              "// distributed under the License is distributed on an \"AS IS\" BASIS,\n",
              "// WITHOUT WARRANTIES OR CONDITIONS OF ANY KIND, either express or implied.\n",
              "// See the License for the specific language governing permissions and\n",
              "// limitations under the License.\n",
              "\n",
              "/**\n",
              " * @fileoverview Helpers for google.colab Python module.\n",
              " */\n",
              "(function(scope) {\n",
              "function span(text, styleAttributes = {}) {\n",
              "  const element = document.createElement('span');\n",
              "  element.textContent = text;\n",
              "  for (const key of Object.keys(styleAttributes)) {\n",
              "    element.style[key] = styleAttributes[key];\n",
              "  }\n",
              "  return element;\n",
              "}\n",
              "\n",
              "// Max number of bytes which will be uploaded at a time.\n",
              "const MAX_PAYLOAD_SIZE = 100 * 1024;\n",
              "\n",
              "function _uploadFiles(inputId, outputId) {\n",
              "  const steps = uploadFilesStep(inputId, outputId);\n",
              "  const outputElement = document.getElementById(outputId);\n",
              "  // Cache steps on the outputElement to make it available for the next call\n",
              "  // to uploadFilesContinue from Python.\n",
              "  outputElement.steps = steps;\n",
              "\n",
              "  return _uploadFilesContinue(outputId);\n",
              "}\n",
              "\n",
              "// This is roughly an async generator (not supported in the browser yet),\n",
              "// where there are multiple asynchronous steps and the Python side is going\n",
              "// to poll for completion of each step.\n",
              "// This uses a Promise to block the python side on completion of each step,\n",
              "// then passes the result of the previous step as the input to the next step.\n",
              "function _uploadFilesContinue(outputId) {\n",
              "  const outputElement = document.getElementById(outputId);\n",
              "  const steps = outputElement.steps;\n",
              "\n",
              "  const next = steps.next(outputElement.lastPromiseValue);\n",
              "  return Promise.resolve(next.value.promise).then((value) => {\n",
              "    // Cache the last promise value to make it available to the next\n",
              "    // step of the generator.\n",
              "    outputElement.lastPromiseValue = value;\n",
              "    return next.value.response;\n",
              "  });\n",
              "}\n",
              "\n",
              "/**\n",
              " * Generator function which is called between each async step of the upload\n",
              " * process.\n",
              " * @param {string} inputId Element ID of the input file picker element.\n",
              " * @param {string} outputId Element ID of the output display.\n",
              " * @return {!Iterable<!Object>} Iterable of next steps.\n",
              " */\n",
              "function* uploadFilesStep(inputId, outputId) {\n",
              "  const inputElement = document.getElementById(inputId);\n",
              "  inputElement.disabled = false;\n",
              "\n",
              "  const outputElement = document.getElementById(outputId);\n",
              "  outputElement.innerHTML = '';\n",
              "\n",
              "  const pickedPromise = new Promise((resolve) => {\n",
              "    inputElement.addEventListener('change', (e) => {\n",
              "      resolve(e.target.files);\n",
              "    });\n",
              "  });\n",
              "\n",
              "  const cancel = document.createElement('button');\n",
              "  inputElement.parentElement.appendChild(cancel);\n",
              "  cancel.textContent = 'Cancel upload';\n",
              "  const cancelPromise = new Promise((resolve) => {\n",
              "    cancel.onclick = () => {\n",
              "      resolve(null);\n",
              "    };\n",
              "  });\n",
              "\n",
              "  // Wait for the user to pick the files.\n",
              "  const files = yield {\n",
              "    promise: Promise.race([pickedPromise, cancelPromise]),\n",
              "    response: {\n",
              "      action: 'starting',\n",
              "    }\n",
              "  };\n",
              "\n",
              "  cancel.remove();\n",
              "\n",
              "  // Disable the input element since further picks are not allowed.\n",
              "  inputElement.disabled = true;\n",
              "\n",
              "  if (!files) {\n",
              "    return {\n",
              "      response: {\n",
              "        action: 'complete',\n",
              "      }\n",
              "    };\n",
              "  }\n",
              "\n",
              "  for (const file of files) {\n",
              "    const li = document.createElement('li');\n",
              "    li.append(span(file.name, {fontWeight: 'bold'}));\n",
              "    li.append(span(\n",
              "        `(${file.type || 'n/a'}) - ${file.size} bytes, ` +\n",
              "        `last modified: ${\n",
              "            file.lastModifiedDate ? file.lastModifiedDate.toLocaleDateString() :\n",
              "                                    'n/a'} - `));\n",
              "    const percent = span('0% done');\n",
              "    li.appendChild(percent);\n",
              "\n",
              "    outputElement.appendChild(li);\n",
              "\n",
              "    const fileDataPromise = new Promise((resolve) => {\n",
              "      const reader = new FileReader();\n",
              "      reader.onload = (e) => {\n",
              "        resolve(e.target.result);\n",
              "      };\n",
              "      reader.readAsArrayBuffer(file);\n",
              "    });\n",
              "    // Wait for the data to be ready.\n",
              "    let fileData = yield {\n",
              "      promise: fileDataPromise,\n",
              "      response: {\n",
              "        action: 'continue',\n",
              "      }\n",
              "    };\n",
              "\n",
              "    // Use a chunked sending to avoid message size limits. See b/62115660.\n",
              "    let position = 0;\n",
              "    do {\n",
              "      const length = Math.min(fileData.byteLength - position, MAX_PAYLOAD_SIZE);\n",
              "      const chunk = new Uint8Array(fileData, position, length);\n",
              "      position += length;\n",
              "\n",
              "      const base64 = btoa(String.fromCharCode.apply(null, chunk));\n",
              "      yield {\n",
              "        response: {\n",
              "          action: 'append',\n",
              "          file: file.name,\n",
              "          data: base64,\n",
              "        },\n",
              "      };\n",
              "\n",
              "      let percentDone = fileData.byteLength === 0 ?\n",
              "          100 :\n",
              "          Math.round((position / fileData.byteLength) * 100);\n",
              "      percent.textContent = `${percentDone}% done`;\n",
              "\n",
              "    } while (position < fileData.byteLength);\n",
              "  }\n",
              "\n",
              "  // All done.\n",
              "  yield {\n",
              "    response: {\n",
              "      action: 'complete',\n",
              "    }\n",
              "  };\n",
              "}\n",
              "\n",
              "scope.google = scope.google || {};\n",
              "scope.google.colab = scope.google.colab || {};\n",
              "scope.google.colab._files = {\n",
              "  _uploadFiles,\n",
              "  _uploadFilesContinue,\n",
              "};\n",
              "})(self);\n",
              "</script> "
            ]
          },
          "metadata": {}
        },
        {
          "output_type": "stream",
          "name": "stdout",
          "text": [
            "Saving riverL.xlsx to riverL.xlsx\n"
          ]
        }
      ]
    },
    {
      "cell_type": "markdown",
      "source": [
        "# Main Functions\n",
        "**merge_and_resample:**\n",
        "\n",
        "Merge and preprocess data from two Excel files containing groundwater and river water level data along with their respective dates, function  reads the two files, merges the data on the date column, resamples it to an hourly frequency, and then applies forward fill to handle missing hours.\n",
        "\n",
        "**preprocess_data_for_lstm:**\n",
        "\n",
        "Handle missing values for groundwater level and river water level by using the previous value. Normalize the data in the range 0 to 1. Return numpy arrays for X and y and create sequences using windows of given length.\n",
        "\n",
        "**Train and save model:**\n",
        "Specify optimizer, loss function, batch size, epochs and number of neurons and layers for model training\n",
        "\n",
        "**detect_anomalies**\n",
        "The function uses a moving window approach, where the size of the window is defined by the window_size parameter. Within this moving window, it calculates the mean and standard deviation of 'G10' values. Anomalies are detected based on a z-score threshold, which is set to 2.0 by default. The z-score represents how many standard deviations a data point is from the moving average. Points where the absolute value of the z-score exceeds the specified threshold are flagged as anomalies. The function  returns the original DataFrame with an additional 'Anomaly' column, marking true where anomalies are detected in 'G10'.\n",
        "\n",
        "**preprocess_data_for_retraining**\n",
        "The preprocess_data_for_retraining function is used for preprocessing data for LSTM models, focusing on predicting the 'G10' variable using its past values along with 'River' variable. It accepts a pandas DataFrame containing these two columns and a parameter n_steps, which specifies the number of past time steps to consider for predicting future values. The function involves selecting relevant columns, handling missing values via forward filling, normalizing the data using MinMaxScaler, and creating sequential datasets suitable for LSTM. These sequences are constructed using the specified n_steps, forming feature and label sets (X and y). Finally, the data is split into training and testing sets,  70-30 split ratio, and the function returns these sets as numpy arrays for input to the lstm model"
      ],
      "metadata": {
        "id": "VnE41A-aAyEK"
      }
    },
    {
      "cell_type": "code",
      "source": [
        "#Use consistent time data, in case of missing observations use forward fill to have consistent time data\n",
        "#date_format= '%Y-%m-%d %H:%M:%S'\n",
        "\n",
        "def merge_and_resample(file_groundwater, file_river, date_format_groundwater, date_format_river):\n",
        "    # Read the groundwater level data\n",
        "    gw_data = pd.read_excel(file_groundwater)\n",
        "    gw_data['Date'] = pd.to_datetime(gw_data['Date'], format=date_format_groundwater)\n",
        "\n",
        "    # Read the river water level data\n",
        "    river_data = pd.read_excel(file_river)\n",
        "    river_data['Date'] = pd.to_datetime(river_data['Date'], format=date_format_river)\n",
        "\n",
        "    # Merge the two datasets on the 'Date' column\n",
        "    merged_data = pd.merge_asof(gw_data.sort_values('Date'), river_data.sort_values('Date'), on='Date', direction='nearest')\n",
        "\n",
        "    # Set 'Date' as the index\n",
        "    merged_data.set_index('Date', inplace=True)\n",
        "\n",
        "    # Create a new date range that starts from the first timestamp in merged_data\n",
        "    start_date = merged_data.index.min()\n",
        "    end_date = merged_data.index.max()\n",
        "    new_date_range = pd.date_range(start=start_date, end=end_date, freq='H')\n",
        "\n",
        "    # Reindex and resample merged_data with the new date range\n",
        "    resampled_data = merged_data.reindex(new_date_range).ffill().bfill()\n",
        "\n",
        "    return resampled_data\n",
        "\n"
      ],
      "metadata": {
        "id": "RNV7cskjCpe4"
      },
      "execution_count": 10,
      "outputs": []
    },
    {
      "cell_type": "code",
      "source": [
        "\n",
        "def preprocess_data_for_lstm(data, n_steps):\n",
        "    \"\"\"\n",
        "    Preprocess the data for LSTM model to predict 'G10' using past values of 'G10' and 'River'.\n",
        "    - data: pandas DataFrame containing 'G10' and 'River' columns.\n",
        "    - n_steps: number of time steps to use for predicting the next time step.\n",
        "\n",
        "    Returns:\n",
        "    - X, y: numpy arrays of features and labels suitable for LSTM model.\n",
        "    \"\"\"\n",
        "    # Handling missing values using forward fill\n",
        "    data = data.fillna(method='ffill')\n",
        "\n",
        "    # Normalizing the data\n",
        "    scaler = MinMaxScaler(feature_range=(0, 1))\n",
        "    data_scaled = scaler.fit_transform(data)\n",
        "\n",
        "    # Creating sequences\n",
        "    X, y = [], []\n",
        "    for i in range(n_steps, len(data_scaled)):\n",
        "        X.append(data_scaled[i-n_steps:i, :])\n",
        "        y.append(data_scaled[i, 0])\n",
        "\n",
        "    X, y = np.array(X), np.array(y)\n",
        "    # Split the data into training and testing sets\n",
        "    train_size = int(len(X) * 0.7)\n",
        "    test_size = len(X) - train_size\n",
        "    X_train, X_test = X[:train_size], X[train_size:]\n",
        "    y_train, y_test = y[:train_size], y[train_size:]\n",
        "    return X_train, y_train, X_test, y_test\n",
        "\n"
      ],
      "metadata": {
        "id": "J07A7V0sCwUM"
      },
      "execution_count": 11,
      "outputs": []
    },
    {
      "cell_type": "code",
      "source": [
        "def train_model(x_train, y_train, input_shape, epochs=100, batch_size=32):\n",
        "    model = Sequential([\n",
        "        LSTM(units=50, return_sequences=True, input_shape=input_shape),\n",
        "        LSTM(units=50),\n",
        "        Dense(1)\n",
        "    ])\n",
        "    model.compile(optimizer='adam', loss='mean_squared_error')\n",
        "    model.fit(x_train, y_train, epochs=epochs, batch_size=batch_size)\n",
        "    return model"
      ],
      "metadata": {
        "id": "QQAGaJsg3PlF"
      },
      "execution_count": 12,
      "outputs": []
    },
    {
      "cell_type": "code",
      "source": [
        "def save_model(model, filename='my_lstm_model.h5'):\n",
        "    model.save(filename)\n",
        "    return model"
      ],
      "metadata": {
        "id": "KDqFiGwMwFbw"
      },
      "execution_count": 13,
      "outputs": []
    },
    {
      "cell_type": "code",
      "source": [
        "def evaluate_model(model, x_test, y_test):\n",
        "    # Evaluate the model's performance on the test data\n",
        "    # It returns a list: [loss, mse]\n",
        "    loss = model.evaluate(x_test, y_test)\n",
        "    return loss\n"
      ],
      "metadata": {
        "id": "Jcxs1sP47RFE"
      },
      "execution_count": 14,
      "outputs": []
    },
    {
      "cell_type": "code",
      "source": [
        "def preprocess_data_for_retraining(data, n_steps):\n",
        "    \"\"\"\n",
        "    Preprocess the data for LSTM model to predict 'G10' using past values of 'G10' and 'River'.\n",
        "    - data: pandas DataFrame containing 'G10' and 'River' columns.\n",
        "    - n_steps: number of time steps to use for predicting the next time step.\n",
        "\n",
        "    Returns:\n",
        "    - X, y: numpy arrays of features and labels suitable for LSTM model.\n",
        "    \"\"\"\n",
        "    # Select only relevant columns\n",
        "    relevant_data = data[['G10', 'River']].copy()\n",
        "\n",
        "    # Handling missing values using forward fill\n",
        "    relevant_data.fillna(method='ffill', inplace=True)\n",
        "\n",
        "    # Normalizing the data\n",
        "    scaler = MinMaxScaler(feature_range=(0, 1))\n",
        "    data_scaled = scaler.fit_transform(relevant_data)\n",
        "\n",
        "\n",
        "    # Creating sequences\n",
        "    X, y = [], []\n",
        "    for i in range(n_steps, len(data_scaled)):\n",
        "        X.append(data_scaled[i-n_steps:i, :])\n",
        "        y.append(data_scaled[i, 0])\n",
        "\n",
        "    X, y = np.array(X), np.array(y)\n",
        "    # Split the data into training and testing sets\n",
        "    train_size = int(len(X) * 0.7)\n",
        "    test_size = len(X) - train_size\n",
        "    X_train, X_test = X[:train_size], X[train_size:]\n",
        "    y_train, y_test = y[:train_size], y[train_size:]\n",
        "    return X_train, y_train, X_test, y_test"
      ],
      "metadata": {
        "id": "fi6uCkHtPQJ3"
      },
      "execution_count": 22,
      "outputs": []
    },
    {
      "cell_type": "code",
      "source": [
        "def detect_anomalies(data, window_size, threshold=2.0):\n",
        "    \"\"\"\n",
        "    Detects anomalies in the 'G10' column of a time series data using a moving window method.\n",
        "\n",
        "    - data: pandas DataFrame with a datetime index and at least a 'G10' column for groundwater levels.\n",
        "    - window_size: The size of the moving window.\n",
        "    - threshold: The z-score threshold to identify an anomaly.\n",
        "\n",
        "    Returns a DataFrame with an 'Anomaly' column indicating True where anomalies were detected in 'G10'.\n",
        "    \"\"\"\n",
        "    # Calculate the moving average and standard deviation for 'G10'\n",
        "    rolling_mean = data['G10'].rolling(window=window_size).mean()\n",
        "    rolling_std = data['G10'].rolling(window=window_size).std()\n",
        "\n",
        "    # Calculate the z-score for each data point in 'G10'\n",
        "    data['Z-Score'] = (data['G10'] - rolling_mean) / rolling_std\n",
        "\n",
        "    # Identify data points where the absolute z-score exceeds the threshold\n",
        "    data['Anomaly'] = abs(data['Z-Score']) > threshold\n",
        "\n",
        "    return data"
      ],
      "metadata": {
        "id": "HzP083qCPU2G"
      },
      "execution_count": 23,
      "outputs": []
    },
    {
      "cell_type": "markdown",
      "source": [
        "# Forward fill the missing hours by calling merge_and_resample function"
      ],
      "metadata": {
        "id": "hARmXNjJb4hi"
      }
    },
    {
      "cell_type": "code",
      "source": [],
      "metadata": {
        "id": "XNi8HiFHPRJK"
      },
      "execution_count": null,
      "outputs": []
    },
    {
      "cell_type": "code",
      "source": [
        "merged_df = merge_and_resample('groundwater.xlsx','riverL.xlsx', '%d/%m/%Y %H:%M' ,'%d/%m/%Y %H:%M')"
      ],
      "metadata": {
        "id": "avxbtdkKcION"
      },
      "execution_count": 15,
      "outputs": []
    },
    {
      "cell_type": "markdown",
      "source": [
        "# Preprocess and define window size for LSTM model by using function(preprocess_data_for_lstm)"
      ],
      "metadata": {
        "id": "kUOcioyCTZX3"
      }
    },
    {
      "cell_type": "code",
      "source": [
        "n_steps = 24\n",
        "X_train, y_train, X_test, y_test = preprocess_data_for_lstm(merged_df, n_steps)"
      ],
      "metadata": {
        "id": "hIAGj9yYdAZ4"
      },
      "execution_count": 16,
      "outputs": []
    },
    {
      "cell_type": "markdown",
      "source": [
        "# Train and save model"
      ],
      "metadata": {
        "id": "wnhy7q1Q34vR"
      }
    },
    {
      "cell_type": "code",
      "source": [
        "\"\"\"\n",
        "input_shape  includes two dimensions: (time_steps, features)\n",
        "Time Steps: Number of time intervals or sequences each input sample consists of.\n",
        "Features: Number of variables observed at each time step.\n",
        "\"\"\"\n",
        "\n",
        "input_shape=(X_train.shape[1], X_train.shape[2])\n",
        "epochs=40\n",
        "batch_size=64\n",
        "trained_model = train_model(X_train, y_train, input_shape, epochs, batch_size)"
      ],
      "metadata": {
        "id": "WWsw7z_F39tD",
        "outputId": "1bc7f2e7-3fab-40f7-d744-8c21a4854d36",
        "colab": {
          "base_uri": "https://localhost:8080/"
        }
      },
      "execution_count": 17,
      "outputs": [
        {
          "output_type": "stream",
          "name": "stdout",
          "text": [
            "Epoch 1/40\n",
            "192/192 [==============================] - 12s 40ms/step - loss: 2.4066e-04\n",
            "Epoch 2/40\n",
            "192/192 [==============================] - 7s 35ms/step - loss: 7.8798e-06\n",
            "Epoch 3/40\n",
            "192/192 [==============================] - 8s 41ms/step - loss: 6.8063e-06\n",
            "Epoch 4/40\n",
            "192/192 [==============================] - 7s 35ms/step - loss: 1.4176e-05\n",
            "Epoch 5/40\n",
            "192/192 [==============================] - 7s 38ms/step - loss: 8.8629e-06\n",
            "Epoch 6/40\n",
            "192/192 [==============================] - 6s 33ms/step - loss: 8.2022e-06\n",
            "Epoch 7/40\n",
            "192/192 [==============================] - 8s 39ms/step - loss: 7.2290e-06\n",
            "Epoch 8/40\n",
            "192/192 [==============================] - 6s 30ms/step - loss: 1.0168e-05\n",
            "Epoch 9/40\n",
            "192/192 [==============================] - 8s 39ms/step - loss: 4.8136e-06\n",
            "Epoch 10/40\n",
            "192/192 [==============================] - 6s 31ms/step - loss: 1.3886e-05\n",
            "Epoch 11/40\n",
            "192/192 [==============================] - 8s 40ms/step - loss: 9.7894e-06\n",
            "Epoch 12/40\n",
            "192/192 [==============================] - 6s 33ms/step - loss: 4.6006e-06\n",
            "Epoch 13/40\n",
            "192/192 [==============================] - 7s 39ms/step - loss: 6.4094e-06\n",
            "Epoch 14/40\n",
            "192/192 [==============================] - 6s 33ms/step - loss: 3.5523e-06\n",
            "Epoch 15/40\n",
            "192/192 [==============================] - 7s 39ms/step - loss: 5.9077e-06\n",
            "Epoch 16/40\n",
            "192/192 [==============================] - 6s 33ms/step - loss: 3.1710e-06\n",
            "Epoch 17/40\n",
            "192/192 [==============================] - 8s 42ms/step - loss: 3.9560e-06\n",
            "Epoch 18/40\n",
            "192/192 [==============================] - 6s 31ms/step - loss: 4.0427e-06\n",
            "Epoch 19/40\n",
            "192/192 [==============================] - 8s 40ms/step - loss: 5.4455e-06\n",
            "Epoch 20/40\n",
            "192/192 [==============================] - 6s 33ms/step - loss: 3.7320e-06\n",
            "Epoch 21/40\n",
            "192/192 [==============================] - 7s 38ms/step - loss: 8.6853e-06\n",
            "Epoch 22/40\n",
            "192/192 [==============================] - 7s 35ms/step - loss: 3.5672e-06\n",
            "Epoch 23/40\n",
            "192/192 [==============================] - 9s 45ms/step - loss: 3.1194e-06\n",
            "Epoch 24/40\n",
            "192/192 [==============================] - 6s 33ms/step - loss: 6.1485e-06\n",
            "Epoch 25/40\n",
            "192/192 [==============================] - 8s 41ms/step - loss: 2.2044e-06\n",
            "Epoch 26/40\n",
            "192/192 [==============================] - 7s 35ms/step - loss: 2.9516e-06\n",
            "Epoch 27/40\n",
            "192/192 [==============================] - 8s 40ms/step - loss: 3.7374e-06\n",
            "Epoch 28/40\n",
            "192/192 [==============================] - 7s 39ms/step - loss: 4.5786e-06\n",
            "Epoch 29/40\n",
            "192/192 [==============================] - 7s 38ms/step - loss: 5.9755e-06\n",
            "Epoch 30/40\n",
            "192/192 [==============================] - 7s 36ms/step - loss: 6.4716e-06\n",
            "Epoch 31/40\n",
            "192/192 [==============================] - 7s 34ms/step - loss: 1.5657e-06\n",
            "Epoch 32/40\n",
            "192/192 [==============================] - 6s 33ms/step - loss: 2.0957e-06\n",
            "Epoch 33/40\n",
            "192/192 [==============================] - 7s 37ms/step - loss: 2.1317e-06\n",
            "Epoch 34/40\n",
            "192/192 [==============================] - 6s 32ms/step - loss: 5.3950e-06\n",
            "Epoch 35/40\n",
            "192/192 [==============================] - 7s 39ms/step - loss: 3.3119e-06\n",
            "Epoch 36/40\n",
            "192/192 [==============================] - 6s 32ms/step - loss: 2.1433e-06\n",
            "Epoch 37/40\n",
            "192/192 [==============================] - 8s 39ms/step - loss: 3.7665e-06\n",
            "Epoch 38/40\n",
            "192/192 [==============================] - 6s 33ms/step - loss: 2.3952e-06\n",
            "Epoch 39/40\n",
            "192/192 [==============================] - 7s 38ms/step - loss: 2.4072e-06\n",
            "Epoch 40/40\n",
            "192/192 [==============================] - 6s 33ms/step - loss: 3.2477e-06\n"
          ]
        }
      ]
    },
    {
      "cell_type": "code",
      "source": [
        "saved_model = save_model(trained_model)\n",
        "print(saved_model)"
      ],
      "metadata": {
        "id": "L_85BVOFwLzv",
        "outputId": "22f0e8a8-5a6c-41c6-c2f0-947f31d44bcd",
        "colab": {
          "base_uri": "https://localhost:8080/"
        }
      },
      "execution_count": 18,
      "outputs": [
        {
          "output_type": "stream",
          "name": "stdout",
          "text": [
            "<keras.src.engine.sequential.Sequential object at 0x79971d12a650>\n"
          ]
        },
        {
          "output_type": "stream",
          "name": "stderr",
          "text": [
            "/usr/local/lib/python3.10/dist-packages/keras/src/engine/training.py:3103: UserWarning: You are saving your model as an HDF5 file via `model.save()`. This file format is considered legacy. We recommend using instead the native Keras format, e.g. `model.save('my_model.keras')`.\n",
            "  saving_api.save_model(\n"
          ]
        }
      ]
    },
    {
      "cell_type": "markdown",
      "source": [
        "# Evaluate Model by calculating MSE"
      ],
      "metadata": {
        "id": "Kz6vjfaa77KM"
      }
    },
    {
      "cell_type": "code",
      "source": [
        "evaluate_model(saved_model, X_test, y_test)\n"
      ],
      "metadata": {
        "id": "S7mtsoLI5LoB",
        "outputId": "588b3825-d9f3-489e-8d0f-37d18da4b4df",
        "colab": {
          "base_uri": "https://localhost:8080/"
        }
      },
      "execution_count": 19,
      "outputs": [
        {
          "output_type": "stream",
          "name": "stdout",
          "text": [
            "165/165 [==============================] - 3s 10ms/step - loss: 1.1820e-07\n"
          ]
        },
        {
          "output_type": "execute_result",
          "data": {
            "text/plain": [
              "1.1820337419976568e-07"
            ]
          },
          "metadata": {},
          "execution_count": 19
        }
      ]
    },
    {
      "cell_type": "markdown",
      "source": [
        "# ------------------------**Anomaly detection in new data**------------------------------"
      ],
      "metadata": {
        "id": "j-hGDSkQxIo7"
      }
    },
    {
      "cell_type": "code",
      "source": [
        "uploaded_file = files.upload()"
      ],
      "metadata": {
        "id": "PhTis7zb3EVN",
        "outputId": "8c4cef36-cd45-4d9d-934b-611e6a0adc84",
        "colab": {
          "base_uri": "https://localhost:8080/",
          "height": 73
        }
      },
      "execution_count": 25,
      "outputs": [
        {
          "output_type": "display_data",
          "data": {
            "text/plain": [
              "<IPython.core.display.HTML object>"
            ],
            "text/html": [
              "\n",
              "     <input type=\"file\" id=\"files-e4bf3ad2-bd5e-4128-9639-99a266eb38ef\" name=\"files[]\" multiple disabled\n",
              "        style=\"border:none\" />\n",
              "     <output id=\"result-e4bf3ad2-bd5e-4128-9639-99a266eb38ef\">\n",
              "      Upload widget is only available when the cell has been executed in the\n",
              "      current browser session. Please rerun this cell to enable.\n",
              "      </output>\n",
              "      <script>// Copyright 2017 Google LLC\n",
              "//\n",
              "// Licensed under the Apache License, Version 2.0 (the \"License\");\n",
              "// you may not use this file except in compliance with the License.\n",
              "// You may obtain a copy of the License at\n",
              "//\n",
              "//      http://www.apache.org/licenses/LICENSE-2.0\n",
              "//\n",
              "// Unless required by applicable law or agreed to in writing, software\n",
              "// distributed under the License is distributed on an \"AS IS\" BASIS,\n",
              "// WITHOUT WARRANTIES OR CONDITIONS OF ANY KIND, either express or implied.\n",
              "// See the License for the specific language governing permissions and\n",
              "// limitations under the License.\n",
              "\n",
              "/**\n",
              " * @fileoverview Helpers for google.colab Python module.\n",
              " */\n",
              "(function(scope) {\n",
              "function span(text, styleAttributes = {}) {\n",
              "  const element = document.createElement('span');\n",
              "  element.textContent = text;\n",
              "  for (const key of Object.keys(styleAttributes)) {\n",
              "    element.style[key] = styleAttributes[key];\n",
              "  }\n",
              "  return element;\n",
              "}\n",
              "\n",
              "// Max number of bytes which will be uploaded at a time.\n",
              "const MAX_PAYLOAD_SIZE = 100 * 1024;\n",
              "\n",
              "function _uploadFiles(inputId, outputId) {\n",
              "  const steps = uploadFilesStep(inputId, outputId);\n",
              "  const outputElement = document.getElementById(outputId);\n",
              "  // Cache steps on the outputElement to make it available for the next call\n",
              "  // to uploadFilesContinue from Python.\n",
              "  outputElement.steps = steps;\n",
              "\n",
              "  return _uploadFilesContinue(outputId);\n",
              "}\n",
              "\n",
              "// This is roughly an async generator (not supported in the browser yet),\n",
              "// where there are multiple asynchronous steps and the Python side is going\n",
              "// to poll for completion of each step.\n",
              "// This uses a Promise to block the python side on completion of each step,\n",
              "// then passes the result of the previous step as the input to the next step.\n",
              "function _uploadFilesContinue(outputId) {\n",
              "  const outputElement = document.getElementById(outputId);\n",
              "  const steps = outputElement.steps;\n",
              "\n",
              "  const next = steps.next(outputElement.lastPromiseValue);\n",
              "  return Promise.resolve(next.value.promise).then((value) => {\n",
              "    // Cache the last promise value to make it available to the next\n",
              "    // step of the generator.\n",
              "    outputElement.lastPromiseValue = value;\n",
              "    return next.value.response;\n",
              "  });\n",
              "}\n",
              "\n",
              "/**\n",
              " * Generator function which is called between each async step of the upload\n",
              " * process.\n",
              " * @param {string} inputId Element ID of the input file picker element.\n",
              " * @param {string} outputId Element ID of the output display.\n",
              " * @return {!Iterable<!Object>} Iterable of next steps.\n",
              " */\n",
              "function* uploadFilesStep(inputId, outputId) {\n",
              "  const inputElement = document.getElementById(inputId);\n",
              "  inputElement.disabled = false;\n",
              "\n",
              "  const outputElement = document.getElementById(outputId);\n",
              "  outputElement.innerHTML = '';\n",
              "\n",
              "  const pickedPromise = new Promise((resolve) => {\n",
              "    inputElement.addEventListener('change', (e) => {\n",
              "      resolve(e.target.files);\n",
              "    });\n",
              "  });\n",
              "\n",
              "  const cancel = document.createElement('button');\n",
              "  inputElement.parentElement.appendChild(cancel);\n",
              "  cancel.textContent = 'Cancel upload';\n",
              "  const cancelPromise = new Promise((resolve) => {\n",
              "    cancel.onclick = () => {\n",
              "      resolve(null);\n",
              "    };\n",
              "  });\n",
              "\n",
              "  // Wait for the user to pick the files.\n",
              "  const files = yield {\n",
              "    promise: Promise.race([pickedPromise, cancelPromise]),\n",
              "    response: {\n",
              "      action: 'starting',\n",
              "    }\n",
              "  };\n",
              "\n",
              "  cancel.remove();\n",
              "\n",
              "  // Disable the input element since further picks are not allowed.\n",
              "  inputElement.disabled = true;\n",
              "\n",
              "  if (!files) {\n",
              "    return {\n",
              "      response: {\n",
              "        action: 'complete',\n",
              "      }\n",
              "    };\n",
              "  }\n",
              "\n",
              "  for (const file of files) {\n",
              "    const li = document.createElement('li');\n",
              "    li.append(span(file.name, {fontWeight: 'bold'}));\n",
              "    li.append(span(\n",
              "        `(${file.type || 'n/a'}) - ${file.size} bytes, ` +\n",
              "        `last modified: ${\n",
              "            file.lastModifiedDate ? file.lastModifiedDate.toLocaleDateString() :\n",
              "                                    'n/a'} - `));\n",
              "    const percent = span('0% done');\n",
              "    li.appendChild(percent);\n",
              "\n",
              "    outputElement.appendChild(li);\n",
              "\n",
              "    const fileDataPromise = new Promise((resolve) => {\n",
              "      const reader = new FileReader();\n",
              "      reader.onload = (e) => {\n",
              "        resolve(e.target.result);\n",
              "      };\n",
              "      reader.readAsArrayBuffer(file);\n",
              "    });\n",
              "    // Wait for the data to be ready.\n",
              "    let fileData = yield {\n",
              "      promise: fileDataPromise,\n",
              "      response: {\n",
              "        action: 'continue',\n",
              "      }\n",
              "    };\n",
              "\n",
              "    // Use a chunked sending to avoid message size limits. See b/62115660.\n",
              "    let position = 0;\n",
              "    do {\n",
              "      const length = Math.min(fileData.byteLength - position, MAX_PAYLOAD_SIZE);\n",
              "      const chunk = new Uint8Array(fileData, position, length);\n",
              "      position += length;\n",
              "\n",
              "      const base64 = btoa(String.fromCharCode.apply(null, chunk));\n",
              "      yield {\n",
              "        response: {\n",
              "          action: 'append',\n",
              "          file: file.name,\n",
              "          data: base64,\n",
              "        },\n",
              "      };\n",
              "\n",
              "      let percentDone = fileData.byteLength === 0 ?\n",
              "          100 :\n",
              "          Math.round((position / fileData.byteLength) * 100);\n",
              "      percent.textContent = `${percentDone}% done`;\n",
              "\n",
              "    } while (position < fileData.byteLength);\n",
              "  }\n",
              "\n",
              "  // All done.\n",
              "  yield {\n",
              "    response: {\n",
              "      action: 'complete',\n",
              "    }\n",
              "  };\n",
              "}\n",
              "\n",
              "scope.google = scope.google || {};\n",
              "scope.google.colab = scope.google.colab || {};\n",
              "scope.google.colab._files = {\n",
              "  _uploadFiles,\n",
              "  _uploadFilesContinue,\n",
              "};\n",
              "})(self);\n",
              "</script> "
            ]
          },
          "metadata": {}
        },
        {
          "output_type": "stream",
          "name": "stdout",
          "text": [
            "Saving river_a.xlsx to river_a.xlsx\n"
          ]
        }
      ]
    },
    {
      "cell_type": "code",
      "source": [
        "# Merge two new excel files and resampled to have consistent hourly dates\n",
        "merged_df_new = merge_and_resample('gw_a.xlsx','river_a.xlsx', '%d/%m/%Y %H:%M' ,'%d/%m/%Y %H:%M')"
      ],
      "metadata": {
        "id": "PknTvmLk4NWX"
      },
      "execution_count": 27,
      "outputs": []
    },
    {
      "cell_type": "code",
      "source": [
        "#Call detect anomalies function and check for any anomalies in new data. This function will result in a dataframe containing z-score values and boolean for anomaly values\n",
        "anomaly_df = detect_anomalies(merged_df_new, 3, threshold=1)"
      ],
      "metadata": {
        "id": "E3tvqzojR2LB"
      },
      "execution_count": 31,
      "outputs": []
    },
    {
      "cell_type": "code",
      "source": [
        "# Check for anomalies\n",
        "if anomaly_df['Anomaly'].any():\n",
        "    # Merge old and new data\n",
        "    combined_data = pd.concat([merged_df, merged_df_new])\n",
        "    # Preprocess the combined data for retraining\n",
        "    X_train, y_train, X_test, y_test = preprocess_data_for_retraining(combined_data, n_steps)\n",
        "\n",
        "    # Define the input shape for the LSTM model\n",
        "    input_shape = (X_train.shape[1], X_train.shape[2])\n",
        "\n",
        "    # Retrain the model\n",
        "    trained_model = train_model(X_train, y_train, input_shape, epochs=40, batch_size=64)\n",
        "\n",
        "    # Evaluate and save the retrained model\n",
        "    saved_model = save_model(trained_model)\n",
        "    print(\"Model retrained due to anomaly detection.\")\n",
        "    evaluate_model(saved_model, X_test, y_test)\n",
        "else:\n",
        "    print(\"No anomalies detected, no retraining required.\")\n"
      ],
      "metadata": {
        "id": "lKwVOeMZR-Um",
        "outputId": "6b20e469-d868-4940-8809-e0bd55fc9e30",
        "colab": {
          "base_uri": "https://localhost:8080/"
        }
      },
      "execution_count": 35,
      "outputs": [
        {
          "output_type": "stream",
          "name": "stdout",
          "text": [
            "Epoch 1/40\n",
            "364/364 [==============================] - 18s 35ms/step - loss: 0.0031\n",
            "Epoch 2/40\n",
            "364/364 [==============================] - 14s 38ms/step - loss: 3.5876e-05\n",
            "Epoch 3/40\n",
            "364/364 [==============================] - 13s 36ms/step - loss: 2.4244e-05\n",
            "Epoch 4/40\n",
            "364/364 [==============================] - 13s 37ms/step - loss: 2.3736e-05\n",
            "Epoch 5/40\n",
            "364/364 [==============================] - 13s 36ms/step - loss: 2.2133e-05\n",
            "Epoch 6/40\n",
            "364/364 [==============================] - 13s 36ms/step - loss: 2.4120e-05\n",
            "Epoch 7/40\n",
            "364/364 [==============================] - 14s 38ms/step - loss: 2.4847e-05\n",
            "Epoch 8/40\n",
            "364/364 [==============================] - 13s 36ms/step - loss: 2.2990e-05\n",
            "Epoch 9/40\n",
            "364/364 [==============================] - 13s 35ms/step - loss: 2.2764e-05\n",
            "Epoch 10/40\n",
            "364/364 [==============================] - 14s 37ms/step - loss: 2.2445e-05\n",
            "Epoch 11/40\n",
            "364/364 [==============================] - 13s 37ms/step - loss: 2.3590e-05\n",
            "Epoch 12/40\n",
            "364/364 [==============================] - 14s 37ms/step - loss: 1.9170e-05\n",
            "Epoch 13/40\n",
            "364/364 [==============================] - 13s 37ms/step - loss: 2.0385e-05\n",
            "Epoch 14/40\n",
            "364/364 [==============================] - 13s 37ms/step - loss: 1.9960e-05\n",
            "Epoch 15/40\n",
            "364/364 [==============================] - 14s 38ms/step - loss: 2.1439e-05\n",
            "Epoch 16/40\n",
            "364/364 [==============================] - 14s 37ms/step - loss: 2.0974e-05\n",
            "Epoch 17/40\n",
            "364/364 [==============================] - 13s 37ms/step - loss: 1.6394e-05\n",
            "Epoch 18/40\n",
            "364/364 [==============================] - 13s 35ms/step - loss: 1.7323e-05\n",
            "Epoch 19/40\n",
            "364/364 [==============================] - 13s 35ms/step - loss: 1.4872e-05\n",
            "Epoch 20/40\n",
            "364/364 [==============================] - 13s 37ms/step - loss: 1.3946e-05\n",
            "Epoch 21/40\n",
            "364/364 [==============================] - 13s 36ms/step - loss: 1.4787e-05\n",
            "Epoch 22/40\n",
            "364/364 [==============================] - 13s 37ms/step - loss: 1.3438e-05\n",
            "Epoch 23/40\n",
            "364/364 [==============================] - 14s 37ms/step - loss: 1.3479e-05\n",
            "Epoch 24/40\n",
            "364/364 [==============================] - 13s 36ms/step - loss: 1.1390e-05\n",
            "Epoch 25/40\n",
            "364/364 [==============================] - 13s 36ms/step - loss: 1.3242e-05\n",
            "Epoch 26/40\n",
            "364/364 [==============================] - 13s 36ms/step - loss: 1.3495e-05\n",
            "Epoch 27/40\n",
            "364/364 [==============================] - 13s 37ms/step - loss: 1.1384e-05\n",
            "Epoch 28/40\n",
            "364/364 [==============================] - 13s 36ms/step - loss: 1.0843e-05\n",
            "Epoch 29/40\n",
            "364/364 [==============================] - 14s 37ms/step - loss: 1.1452e-05\n",
            "Epoch 30/40\n",
            "364/364 [==============================] - 13s 36ms/step - loss: 9.7249e-06\n",
            "Epoch 31/40\n",
            "364/364 [==============================] - 13s 37ms/step - loss: 1.1072e-05\n",
            "Epoch 32/40\n",
            "364/364 [==============================] - 13s 36ms/step - loss: 9.5089e-06\n",
            "Epoch 33/40\n",
            "364/364 [==============================] - 13s 35ms/step - loss: 7.9812e-06\n",
            "Epoch 34/40\n",
            "364/364 [==============================] - 13s 35ms/step - loss: 9.1596e-06\n",
            "Epoch 35/40\n",
            "364/364 [==============================] - 13s 37ms/step - loss: 9.8500e-06\n",
            "Epoch 36/40\n",
            "364/364 [==============================] - 13s 35ms/step - loss: 8.4835e-06\n",
            "Epoch 37/40\n",
            "364/364 [==============================] - 13s 35ms/step - loss: 7.7917e-06\n",
            "Epoch 38/40\n",
            "364/364 [==============================] - 13s 36ms/step - loss: 8.2404e-06\n",
            "Epoch 39/40\n",
            "364/364 [==============================] - 13s 36ms/step - loss: 7.5060e-06\n",
            "Epoch 40/40\n",
            "364/364 [==============================] - 13s 37ms/step - loss: 7.0643e-06\n"
          ]
        },
        {
          "output_type": "stream",
          "name": "stderr",
          "text": [
            "/usr/local/lib/python3.10/dist-packages/keras/src/engine/training.py:3103: UserWarning: You are saving your model as an HDF5 file via `model.save()`. This file format is considered legacy. We recommend using instead the native Keras format, e.g. `model.save('my_model.keras')`.\n",
            "  saving_api.save_model(\n"
          ]
        },
        {
          "output_type": "stream",
          "name": "stdout",
          "text": [
            "Model retrained due to anomaly detection.\n",
            "312/312 [==============================] - 4s 10ms/step - loss: 2.4797e-07\n"
          ]
        }
      ]
    },
    {
      "cell_type": "code",
      "source": [],
      "metadata": {
        "id": "uVmBjq2WWPHp"
      },
      "execution_count": null,
      "outputs": []
    }
  ]
}
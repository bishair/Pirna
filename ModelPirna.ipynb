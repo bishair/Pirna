{
  "nbformat": 4,
  "nbformat_minor": 0,
  "metadata": {
    "colab": {
      "provenance": [],
      "authorship_tag": "ABX9TyOpEW0Y4e4PzGuTlbZ0xMQ7",
      "include_colab_link": true
    },
    "kernelspec": {
      "name": "python3",
      "display_name": "Python 3"
    },
    "language_info": {
      "name": "python"
    }
  },
  "cells": [
    {
      "cell_type": "markdown",
      "metadata": {
        "id": "view-in-github",
        "colab_type": "text"
      },
      "source": [
        "<a href=\"https://colab.research.google.com/github/bishair/Pirna/blob/main/ModelPirna.ipynb\" target=\"_parent\"><img src=\"https://colab.research.google.com/assets/colab-badge.svg\" alt=\"Open In Colab\"/></a>"
      ]
    },
    {
      "cell_type": "code",
      "execution_count": 1,
      "metadata": {
        "id": "6INebHJS8qAi"
      },
      "outputs": [],
      "source": [
        "import numpy as np\n",
        "import pandas as pd\n",
        "from google.colab import files\n",
        "import matplotlib.pyplot as plt\n",
        "from sklearn.preprocessing import MinMaxScaler\n",
        "from sklearn.metrics import mean_squared_error\n",
        "from tensorflow.keras.models import Sequential\n",
        "from tensorflow.keras.layers import LSTM, Dense\n",
        "from tensorflow.keras.optimizers import Adam\n",
        "from math import sqrt\n",
        "from tensorflow.keras.callbacks import EarlyStopping, ModelCheckpoint"
      ]
    },
    {
      "cell_type": "markdown",
      "source": [
        "# Main Functions\n",
        "**merge_and_resample:**\n",
        "\n",
        "Merge and preprocess data from two Excel files containing groundwater and river water level data along with their respective dates, function  reads the two files, merges the data on the date column, resamples it to an hourly frequency, and then applies forward fill to handle missing data"
      ],
      "metadata": {
        "id": "VnE41A-aAyEK"
      }
    },
    {
      "cell_type": "code",
      "source": [
        "#Use consistent time data, in case of missing observations use forward fill to have consistent time data\n",
        "#date_format= '%Y-%m-%d %H:%M:%S'\n",
        "\n",
        "def merge_and_resample(file_groundwater, file_river, date_format_groundwater, date_format_river):\n",
        "    # Read the groundwater level data\n",
        "    gw_data = pd.read_excel(file_groundwater)\n",
        "    gw_data['Date'] = pd.to_datetime(gw_data['Date'], format=date_format_groundwater)\n",
        "\n",
        "    # Read the river water level data\n",
        "    river_data = pd.read_excel(file_river)\n",
        "    river_data['Date'] = pd.to_datetime(river_data['Date'], format=date_format_river)\n",
        "\n",
        "    # Merge the two datasets on the 'Date' column\n",
        "    merged_data = pd.merge_asof(gw_data.sort_values('Date'), river_data.sort_values('Date'), on='Date', direction='nearest')\n",
        "\n",
        "    # Set 'Date' as the index\n",
        "    merged_data.set_index('Date', inplace=True)\n",
        "\n",
        "    # Resample the data to hourly frequency and forward fill missing values\n",
        "    resampled_data = merged_data.resample('H').ffill()\n",
        "\n",
        "    # Reset index so that 'Date' is a column again\n",
        "    resampled_data.reset_index(inplace=True)\n",
        "\n",
        "    return resampled_data\n",
        "\n",
        ""
      ],
      "metadata": {
        "id": "RNV7cskjCpe4"
      },
      "execution_count": null,
      "outputs": []
    },
    {
      "cell_type": "code",
      "source": [],
      "metadata": {
        "id": "J07A7V0sCwUM"
      },
      "execution_count": null,
      "outputs": []
    }
  ]
}
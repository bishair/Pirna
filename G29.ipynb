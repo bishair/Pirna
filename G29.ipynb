{
  "nbformat": 4,
  "nbformat_minor": 0,
  "metadata": {
    "colab": {
      "provenance": [],
      "authorship_tag": "ABX9TyOQWYUfVCjR5HmgC3CV2yo5",
      "include_colab_link": true
    },
    "kernelspec": {
      "name": "python3",
      "display_name": "Python 3"
    },
    "language_info": {
      "name": "python"
    }
  },
  "cells": [
    {
      "cell_type": "markdown",
      "metadata": {
        "id": "view-in-github",
        "colab_type": "text"
      },
      "source": [
        "<a href=\"https://colab.research.google.com/github/bishair/Pirna/blob/main/G29.ipynb\" target=\"_parent\"><img src=\"https://colab.research.google.com/assets/colab-badge.svg\" alt=\"Open In Colab\"/></a>"
      ]
    },
    {
      "cell_type": "code",
      "execution_count": 19,
      "metadata": {
        "id": "FBjmm3NyjfpZ"
      },
      "outputs": [],
      "source": [
        "import numpy as np\n",
        "import pandas as pd\n",
        "from google.colab import files\n",
        "import matplotlib.pyplot as plt\n",
        "from sklearn.preprocessing import MinMaxScaler\n",
        "from sklearn.metrics import mean_squared_error\n",
        "from tensorflow.keras.models import Sequential, load_model\n",
        "from tensorflow.keras.layers import LSTM, Dense\n",
        "from tensorflow.keras.optimizers import Adam\n",
        "from math import sqrt\n",
        "from tensorflow.keras.callbacks import EarlyStopping, ModelCheckpoint\n",
        "from keras.models import load_model\n",
        "import matplotlib.pyplot as plt\n",
        "from IPython.display import display\n",
        "import joblib\n",
        "from keras.models import Sequential\n",
        "from keras.layers import LSTM, Dense, Dropout\n",
        "from keras.regularizers import l1_l2\n"
      ]
    },
    {
      "cell_type": "code",
      "source": [
        "'''import numpy as np\n",
        "from tensorflow.keras.models import Sequential\n",
        "from tensorflow.keras.layers import LSTM, Dense\n",
        "\n",
        "# Example parameters\n",
        "n_features = 1  # number of features in your data; modify as per your dataset\n",
        "input_sequence_length = 24  # number of time steps in the input\n",
        "output_sequence_length = 24  # number of time steps to predict\n",
        "\n",
        "# Define the LSTM model\n",
        "model = Sequential()\n",
        "model.add(LSTM(50, activation='relu', return_sequences=True, input_shape=(input_sequence_length, n_features)))\n",
        "model.add(LSTM(50, activation='relu'))\n",
        "model.add(Dense(output_sequence_length))\n",
        "\n",
        "model.compile(optimizer='adam', loss='mean_squared_error')\n",
        "\n",
        "# Example input data shape: (number of samples, input_sequence_length, n_features)\n",
        "# Example output data shape: (number of samples, output_sequence_length)\n",
        "\n",
        "# Mock data for demonstration (replace with your actual data)\n",
        "X_train = np.random.random((100, input_sequence_length, n_features))  # replace with your training data\n",
        "y_train = np.random.random((100, output_sequence_length))  # replace with your training labels\n",
        "\n",
        "# Train the model\n",
        "model.fit(X_train, y_train, epochs=10, batch_size=32)\n",
        "\n",
        "# To make a prediction\n",
        "# X_test should be of shape (number of samples, input_sequence_length, n_features)\n",
        "X_test = np.random.random((10, input_sequence_length, n_features))  # replace with your test data\n",
        "predicted = model.predict(X_test)\n",
        "\n",
        "# 'predicted' is an array of predictions, each with a length of output_sequence_length (24 in this case)'''\n"
      ],
      "metadata": {
        "id": "o77RZsMwgHdU"
      },
      "execution_count": null,
      "outputs": []
    },
    {
      "cell_type": "code",
      "source": [
        "uploaded_file = files.upload()"
      ],
      "metadata": {
        "colab": {
          "base_uri": "https://localhost:8080/",
          "height": 73
        },
        "id": "fase-uxsnKyQ",
        "outputId": "b15b1e7e-ec29-4f97-aca0-65b7a6289dbf"
      },
      "execution_count": 2,
      "outputs": [
        {
          "output_type": "display_data",
          "data": {
            "text/plain": [
              "<IPython.core.display.HTML object>"
            ],
            "text/html": [
              "\n",
              "     <input type=\"file\" id=\"files-1340d864-a330-4c43-8001-c669ba1a462b\" name=\"files[]\" multiple disabled\n",
              "        style=\"border:none\" />\n",
              "     <output id=\"result-1340d864-a330-4c43-8001-c669ba1a462b\">\n",
              "      Upload widget is only available when the cell has been executed in the\n",
              "      current browser session. Please rerun this cell to enable.\n",
              "      </output>\n",
              "      <script>// Copyright 2017 Google LLC\n",
              "//\n",
              "// Licensed under the Apache License, Version 2.0 (the \"License\");\n",
              "// you may not use this file except in compliance with the License.\n",
              "// You may obtain a copy of the License at\n",
              "//\n",
              "//      http://www.apache.org/licenses/LICENSE-2.0\n",
              "//\n",
              "// Unless required by applicable law or agreed to in writing, software\n",
              "// distributed under the License is distributed on an \"AS IS\" BASIS,\n",
              "// WITHOUT WARRANTIES OR CONDITIONS OF ANY KIND, either express or implied.\n",
              "// See the License for the specific language governing permissions and\n",
              "// limitations under the License.\n",
              "\n",
              "/**\n",
              " * @fileoverview Helpers for google.colab Python module.\n",
              " */\n",
              "(function(scope) {\n",
              "function span(text, styleAttributes = {}) {\n",
              "  const element = document.createElement('span');\n",
              "  element.textContent = text;\n",
              "  for (const key of Object.keys(styleAttributes)) {\n",
              "    element.style[key] = styleAttributes[key];\n",
              "  }\n",
              "  return element;\n",
              "}\n",
              "\n",
              "// Max number of bytes which will be uploaded at a time.\n",
              "const MAX_PAYLOAD_SIZE = 100 * 1024;\n",
              "\n",
              "function _uploadFiles(inputId, outputId) {\n",
              "  const steps = uploadFilesStep(inputId, outputId);\n",
              "  const outputElement = document.getElementById(outputId);\n",
              "  // Cache steps on the outputElement to make it available for the next call\n",
              "  // to uploadFilesContinue from Python.\n",
              "  outputElement.steps = steps;\n",
              "\n",
              "  return _uploadFilesContinue(outputId);\n",
              "}\n",
              "\n",
              "// This is roughly an async generator (not supported in the browser yet),\n",
              "// where there are multiple asynchronous steps and the Python side is going\n",
              "// to poll for completion of each step.\n",
              "// This uses a Promise to block the python side on completion of each step,\n",
              "// then passes the result of the previous step as the input to the next step.\n",
              "function _uploadFilesContinue(outputId) {\n",
              "  const outputElement = document.getElementById(outputId);\n",
              "  const steps = outputElement.steps;\n",
              "\n",
              "  const next = steps.next(outputElement.lastPromiseValue);\n",
              "  return Promise.resolve(next.value.promise).then((value) => {\n",
              "    // Cache the last promise value to make it available to the next\n",
              "    // step of the generator.\n",
              "    outputElement.lastPromiseValue = value;\n",
              "    return next.value.response;\n",
              "  });\n",
              "}\n",
              "\n",
              "/**\n",
              " * Generator function which is called between each async step of the upload\n",
              " * process.\n",
              " * @param {string} inputId Element ID of the input file picker element.\n",
              " * @param {string} outputId Element ID of the output display.\n",
              " * @return {!Iterable<!Object>} Iterable of next steps.\n",
              " */\n",
              "function* uploadFilesStep(inputId, outputId) {\n",
              "  const inputElement = document.getElementById(inputId);\n",
              "  inputElement.disabled = false;\n",
              "\n",
              "  const outputElement = document.getElementById(outputId);\n",
              "  outputElement.innerHTML = '';\n",
              "\n",
              "  const pickedPromise = new Promise((resolve) => {\n",
              "    inputElement.addEventListener('change', (e) => {\n",
              "      resolve(e.target.files);\n",
              "    });\n",
              "  });\n",
              "\n",
              "  const cancel = document.createElement('button');\n",
              "  inputElement.parentElement.appendChild(cancel);\n",
              "  cancel.textContent = 'Cancel upload';\n",
              "  const cancelPromise = new Promise((resolve) => {\n",
              "    cancel.onclick = () => {\n",
              "      resolve(null);\n",
              "    };\n",
              "  });\n",
              "\n",
              "  // Wait for the user to pick the files.\n",
              "  const files = yield {\n",
              "    promise: Promise.race([pickedPromise, cancelPromise]),\n",
              "    response: {\n",
              "      action: 'starting',\n",
              "    }\n",
              "  };\n",
              "\n",
              "  cancel.remove();\n",
              "\n",
              "  // Disable the input element since further picks are not allowed.\n",
              "  inputElement.disabled = true;\n",
              "\n",
              "  if (!files) {\n",
              "    return {\n",
              "      response: {\n",
              "        action: 'complete',\n",
              "      }\n",
              "    };\n",
              "  }\n",
              "\n",
              "  for (const file of files) {\n",
              "    const li = document.createElement('li');\n",
              "    li.append(span(file.name, {fontWeight: 'bold'}));\n",
              "    li.append(span(\n",
              "        `(${file.type || 'n/a'}) - ${file.size} bytes, ` +\n",
              "        `last modified: ${\n",
              "            file.lastModifiedDate ? file.lastModifiedDate.toLocaleDateString() :\n",
              "                                    'n/a'} - `));\n",
              "    const percent = span('0% done');\n",
              "    li.appendChild(percent);\n",
              "\n",
              "    outputElement.appendChild(li);\n",
              "\n",
              "    const fileDataPromise = new Promise((resolve) => {\n",
              "      const reader = new FileReader();\n",
              "      reader.onload = (e) => {\n",
              "        resolve(e.target.result);\n",
              "      };\n",
              "      reader.readAsArrayBuffer(file);\n",
              "    });\n",
              "    // Wait for the data to be ready.\n",
              "    let fileData = yield {\n",
              "      promise: fileDataPromise,\n",
              "      response: {\n",
              "        action: 'continue',\n",
              "      }\n",
              "    };\n",
              "\n",
              "    // Use a chunked sending to avoid message size limits. See b/62115660.\n",
              "    let position = 0;\n",
              "    do {\n",
              "      const length = Math.min(fileData.byteLength - position, MAX_PAYLOAD_SIZE);\n",
              "      const chunk = new Uint8Array(fileData, position, length);\n",
              "      position += length;\n",
              "\n",
              "      const base64 = btoa(String.fromCharCode.apply(null, chunk));\n",
              "      yield {\n",
              "        response: {\n",
              "          action: 'append',\n",
              "          file: file.name,\n",
              "          data: base64,\n",
              "        },\n",
              "      };\n",
              "\n",
              "      let percentDone = fileData.byteLength === 0 ?\n",
              "          100 :\n",
              "          Math.round((position / fileData.byteLength) * 100);\n",
              "      percent.textContent = `${percentDone}% done`;\n",
              "\n",
              "    } while (position < fileData.byteLength);\n",
              "  }\n",
              "\n",
              "  // All done.\n",
              "  yield {\n",
              "    response: {\n",
              "      action: 'complete',\n",
              "    }\n",
              "  };\n",
              "}\n",
              "\n",
              "scope.google = scope.google || {};\n",
              "scope.google.colab = scope.google.colab || {};\n",
              "scope.google.colab._files = {\n",
              "  _uploadFiles,\n",
              "  _uploadFilesContinue,\n",
              "};\n",
              "})(self);\n",
              "</script> "
            ]
          },
          "metadata": {}
        },
        {
          "output_type": "stream",
          "name": "stdout",
          "text": [
            "Saving trainingdata.csv to trainingdata.csv\n"
          ]
        }
      ]
    },
    {
      "cell_type": "code",
      "source": [
        "# Load the data\n",
        "data = pd.read_csv('trainingdata.csv')"
      ],
      "metadata": {
        "id": "XelLIoP4tdOX"
      },
      "execution_count": 3,
      "outputs": []
    },
    {
      "cell_type": "code",
      "source": [
        "# Filter the data for waterpoint_id 3\n",
        "gw = data[data['waterpoints_id'] == 3]\n",
        "#print(gw)"
      ],
      "metadata": {
        "id": "6Pc6y_8stk0R"
      },
      "execution_count": 4,
      "outputs": []
    },
    {
      "cell_type": "code",
      "source": [
        "gw.dropna(inplace=True)\n",
        "#print(gw)"
      ],
      "metadata": {
        "colab": {
          "base_uri": "https://localhost:8080/"
        },
        "id": "2u06kMHT1V_l",
        "outputId": "4abed0fc-3953-48c6-9982-2924f1f845b1"
      },
      "execution_count": 5,
      "outputs": [
        {
          "output_type": "stream",
          "name": "stderr",
          "text": [
            "<ipython-input-5-0527c3859693>:1: SettingWithCopyWarning: \n",
            "A value is trying to be set on a copy of a slice from a DataFrame\n",
            "\n",
            "See the caveats in the documentation: https://pandas.pydata.org/pandas-docs/stable/user_guide/indexing.html#returning-a-view-versus-a-copy\n",
            "  gw.dropna(inplace=True)\n"
          ]
        }
      ]
    },
    {
      "cell_type": "code",
      "source": [
        "gw = gw.drop(['id', 'waterpoints_id', 'waterpoints_name'], axis=1)\n",
        "gw.rename(columns={'water_level': 'G29', 'date_time': 'Date'}, inplace=True)\n",
        "#print(gw)"
      ],
      "metadata": {
        "id": "uRUbPeK01g--"
      },
      "execution_count": 6,
      "outputs": []
    },
    {
      "cell_type": "code",
      "source": [
        "# Filter the data for waterpoint_id 6\n",
        "river = data[data['waterpoints_id'] == 6]\n",
        "#print(river)"
      ],
      "metadata": {
        "id": "nCZREDc73Gn9"
      },
      "execution_count": 7,
      "outputs": []
    },
    {
      "cell_type": "code",
      "source": [
        "river.dropna(inplace=True)\n",
        "#print(river)"
      ],
      "metadata": {
        "colab": {
          "base_uri": "https://localhost:8080/"
        },
        "id": "dc1qXiZM3RxX",
        "outputId": "1eb91799-5af1-442d-a421-8ed8bf20627c"
      },
      "execution_count": 8,
      "outputs": [
        {
          "output_type": "stream",
          "name": "stderr",
          "text": [
            "<ipython-input-8-04faa066f5bd>:1: SettingWithCopyWarning: \n",
            "A value is trying to be set on a copy of a slice from a DataFrame\n",
            "\n",
            "See the caveats in the documentation: https://pandas.pydata.org/pandas-docs/stable/user_guide/indexing.html#returning-a-view-versus-a-copy\n",
            "  river.dropna(inplace=True)\n"
          ]
        }
      ]
    },
    {
      "cell_type": "code",
      "source": [
        "river = river.drop(['id', 'waterpoints_id', 'waterpoints_name'], axis=1)\n",
        "river.rename(columns={'water_level': 'river', 'date_time': 'Date'}, inplace=True)\n",
        "#print(river)"
      ],
      "metadata": {
        "id": "-xTKOxxf3Yv0"
      },
      "execution_count": 9,
      "outputs": []
    },
    {
      "cell_type": "code",
      "source": [
        "gw['Date'] = pd.to_datetime(gw['Date'], format='%m/%d/%Y %H:%M')\n",
        "river['Date'] = pd.to_datetime(river['Date'], format='%m/%d/%Y %H:%M')"
      ],
      "metadata": {
        "id": "hBgKLfcG5E_v"
      },
      "execution_count": 10,
      "outputs": []
    },
    {
      "cell_type": "code",
      "source": [
        "# Merge the two datasets on the 'Date' column\n",
        "merged_data = pd.merge_asof(gw.sort_values('Date'), river.sort_values('Date'), on='Date', direction='nearest')\n",
        "# Set 'Date' as the index\n",
        "merged_data.set_index('Date', inplace=True)\n",
        "print(merged_data)"
      ],
      "metadata": {
        "colab": {
          "base_uri": "https://localhost:8080/"
        },
        "id": "12h3bgf53hF0",
        "outputId": "77fbb083-1819-416f-964d-c273d45195b8"
      },
      "execution_count": 11,
      "outputs": [
        {
          "output_type": "stream",
          "name": "stdout",
          "text": [
            "                         G29    river\n",
            "Date                                 \n",
            "2022-12-19 06:00:00  109.755  115.700\n",
            "2022-12-19 07:00:00  109.753  115.690\n",
            "2022-12-19 08:00:00  109.750  115.690\n",
            "2022-12-19 09:00:00  109.747  115.690\n",
            "2022-12-19 10:00:00  109.745  115.680\n",
            "...                      ...      ...\n",
            "2023-12-28 08:00:00  112.605  120.415\n",
            "2023-12-28 09:00:00  112.613  120.425\n",
            "2023-12-28 10:00:00  112.621  120.430\n",
            "2023-12-28 11:00:00  112.629  120.440\n",
            "2023-12-28 12:00:00  112.637  120.440\n",
            "\n",
            "[6045 rows x 2 columns]\n"
          ]
        }
      ]
    },
    {
      "cell_type": "code",
      "source": [
        "n_steps_in, n_steps_out = 24, 24\n",
        "\n",
        "# Assuming merged_data is your dataset\n",
        "train_size = int(len(merged_data) * 0.7)\n",
        "resampled_data_train = merged_data[:train_size]\n",
        "resampled_data_test = merged_data[train_size:]\n",
        "\n",
        "# Apply MinMaxScaler\n",
        "scaler = MinMaxScaler(feature_range=(0, 1))\n",
        "train_scaled = scaler.fit_transform(resampled_data_train)\n",
        "test_scaled = scaler.transform(resampled_data_test)\n",
        "\n",
        "joblib.dump(scaler, 'scaler.gz')\n",
        "\n",
        "# Modified function to create sequences\n",
        "def create_sequences(data, n_steps_in, n_steps_out):\n",
        "    X, y = [], []\n",
        "    for i in range(n_steps_in, len(data) - n_steps_out + 1):\n",
        "        X.append(data[i-n_steps_in:i, :])\n",
        "        y.append(data[i:i+n_steps_out, 0])\n",
        "    return np.array(X), np.array(y)\n",
        "\n",
        "# Create sequences for training and testing sets\n",
        "X_train, y_train = create_sequences(train_scaled, n_steps_in, n_steps_out)\n",
        "X_test, y_test = create_sequences(test_scaled, n_steps_in, n_steps_out)\n",
        "print('X_train shape:', X_train.shape)\n",
        "print('y_train shape:', y_train.shape)\n",
        "print('X_test shape:', X_test.shape)\n",
        "print('y_test shape:', y_test.shape)"
      ],
      "metadata": {
        "colab": {
          "base_uri": "https://localhost:8080/"
        },
        "id": "Cnz5gN9gBKcl",
        "outputId": "a57007db-9909-43e8-db59-09e942433ac9"
      },
      "execution_count": 21,
      "outputs": [
        {
          "output_type": "stream",
          "name": "stdout",
          "text": [
            "X_train shape: (4184, 24, 2)\n",
            "y_train shape: (4184, 24)\n",
            "X_test shape: (1767, 24, 2)\n",
            "y_test shape: (1767, 24)\n"
          ]
        }
      ]
    },
    {
      "cell_type": "code",
      "source": [
        "#print(X_train, X_train.shape)"
      ],
      "metadata": {
        "id": "CEIIesHqBQu1"
      },
      "execution_count": 14,
      "outputs": []
    },
    {
      "cell_type": "code",
      "source": [
        "#print(X_test, X_test.shape)"
      ],
      "metadata": {
        "id": "mHv2lq89BnXt"
      },
      "execution_count": null,
      "outputs": []
    },
    {
      "cell_type": "code",
      "source": [
        "#print(y_train, y_train.shape)\n",
        "#print(y_test, y_test.shape)"
      ],
      "metadata": {
        "id": "1pOKtYh6BrgG"
      },
      "execution_count": 16,
      "outputs": []
    },
    {
      "cell_type": "code",
      "source": [
        "# Define the LSTM model\n",
        "model = Sequential([\n",
        "    LSTM(units=50, return_sequences=True, input_shape=(n_steps_in, train_scaled.shape[1]),\n",
        "         dropout=0.2, recurrent_dropout=0.2,\n",
        "         kernel_regularizer=l1_l2(l1=0.01, l2=0.01)),\n",
        "    Dropout(0.2),\n",
        "    LSTM(units=50, dropout=0.2, recurrent_dropout=0.2),\n",
        "    Dropout(0.2),\n",
        "    Dense(n_steps_out)  # Output layer for predicting the next 12 values\n",
        "])\n",
        "\n",
        "model.compile(optimizer='adam', loss='mean_squared_error')\n",
        "model.fit(X_train, y_train, epochs=50, batch_size=64)"
      ],
      "metadata": {
        "colab": {
          "base_uri": "https://localhost:8080/"
        },
        "id": "nlMLomEJB2QI",
        "outputId": "86875acc-82c9-4d82-ef08-c762858ee947"
      },
      "execution_count": 22,
      "outputs": [
        {
          "output_type": "stream",
          "name": "stdout",
          "text": [
            "Epoch 1/50\n",
            "66/66 [==============================] - 12s 65ms/step - loss: 0.3452\n",
            "Epoch 2/50\n",
            "66/66 [==============================] - 4s 64ms/step - loss: 0.1051\n",
            "Epoch 3/50\n",
            "66/66 [==============================] - 6s 89ms/step - loss: 0.0260\n",
            "Epoch 4/50\n",
            "66/66 [==============================] - 4s 65ms/step - loss: 0.0140\n",
            "Epoch 5/50\n",
            "66/66 [==============================] - 5s 76ms/step - loss: 0.0115\n",
            "Epoch 6/50\n",
            "66/66 [==============================] - 5s 79ms/step - loss: 0.0104\n",
            "Epoch 7/50\n",
            "66/66 [==============================] - 4s 65ms/step - loss: 0.0089\n",
            "Epoch 8/50\n",
            "66/66 [==============================] - 6s 85ms/step - loss: 0.0091\n",
            "Epoch 9/50\n",
            "66/66 [==============================] - 4s 67ms/step - loss: 0.0085\n",
            "Epoch 10/50\n",
            "66/66 [==============================] - 4s 64ms/step - loss: 0.0080\n",
            "Epoch 11/50\n",
            "66/66 [==============================] - 6s 88ms/step - loss: 0.0072\n",
            "Epoch 12/50\n",
            "66/66 [==============================] - 6s 89ms/step - loss: 0.0071\n",
            "Epoch 13/50\n",
            "66/66 [==============================] - 5s 73ms/step - loss: 0.0067\n",
            "Epoch 14/50\n",
            "66/66 [==============================] - 5s 81ms/step - loss: 0.0065\n",
            "Epoch 15/50\n",
            "66/66 [==============================] - 4s 65ms/step - loss: 0.0065\n",
            "Epoch 16/50\n",
            "66/66 [==============================] - 6s 84ms/step - loss: 0.0065\n",
            "Epoch 17/50\n",
            "66/66 [==============================] - 5s 71ms/step - loss: 0.0061\n",
            "Epoch 18/50\n",
            "66/66 [==============================] - 4s 65ms/step - loss: 0.0055\n",
            "Epoch 19/50\n",
            "66/66 [==============================] - 6s 89ms/step - loss: 0.0057\n",
            "Epoch 20/50\n",
            "66/66 [==============================] - 4s 65ms/step - loss: 0.0055\n",
            "Epoch 21/50\n",
            "66/66 [==============================] - 4s 66ms/step - loss: 0.0054\n",
            "Epoch 22/50\n",
            "66/66 [==============================] - 6s 89ms/step - loss: 0.0053\n",
            "Epoch 23/50\n",
            "66/66 [==============================] - 4s 66ms/step - loss: 0.0057\n",
            "Epoch 24/50\n",
            "66/66 [==============================] - 4s 66ms/step - loss: 0.0052\n",
            "Epoch 25/50\n",
            "66/66 [==============================] - 6s 87ms/step - loss: 0.0052\n",
            "Epoch 26/50\n",
            "66/66 [==============================] - 4s 65ms/step - loss: 0.0051\n",
            "Epoch 27/50\n",
            "66/66 [==============================] - 5s 76ms/step - loss: 0.0049\n",
            "Epoch 28/50\n",
            "66/66 [==============================] - 5s 78ms/step - loss: 0.0051\n",
            "Epoch 29/50\n",
            "66/66 [==============================] - 4s 66ms/step - loss: 0.0049\n",
            "Epoch 30/50\n",
            "66/66 [==============================] - 6s 87ms/step - loss: 0.0046\n",
            "Epoch 31/50\n",
            "66/66 [==============================] - 4s 66ms/step - loss: 0.0046\n",
            "Epoch 32/50\n",
            "66/66 [==============================] - 4s 64ms/step - loss: 0.0047\n",
            "Epoch 33/50\n",
            "66/66 [==============================] - 6s 88ms/step - loss: 0.0046\n",
            "Epoch 34/50\n",
            "66/66 [==============================] - 4s 64ms/step - loss: 0.0045\n",
            "Epoch 35/50\n",
            "66/66 [==============================] - 4s 65ms/step - loss: 0.0046\n",
            "Epoch 36/50\n",
            "66/66 [==============================] - 6s 88ms/step - loss: 0.0043\n",
            "Epoch 37/50\n",
            "66/66 [==============================] - 4s 65ms/step - loss: 0.0046\n",
            "Epoch 38/50\n",
            "66/66 [==============================] - 4s 65ms/step - loss: 0.0045\n",
            "Epoch 39/50\n",
            "66/66 [==============================] - 6s 88ms/step - loss: 0.0043\n",
            "Epoch 40/50\n",
            "66/66 [==============================] - 4s 64ms/step - loss: 0.0043\n",
            "Epoch 41/50\n",
            "66/66 [==============================] - 5s 73ms/step - loss: 0.0042\n",
            "Epoch 42/50\n",
            "66/66 [==============================] - 5s 80ms/step - loss: 0.0044\n",
            "Epoch 43/50\n",
            "66/66 [==============================] - 4s 65ms/step - loss: 0.0044\n",
            "Epoch 44/50\n",
            "66/66 [==============================] - 5s 83ms/step - loss: 0.0042\n",
            "Epoch 45/50\n",
            "66/66 [==============================] - 5s 69ms/step - loss: 0.0043\n",
            "Epoch 46/50\n",
            "66/66 [==============================] - 4s 65ms/step - loss: 0.0042\n",
            "Epoch 47/50\n",
            "66/66 [==============================] - 6s 88ms/step - loss: 0.0040\n",
            "Epoch 48/50\n",
            "66/66 [==============================] - 4s 65ms/step - loss: 0.0041\n",
            "Epoch 49/50\n",
            "66/66 [==============================] - 4s 65ms/step - loss: 0.0039\n",
            "Epoch 50/50\n",
            "66/66 [==============================] - 6s 88ms/step - loss: 0.0040\n"
          ]
        },
        {
          "output_type": "execute_result",
          "data": {
            "text/plain": [
              "<keras.src.callbacks.History at 0x7cbfe81b3e80>"
            ]
          },
          "metadata": {},
          "execution_count": 22
        }
      ]
    },
    {
      "cell_type": "code",
      "source": [
        "mse = model.evaluate(X_test, y_test)\n",
        "print(mse)\n"
      ],
      "metadata": {
        "colab": {
          "base_uri": "https://localhost:8080/"
        },
        "id": "P_TmPfkqB892",
        "outputId": "599c850a-4dc1-48f2-a43f-c7642e581814"
      },
      "execution_count": 23,
      "outputs": [
        {
          "output_type": "stream",
          "name": "stdout",
          "text": [
            "56/56 [==============================] - 2s 16ms/step - loss: 0.0019\n",
            "0.0019410719396546483\n"
          ]
        }
      ]
    },
    {
      "cell_type": "code",
      "source": [
        "model.save('lstmmodel.h5')\n",
        "model = load_model('lstmmodel.h5')\n",
        "scaler = joblib.load('scaler.gz')"
      ],
      "metadata": {
        "colab": {
          "base_uri": "https://localhost:8080/"
        },
        "id": "Fp-r6_UrDH2y",
        "outputId": "7593e979-10b6-441e-a50f-4f7273ad7d01"
      },
      "execution_count": 24,
      "outputs": [
        {
          "output_type": "stream",
          "name": "stderr",
          "text": [
            "/usr/local/lib/python3.10/dist-packages/keras/src/engine/training.py:3103: UserWarning: You are saving your model as an HDF5 file via `model.save()`. This file format is considered legacy. We recommend using instead the native Keras format, e.g. `model.save('my_model.keras')`.\n",
            "  saving_api.save_model(\n"
          ]
        }
      ]
    },
    {
      "cell_type": "code",
      "source": [
        "#Take the last 24 hour data\n",
        "#Preprocess this using similar steps used before for creating a merged dataframe to combine river and gw values\n",
        "#Preprocess the merged dataframe to create a 3D array for input to the model.predict function\n",
        "\n",
        "\n"
      ],
      "metadata": {
        "id": "wzNm6nEGDjNl"
      },
      "execution_count": null,
      "outputs": []
    },
    {
      "cell_type": "code",
      "source": [
        "uploaded_file = files.upload()"
      ],
      "metadata": {
        "id": "5fnu2UD6GgSI",
        "outputId": "af13a08a-1f47-49ef-f5ce-12d9ba314e41",
        "colab": {
          "base_uri": "https://localhost:8080/",
          "height": 73
        }
      },
      "execution_count": 39,
      "outputs": [
        {
          "output_type": "display_data",
          "data": {
            "text/plain": [
              "<IPython.core.display.HTML object>"
            ],
            "text/html": [
              "\n",
              "     <input type=\"file\" id=\"files-ececf39a-7361-4748-9560-674624f21307\" name=\"files[]\" multiple disabled\n",
              "        style=\"border:none\" />\n",
              "     <output id=\"result-ececf39a-7361-4748-9560-674624f21307\">\n",
              "      Upload widget is only available when the cell has been executed in the\n",
              "      current browser session. Please rerun this cell to enable.\n",
              "      </output>\n",
              "      <script>// Copyright 2017 Google LLC\n",
              "//\n",
              "// Licensed under the Apache License, Version 2.0 (the \"License\");\n",
              "// you may not use this file except in compliance with the License.\n",
              "// You may obtain a copy of the License at\n",
              "//\n",
              "//      http://www.apache.org/licenses/LICENSE-2.0\n",
              "//\n",
              "// Unless required by applicable law or agreed to in writing, software\n",
              "// distributed under the License is distributed on an \"AS IS\" BASIS,\n",
              "// WITHOUT WARRANTIES OR CONDITIONS OF ANY KIND, either express or implied.\n",
              "// See the License for the specific language governing permissions and\n",
              "// limitations under the License.\n",
              "\n",
              "/**\n",
              " * @fileoverview Helpers for google.colab Python module.\n",
              " */\n",
              "(function(scope) {\n",
              "function span(text, styleAttributes = {}) {\n",
              "  const element = document.createElement('span');\n",
              "  element.textContent = text;\n",
              "  for (const key of Object.keys(styleAttributes)) {\n",
              "    element.style[key] = styleAttributes[key];\n",
              "  }\n",
              "  return element;\n",
              "}\n",
              "\n",
              "// Max number of bytes which will be uploaded at a time.\n",
              "const MAX_PAYLOAD_SIZE = 100 * 1024;\n",
              "\n",
              "function _uploadFiles(inputId, outputId) {\n",
              "  const steps = uploadFilesStep(inputId, outputId);\n",
              "  const outputElement = document.getElementById(outputId);\n",
              "  // Cache steps on the outputElement to make it available for the next call\n",
              "  // to uploadFilesContinue from Python.\n",
              "  outputElement.steps = steps;\n",
              "\n",
              "  return _uploadFilesContinue(outputId);\n",
              "}\n",
              "\n",
              "// This is roughly an async generator (not supported in the browser yet),\n",
              "// where there are multiple asynchronous steps and the Python side is going\n",
              "// to poll for completion of each step.\n",
              "// This uses a Promise to block the python side on completion of each step,\n",
              "// then passes the result of the previous step as the input to the next step.\n",
              "function _uploadFilesContinue(outputId) {\n",
              "  const outputElement = document.getElementById(outputId);\n",
              "  const steps = outputElement.steps;\n",
              "\n",
              "  const next = steps.next(outputElement.lastPromiseValue);\n",
              "  return Promise.resolve(next.value.promise).then((value) => {\n",
              "    // Cache the last promise value to make it available to the next\n",
              "    // step of the generator.\n",
              "    outputElement.lastPromiseValue = value;\n",
              "    return next.value.response;\n",
              "  });\n",
              "}\n",
              "\n",
              "/**\n",
              " * Generator function which is called between each async step of the upload\n",
              " * process.\n",
              " * @param {string} inputId Element ID of the input file picker element.\n",
              " * @param {string} outputId Element ID of the output display.\n",
              " * @return {!Iterable<!Object>} Iterable of next steps.\n",
              " */\n",
              "function* uploadFilesStep(inputId, outputId) {\n",
              "  const inputElement = document.getElementById(inputId);\n",
              "  inputElement.disabled = false;\n",
              "\n",
              "  const outputElement = document.getElementById(outputId);\n",
              "  outputElement.innerHTML = '';\n",
              "\n",
              "  const pickedPromise = new Promise((resolve) => {\n",
              "    inputElement.addEventListener('change', (e) => {\n",
              "      resolve(e.target.files);\n",
              "    });\n",
              "  });\n",
              "\n",
              "  const cancel = document.createElement('button');\n",
              "  inputElement.parentElement.appendChild(cancel);\n",
              "  cancel.textContent = 'Cancel upload';\n",
              "  const cancelPromise = new Promise((resolve) => {\n",
              "    cancel.onclick = () => {\n",
              "      resolve(null);\n",
              "    };\n",
              "  });\n",
              "\n",
              "  // Wait for the user to pick the files.\n",
              "  const files = yield {\n",
              "    promise: Promise.race([pickedPromise, cancelPromise]),\n",
              "    response: {\n",
              "      action: 'starting',\n",
              "    }\n",
              "  };\n",
              "\n",
              "  cancel.remove();\n",
              "\n",
              "  // Disable the input element since further picks are not allowed.\n",
              "  inputElement.disabled = true;\n",
              "\n",
              "  if (!files) {\n",
              "    return {\n",
              "      response: {\n",
              "        action: 'complete',\n",
              "      }\n",
              "    };\n",
              "  }\n",
              "\n",
              "  for (const file of files) {\n",
              "    const li = document.createElement('li');\n",
              "    li.append(span(file.name, {fontWeight: 'bold'}));\n",
              "    li.append(span(\n",
              "        `(${file.type || 'n/a'}) - ${file.size} bytes, ` +\n",
              "        `last modified: ${\n",
              "            file.lastModifiedDate ? file.lastModifiedDate.toLocaleDateString() :\n",
              "                                    'n/a'} - `));\n",
              "    const percent = span('0% done');\n",
              "    li.appendChild(percent);\n",
              "\n",
              "    outputElement.appendChild(li);\n",
              "\n",
              "    const fileDataPromise = new Promise((resolve) => {\n",
              "      const reader = new FileReader();\n",
              "      reader.onload = (e) => {\n",
              "        resolve(e.target.result);\n",
              "      };\n",
              "      reader.readAsArrayBuffer(file);\n",
              "    });\n",
              "    // Wait for the data to be ready.\n",
              "    let fileData = yield {\n",
              "      promise: fileDataPromise,\n",
              "      response: {\n",
              "        action: 'continue',\n",
              "      }\n",
              "    };\n",
              "\n",
              "    // Use a chunked sending to avoid message size limits. See b/62115660.\n",
              "    let position = 0;\n",
              "    do {\n",
              "      const length = Math.min(fileData.byteLength - position, MAX_PAYLOAD_SIZE);\n",
              "      const chunk = new Uint8Array(fileData, position, length);\n",
              "      position += length;\n",
              "\n",
              "      const base64 = btoa(String.fromCharCode.apply(null, chunk));\n",
              "      yield {\n",
              "        response: {\n",
              "          action: 'append',\n",
              "          file: file.name,\n",
              "          data: base64,\n",
              "        },\n",
              "      };\n",
              "\n",
              "      let percentDone = fileData.byteLength === 0 ?\n",
              "          100 :\n",
              "          Math.round((position / fileData.byteLength) * 100);\n",
              "      percent.textContent = `${percentDone}% done`;\n",
              "\n",
              "    } while (position < fileData.byteLength);\n",
              "  }\n",
              "\n",
              "  // All done.\n",
              "  yield {\n",
              "    response: {\n",
              "      action: 'complete',\n",
              "    }\n",
              "  };\n",
              "}\n",
              "\n",
              "scope.google = scope.google || {};\n",
              "scope.google.colab = scope.google.colab || {};\n",
              "scope.google.colab._files = {\n",
              "  _uploadFiles,\n",
              "  _uploadFilesContinue,\n",
              "};\n",
              "})(self);\n",
              "</script> "
            ]
          },
          "metadata": {}
        },
        {
          "output_type": "stream",
          "name": "stdout",
          "text": [
            "Saving trainingdataOct.csv to trainingdataOct.csv\n"
          ]
        }
      ]
    },
    {
      "cell_type": "code",
      "source": [
        "# Load the data\n",
        "data = pd.read_csv('trainingdataOct.csv')"
      ],
      "metadata": {
        "id": "3z1d3oOjkXfs"
      },
      "execution_count": 59,
      "outputs": []
    },
    {
      "cell_type": "code",
      "source": [
        "# Filter the data for waterpoint_id 3\n",
        "gwR = data[data['waterpoints_id'] == 3]\n",
        "print(gwR.shape)"
      ],
      "metadata": {
        "id": "mYLK-Xzrkoni",
        "outputId": "de411575-fefe-4e57-b6b3-a49ba4d2fd75",
        "colab": {
          "base_uri": "https://localhost:8080/"
        }
      },
      "execution_count": 60,
      "outputs": [
        {
          "output_type": "stream",
          "name": "stdout",
          "text": [
            "(6069, 5)\n"
          ]
        }
      ]
    },
    {
      "cell_type": "code",
      "source": [
        "# Filter the data for waterpoint_id 3\n",
        "gwR = data[data['waterpoints_id'] == 3]\n",
        "print(gwR)"
      ],
      "metadata": {
        "id": "BNgEJI7DmCt4",
        "outputId": "2afdcf36-c516-4582-8fd1-301ef4901e36",
        "colab": {
          "base_uri": "https://localhost:8080/"
        }
      },
      "execution_count": 61,
      "outputs": [
        {
          "output_type": "stream",
          "name": "stdout",
          "text": [
            "          id         date_time  water_level  waterpoints_id waterpoints_name\n",
            "2652    2667  10/31/2023 13:00      109.594               3           CDT125\n",
            "2653    2668  10/31/2023 14:00      109.593               3           CDT125\n",
            "2654    2669  10/31/2023 15:00      109.592               3           CDT125\n",
            "2655    2670  10/31/2023 16:00      109.591               3           CDT125\n",
            "2656    2671  10/31/2023 17:00      109.589               3           CDT125\n",
            "...      ...               ...          ...             ...              ...\n",
            "19389  19404    7/1/2023 19:00      109.366               3           CDT125\n",
            "19390  19405    7/1/2023 20:00      109.364               3           CDT125\n",
            "19391  19406    7/1/2023 21:00      109.362               3           CDT125\n",
            "19392  19407    7/1/2023 22:00      109.361               3           CDT125\n",
            "19393  19408    7/1/2023 23:00      109.359               3           CDT125\n",
            "\n",
            "[6069 rows x 5 columns]\n"
          ]
        }
      ]
    },
    {
      "cell_type": "code",
      "source": [
        "gwR.dropna(inplace=True)\n",
        "print(gwR)"
      ],
      "metadata": {
        "id": "OSrs_UPQmKrX",
        "outputId": "818b93d2-a24f-4e5a-9ef2-0736b6d37e0d",
        "colab": {
          "base_uri": "https://localhost:8080/"
        }
      },
      "execution_count": 62,
      "outputs": [
        {
          "output_type": "stream",
          "name": "stdout",
          "text": [
            "          id         date_time  water_level  waterpoints_id waterpoints_name\n",
            "2652    2667  10/31/2023 13:00      109.594               3           CDT125\n",
            "2653    2668  10/31/2023 14:00      109.593               3           CDT125\n",
            "2654    2669  10/31/2023 15:00      109.592               3           CDT125\n",
            "2655    2670  10/31/2023 16:00      109.591               3           CDT125\n",
            "2656    2671  10/31/2023 17:00      109.589               3           CDT125\n",
            "...      ...               ...          ...             ...              ...\n",
            "19389  19404    7/1/2023 19:00      109.366               3           CDT125\n",
            "19390  19405    7/1/2023 20:00      109.364               3           CDT125\n",
            "19391  19406    7/1/2023 21:00      109.362               3           CDT125\n",
            "19392  19407    7/1/2023 22:00      109.361               3           CDT125\n",
            "19393  19408    7/1/2023 23:00      109.359               3           CDT125\n",
            "\n",
            "[6069 rows x 5 columns]\n"
          ]
        },
        {
          "output_type": "stream",
          "name": "stderr",
          "text": [
            "<ipython-input-62-85cb54704371>:1: SettingWithCopyWarning: \n",
            "A value is trying to be set on a copy of a slice from a DataFrame\n",
            "\n",
            "See the caveats in the documentation: https://pandas.pydata.org/pandas-docs/stable/user_guide/indexing.html#returning-a-view-versus-a-copy\n",
            "  gwR.dropna(inplace=True)\n"
          ]
        }
      ]
    },
    {
      "cell_type": "code",
      "source": [
        "gwR = gwR.drop(['id', 'waterpoints_id', 'waterpoints_name'], axis=1)\n",
        "gwR.rename(columns={'water_level': 'G29', 'date_time': 'Date'}, inplace=True)\n",
        "print(gwR)"
      ],
      "metadata": {
        "id": "2D8pFEDTlEMm",
        "outputId": "9ef4a346-6c5e-4c99-bce6-f4219e9fb0e1",
        "colab": {
          "base_uri": "https://localhost:8080/"
        }
      },
      "execution_count": 63,
      "outputs": [
        {
          "output_type": "stream",
          "name": "stdout",
          "text": [
            "                   Date      G29\n",
            "2652   10/31/2023 13:00  109.594\n",
            "2653   10/31/2023 14:00  109.593\n",
            "2654   10/31/2023 15:00  109.592\n",
            "2655   10/31/2023 16:00  109.591\n",
            "2656   10/31/2023 17:00  109.589\n",
            "...                 ...      ...\n",
            "19389    7/1/2023 19:00  109.366\n",
            "19390    7/1/2023 20:00  109.364\n",
            "19391    7/1/2023 21:00  109.362\n",
            "19392    7/1/2023 22:00  109.361\n",
            "19393    7/1/2023 23:00  109.359\n",
            "\n",
            "[6069 rows x 2 columns]\n"
          ]
        }
      ]
    },
    {
      "cell_type": "code",
      "source": [
        "# Filter the data for waterpoint_id 6\n",
        "riverR = data[data['waterpoints_id'] == 6]\n",
        "print(riverR)"
      ],
      "metadata": {
        "id": "hUAdbe0QlQjS",
        "outputId": "c7592754-2df2-47e4-e4fa-524b60242284",
        "colab": {
          "base_uri": "https://localhost:8080/"
        }
      },
      "execution_count": 64,
      "outputs": [
        {
          "output_type": "stream",
          "name": "stdout",
          "text": [
            "          id        date_time  water_level  waterpoints_id waterpoints_name\n",
            "19394  19409   1/20/2023 9:00       116.75               6      pirna_gauge\n",
            "19395  19410  1/20/2023 10:00       116.75               6      pirna_gauge\n",
            "19396  19411  1/20/2023 11:00       116.76               6      pirna_gauge\n",
            "19397  19412  1/20/2023 12:00       116.76               6      pirna_gauge\n",
            "19398  19413  1/20/2023 13:00       116.74               6      pirna_gauge\n",
            "...      ...              ...          ...             ...              ...\n",
            "29311  29326  1/17/2023 19:00       116.86               6      pirna_gauge\n",
            "29312  29327  1/17/2023 20:00       116.86               6      pirna_gauge\n",
            "29313  29328  1/17/2023 21:00       116.86               6      pirna_gauge\n",
            "29314  29329  1/17/2023 22:00       116.86               6      pirna_gauge\n",
            "29315  29330  1/17/2023 23:00       116.86               6      pirna_gauge\n",
            "\n",
            "[9909 rows x 5 columns]\n"
          ]
        }
      ]
    },
    {
      "cell_type": "code",
      "source": [
        "riverR.dropna(inplace=True)\n",
        "print(riverR)"
      ],
      "metadata": {
        "id": "0Es67ACemVLZ",
        "outputId": "a44e9f40-050d-45d3-fecb-fe335be56fbf",
        "colab": {
          "base_uri": "https://localhost:8080/"
        }
      },
      "execution_count": 65,
      "outputs": [
        {
          "output_type": "stream",
          "name": "stdout",
          "text": [
            "          id        date_time  water_level  waterpoints_id waterpoints_name\n",
            "19394  19409   1/20/2023 9:00       116.75               6      pirna_gauge\n",
            "19395  19410  1/20/2023 10:00       116.75               6      pirna_gauge\n",
            "19396  19411  1/20/2023 11:00       116.76               6      pirna_gauge\n",
            "19397  19412  1/20/2023 12:00       116.76               6      pirna_gauge\n",
            "19398  19413  1/20/2023 13:00       116.74               6      pirna_gauge\n",
            "...      ...              ...          ...             ...              ...\n",
            "29311  29326  1/17/2023 19:00       116.86               6      pirna_gauge\n",
            "29312  29327  1/17/2023 20:00       116.86               6      pirna_gauge\n",
            "29313  29328  1/17/2023 21:00       116.86               6      pirna_gauge\n",
            "29314  29329  1/17/2023 22:00       116.86               6      pirna_gauge\n",
            "29315  29330  1/17/2023 23:00       116.86               6      pirna_gauge\n",
            "\n",
            "[9906 rows x 5 columns]\n"
          ]
        },
        {
          "output_type": "stream",
          "name": "stderr",
          "text": [
            "<ipython-input-65-2cf0418bd735>:1: SettingWithCopyWarning: \n",
            "A value is trying to be set on a copy of a slice from a DataFrame\n",
            "\n",
            "See the caveats in the documentation: https://pandas.pydata.org/pandas-docs/stable/user_guide/indexing.html#returning-a-view-versus-a-copy\n",
            "  riverR.dropna(inplace=True)\n"
          ]
        }
      ]
    },
    {
      "cell_type": "code",
      "source": [
        "riverR = riverR.drop(['id', 'waterpoints_id', 'waterpoints_name'], axis=1)\n",
        "riverR.rename(columns={'water_level': 'river', 'date_time': 'Date'}, inplace=True)\n",
        "print(riverR)"
      ],
      "metadata": {
        "id": "fMed-GL_mYm3",
        "outputId": "f0833b4f-97fb-47a4-ae3a-2c35036a9230",
        "colab": {
          "base_uri": "https://localhost:8080/"
        }
      },
      "execution_count": 66,
      "outputs": [
        {
          "output_type": "stream",
          "name": "stdout",
          "text": [
            "                  Date   river\n",
            "19394   1/20/2023 9:00  116.75\n",
            "19395  1/20/2023 10:00  116.75\n",
            "19396  1/20/2023 11:00  116.76\n",
            "19397  1/20/2023 12:00  116.76\n",
            "19398  1/20/2023 13:00  116.74\n",
            "...                ...     ...\n",
            "29311  1/17/2023 19:00  116.86\n",
            "29312  1/17/2023 20:00  116.86\n",
            "29313  1/17/2023 21:00  116.86\n",
            "29314  1/17/2023 22:00  116.86\n",
            "29315  1/17/2023 23:00  116.86\n",
            "\n",
            "[9906 rows x 2 columns]\n"
          ]
        }
      ]
    },
    {
      "cell_type": "code",
      "source": [
        "\n",
        "gwR['Date'] = pd.to_datetime(gw['Date'], format='%m/%d/%Y %H:%M')\n",
        "riverR['Date'] = pd.to_datetime(river['Date'], format='%m/%d/%Y %H:%M')"
      ],
      "metadata": {
        "id": "LGlbq3WnmcVM"
      },
      "execution_count": 67,
      "outputs": []
    },
    {
      "cell_type": "code",
      "source": [
        "# Merge the two datasets on the 'Date' column\n",
        "real_time_data = pd.merge_asof(gwR.sort_values('Date'), riverR.sort_values('Date'), on='Date', direction='nearest')\n",
        "# Set 'Date' as the index\n",
        "real_time_data.set_index('Date', inplace=True)\n",
        "print(real_time_data)"
      ],
      "metadata": {
        "id": "8DaAy0-RmhST",
        "outputId": "ab3b48eb-0cad-4b31-ecfe-420166fef9e1",
        "colab": {
          "base_uri": "https://localhost:8080/"
        }
      },
      "execution_count": 68,
      "outputs": [
        {
          "output_type": "stream",
          "name": "stdout",
          "text": [
            "                         G29    river\n",
            "Date                                 \n",
            "2022-12-19 06:00:00  109.755  115.700\n",
            "2022-12-19 07:00:00  109.753  115.690\n",
            "2022-12-19 08:00:00  109.750  115.690\n",
            "2022-12-19 09:00:00  109.747  115.690\n",
            "2022-12-19 10:00:00  109.745  115.680\n",
            "...                      ...      ...\n",
            "2023-12-28 08:00:00  112.605  120.415\n",
            "2023-12-28 09:00:00  112.613  120.425\n",
            "2023-12-28 10:00:00  112.621  120.430\n",
            "2023-12-28 11:00:00  112.629  120.440\n",
            "2023-12-28 12:00:00  112.637  120.440\n",
            "\n",
            "[6069 rows x 2 columns]\n"
          ]
        }
      ]
    },
    {
      "cell_type": "code",
      "source": [
        "'''\n",
        "\n",
        "# Assuming real_time_data is your DataFrame\n",
        "# Fetch the last 24 hours of data\n",
        "last_24_hours = real_time_data.iloc[-24:]\n",
        "\n",
        "# Scale the last 24 hours of data\n",
        "last_24_hours_scaled = scaler.transform(last_24_hours)\n",
        "\n",
        "# Reshape the data to match the input shape of the model (1, 24, number_of_features)\n",
        "last_24_hours_scaled = last_24_hours_scaled.reshape(1, 24, last_24_hours_scaled.shape[1])\n",
        "\n",
        "# Make predictions for the next 24 hours\n",
        "predicted_24_hours_scaled = model.predict(last_24_hours_scaled)\n",
        "\n",
        "# Initialize an array to store the inverse transformed predictions\n",
        "forecasted_values = np.zeros(predicted_24_hours_scaled.shape[1])\n",
        "\n",
        "# Inverse transform each predicted point individually\n",
        "for i in range(predicted_24_hours_scaled.shape[1]):\n",
        "    # Create an array with the shape the scaler expects\n",
        "    temp_array = np.zeros((1, last_24_hours_scaled.shape[2]))\n",
        "    temp_array[0, 0] = predicted_24_hours_scaled[0, i]  # Assuming the forecasted feature is the first feature\n",
        "\n",
        "    # Inverse transform and store the result\n",
        "    forecasted_values[i] = scaler.inverse_transform(temp_array)[0, 0]\n",
        "\n",
        "# Plotting\n",
        "plt.figure(figsize=(12, 6))\n",
        "\n",
        "# Plot the observed data\n",
        "plt.plot(real_time_data.index[-24:], real_time_data.iloc[-24:, 0], label='Observed')\n",
        "\n",
        "# Generate future timestamps for the forecasted data\n",
        "future_timestamps = pd.date_range(start=real_time_data.index[-1], periods=25, closed='right', freq='H')\n",
        "\n",
        "# Plot the forecasted data\n",
        "plt.plot(future_timestamps, forecasted_values, label='Forecasted')\n",
        "\n",
        "plt.xlabel('Date')\n",
        "plt.ylabel('Value')\n",
        "plt.title('Observed vs Forecasted Data')\n",
        "plt.legend()\n",
        "plt.show() '''\n"
      ],
      "metadata": {
        "id": "h2SRHQXSmjBH",
        "outputId": "c4e95a8a-125d-4b2f-f8f8-6983b8d7c952",
        "colab": {
          "base_uri": "https://localhost:8080/",
          "height": 616
        }
      },
      "execution_count": 72,
      "outputs": [
        {
          "output_type": "stream",
          "name": "stdout",
          "text": [
            "1/1 [==============================] - 0s 69ms/step\n"
          ]
        },
        {
          "output_type": "stream",
          "name": "stderr",
          "text": [
            "<ipython-input-72-b90b14115793>:33: FutureWarning: Argument `closed` is deprecated in favor of `inclusive`.\n",
            "  future_timestamps = pd.date_range(start=real_time_data.index[-1], periods=25, closed='right', freq='H')\n"
          ]
        },
        {
          "output_type": "display_data",
          "data": {
            "text/plain": [
              "<Figure size 1200x600 with 1 Axes>"
            ],
            "image/png": "[encoded data removed]"
          },
          "metadata": {}
        }
      ]
    },
    {
      "cell_type": "code",
      "source": [
        "\n",
        "\n",
        "\n",
        "# Assuming real_time_data is your DataFrame and has been scaled using the MinMaxScaler\n",
        "# Prepare the sequences using a sliding window approach\n",
        "input_sequences = np.array([real_time_data_scaled[i - 24:i] for i in range(24, len(real_time_data_scaled)+1)])\n",
        "\n",
        "# Make predictions for each sequence\n",
        "predicted_sequences_scaled = model.predict(input_sequences)\n",
        "\n",
        "# Initialize a list to store the inverse transformed predictions\n",
        "forecasted_values = []\n",
        "\n",
        "# Inverse transform the predicted values one by one\n",
        "for i in range(predicted_sequences_scaled.shape[0]):\n",
        "    # Create an array to inverse transform that matches the scaler's expected number of features\n",
        "    to_inverse = np.zeros((1, real_time_data_scaled.shape[1]))\n",
        "    to_inverse[0, 0] = predicted_sequences_scaled[i, -1]  # Assuming the first column is the target\n",
        "    # Inverse transform and store the result\n",
        "    forecasted_values.append(scaler.inverse_transform(to_inverse)[0, 0])\n",
        "\n",
        "# Plotting\n",
        "plt.figure(figsize=(15, 7))\n",
        "\n",
        "# Plot the observed data\n",
        "plt.plot(real_time_data.index, real_time_data.iloc[:, 0], label='Observed')\n",
        "\n",
        "# Generate future timestamps for the forecasted data\n",
        "forecast_timestamps = pd.date_range(start=real_time_data.index[24], periods=len(forecasted_values), freq='H')\n",
        "\n",
        "# Plot the forecasted data\n",
        "plt.plot(forecast_timestamps, forecasted_values, label='Forecasted', alpha=0.7)\n",
        "\n",
        "plt.xlabel('Date')\n",
        "plt.ylabel('Value')\n",
        "plt.title('Observed vs Forecasted Data')\n",
        "plt.legend()\n",
        "plt.show()\n"
      ],
      "metadata": {
        "id": "KCL_AMOivfSa",
        "outputId": "0d817aa9-2ebb-40b7-b1cc-ef7d3c3cafa9",
        "colab": {
          "base_uri": "https://localhost:8080/",
          "height": 658
        }
      },
      "execution_count": 77,
      "outputs": [
        {
          "output_type": "stream",
          "name": "stdout",
          "text": [
            "189/189 [==============================] - 4s 22ms/step\n"
          ]
        },
        {
          "output_type": "display_data",
          "data": {
            "text/plain": [
              "<Figure size 1500x700 with 1 Axes>"
            ],
            "image/png": "[encoded data removed]"
          },
          "metadata": {}
        }
      ]
    },
    {
      "cell_type": "code",
      "source": [],
      "metadata": {
        "id": "m8wlgFt1wkvW"
      },
      "execution_count": null,
      "outputs": []
    }
  ]
}
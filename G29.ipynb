{
  "nbformat": 4,
  "nbformat_minor": 0,
  "metadata": {
    "colab": {
      "provenance": [],
      "authorship_tag": "ABX9TyOdCTTfSodJk+1dXzgH7F5x",
      "include_colab_link": true
    },
    "kernelspec": {
      "name": "python3",
      "display_name": "Python 3"
    },
    "language_info": {
      "name": "python"
    }
  },
  "cells": [
    {
      "cell_type": "markdown",
      "metadata": {
        "id": "view-in-github",
        "colab_type": "text"
      },
      "source": [
        "<a href=\"https://colab.research.google.com/github/bishair/Pirna/blob/main/G29.ipynb\" target=\"_parent\"><img src=\"https://colab.research.google.com/assets/colab-badge.svg\" alt=\"Open In Colab\"/></a>"
      ]
    },
    {
      "cell_type": "code",
      "execution_count": 16,
      "metadata": {
        "id": "FBjmm3NyjfpZ"
      },
      "outputs": [],
      "source": [
        "import numpy as np\n",
        "import pandas as pd\n",
        "from google.colab import files\n",
        "import matplotlib.pyplot as plt\n",
        "from sklearn.preprocessing import MinMaxScaler\n",
        "from sklearn.metrics import mean_squared_error\n",
        "from tensorflow.keras.models import Sequential, load_model\n",
        "from tensorflow.keras.layers import LSTM, Dense\n",
        "from tensorflow.keras.optimizers import Adam\n",
        "from math import sqrt\n",
        "from tensorflow.keras.callbacks import EarlyStopping, ModelCheckpoint\n",
        "from keras.models import load_model\n",
        "import matplotlib.pyplot as plt\n",
        "from IPython.display import display\n",
        "import joblib\n"
      ]
    },
    {
      "cell_type": "code",
      "source": [
        "uploaded_file = files.upload()"
      ],
      "metadata": {
        "colab": {
          "base_uri": "https://localhost:8080/",
          "height": 73
        },
        "id": "fase-uxsnKyQ",
        "outputId": "63a9c512-08d1-4fcd-8e3e-a8ea7d8c4b62"
      },
      "execution_count": 17,
      "outputs": [
        {
          "output_type": "display_data",
          "data": {
            "text/plain": [
              "<IPython.core.display.HTML object>"
            ],
            "text/html": [
              "\n",
              "     <input type=\"file\" id=\"files-886508c8-30b6-4e15-803a-4416518743f6\" name=\"files[]\" multiple disabled\n",
              "        style=\"border:none\" />\n",
              "     <output id=\"result-886508c8-30b6-4e15-803a-4416518743f6\">\n",
              "      Upload widget is only available when the cell has been executed in the\n",
              "      current browser session. Please rerun this cell to enable.\n",
              "      </output>\n",
              "      <script>// Copyright 2017 Google LLC\n",
              "//\n",
              "// Licensed under the Apache License, Version 2.0 (the \"License\");\n",
              "// you may not use this file except in compliance with the License.\n",
              "// You may obtain a copy of the License at\n",
              "//\n",
              "//      http://www.apache.org/licenses/LICENSE-2.0\n",
              "//\n",
              "// Unless required by applicable law or agreed to in writing, software\n",
              "// distributed under the License is distributed on an \"AS IS\" BASIS,\n",
              "// WITHOUT WARRANTIES OR CONDITIONS OF ANY KIND, either express or implied.\n",
              "// See the License for the specific language governing permissions and\n",
              "// limitations under the License.\n",
              "\n",
              "/**\n",
              " * @fileoverview Helpers for google.colab Python module.\n",
              " */\n",
              "(function(scope) {\n",
              "function span(text, styleAttributes = {}) {\n",
              "  const element = document.createElement('span');\n",
              "  element.textContent = text;\n",
              "  for (const key of Object.keys(styleAttributes)) {\n",
              "    element.style[key] = styleAttributes[key];\n",
              "  }\n",
              "  return element;\n",
              "}\n",
              "\n",
              "// Max number of bytes which will be uploaded at a time.\n",
              "const MAX_PAYLOAD_SIZE = 100 * 1024;\n",
              "\n",
              "function _uploadFiles(inputId, outputId) {\n",
              "  const steps = uploadFilesStep(inputId, outputId);\n",
              "  const outputElement = document.getElementById(outputId);\n",
              "  // Cache steps on the outputElement to make it available for the next call\n",
              "  // to uploadFilesContinue from Python.\n",
              "  outputElement.steps = steps;\n",
              "\n",
              "  return _uploadFilesContinue(outputId);\n",
              "}\n",
              "\n",
              "// This is roughly an async generator (not supported in the browser yet),\n",
              "// where there are multiple asynchronous steps and the Python side is going\n",
              "// to poll for completion of each step.\n",
              "// This uses a Promise to block the python side on completion of each step,\n",
              "// then passes the result of the previous step as the input to the next step.\n",
              "function _uploadFilesContinue(outputId) {\n",
              "  const outputElement = document.getElementById(outputId);\n",
              "  const steps = outputElement.steps;\n",
              "\n",
              "  const next = steps.next(outputElement.lastPromiseValue);\n",
              "  return Promise.resolve(next.value.promise).then((value) => {\n",
              "    // Cache the last promise value to make it available to the next\n",
              "    // step of the generator.\n",
              "    outputElement.lastPromiseValue = value;\n",
              "    return next.value.response;\n",
              "  });\n",
              "}\n",
              "\n",
              "/**\n",
              " * Generator function which is called between each async step of the upload\n",
              " * process.\n",
              " * @param {string} inputId Element ID of the input file picker element.\n",
              " * @param {string} outputId Element ID of the output display.\n",
              " * @return {!Iterable<!Object>} Iterable of next steps.\n",
              " */\n",
              "function* uploadFilesStep(inputId, outputId) {\n",
              "  const inputElement = document.getElementById(inputId);\n",
              "  inputElement.disabled = false;\n",
              "\n",
              "  const outputElement = document.getElementById(outputId);\n",
              "  outputElement.innerHTML = '';\n",
              "\n",
              "  const pickedPromise = new Promise((resolve) => {\n",
              "    inputElement.addEventListener('change', (e) => {\n",
              "      resolve(e.target.files);\n",
              "    });\n",
              "  });\n",
              "\n",
              "  const cancel = document.createElement('button');\n",
              "  inputElement.parentElement.appendChild(cancel);\n",
              "  cancel.textContent = 'Cancel upload';\n",
              "  const cancelPromise = new Promise((resolve) => {\n",
              "    cancel.onclick = () => {\n",
              "      resolve(null);\n",
              "    };\n",
              "  });\n",
              "\n",
              "  // Wait for the user to pick the files.\n",
              "  const files = yield {\n",
              "    promise: Promise.race([pickedPromise, cancelPromise]),\n",
              "    response: {\n",
              "      action: 'starting',\n",
              "    }\n",
              "  };\n",
              "\n",
              "  cancel.remove();\n",
              "\n",
              "  // Disable the input element since further picks are not allowed.\n",
              "  inputElement.disabled = true;\n",
              "\n",
              "  if (!files) {\n",
              "    return {\n",
              "      response: {\n",
              "        action: 'complete',\n",
              "      }\n",
              "    };\n",
              "  }\n",
              "\n",
              "  for (const file of files) {\n",
              "    const li = document.createElement('li');\n",
              "    li.append(span(file.name, {fontWeight: 'bold'}));\n",
              "    li.append(span(\n",
              "        `(${file.type || 'n/a'}) - ${file.size} bytes, ` +\n",
              "        `last modified: ${\n",
              "            file.lastModifiedDate ? file.lastModifiedDate.toLocaleDateString() :\n",
              "                                    'n/a'} - `));\n",
              "    const percent = span('0% done');\n",
              "    li.appendChild(percent);\n",
              "\n",
              "    outputElement.appendChild(li);\n",
              "\n",
              "    const fileDataPromise = new Promise((resolve) => {\n",
              "      const reader = new FileReader();\n",
              "      reader.onload = (e) => {\n",
              "        resolve(e.target.result);\n",
              "      };\n",
              "      reader.readAsArrayBuffer(file);\n",
              "    });\n",
              "    // Wait for the data to be ready.\n",
              "    let fileData = yield {\n",
              "      promise: fileDataPromise,\n",
              "      response: {\n",
              "        action: 'continue',\n",
              "      }\n",
              "    };\n",
              "\n",
              "    // Use a chunked sending to avoid message size limits. See b/62115660.\n",
              "    let position = 0;\n",
              "    do {\n",
              "      const length = Math.min(fileData.byteLength - position, MAX_PAYLOAD_SIZE);\n",
              "      const chunk = new Uint8Array(fileData, position, length);\n",
              "      position += length;\n",
              "\n",
              "      const base64 = btoa(String.fromCharCode.apply(null, chunk));\n",
              "      yield {\n",
              "        response: {\n",
              "          action: 'append',\n",
              "          file: file.name,\n",
              "          data: base64,\n",
              "        },\n",
              "      };\n",
              "\n",
              "      let percentDone = fileData.byteLength === 0 ?\n",
              "          100 :\n",
              "          Math.round((position / fileData.byteLength) * 100);\n",
              "      percent.textContent = `${percentDone}% done`;\n",
              "\n",
              "    } while (position < fileData.byteLength);\n",
              "  }\n",
              "\n",
              "  // All done.\n",
              "  yield {\n",
              "    response: {\n",
              "      action: 'complete',\n",
              "    }\n",
              "  };\n",
              "}\n",
              "\n",
              "scope.google = scope.google || {};\n",
              "scope.google.colab = scope.google.colab || {};\n",
              "scope.google.colab._files = {\n",
              "  _uploadFiles,\n",
              "  _uploadFilesContinue,\n",
              "};\n",
              "})(self);\n",
              "</script> "
            ]
          },
          "metadata": {}
        },
        {
          "output_type": "stream",
          "name": "stdout",
          "text": [
            "Saving trainingdata.csv to trainingdata (1).csv\n"
          ]
        }
      ]
    },
    {
      "cell_type": "code",
      "source": [
        "# Load the data\n",
        "data = pd.read_csv('trainingdata.csv')"
      ],
      "metadata": {
        "id": "XelLIoP4tdOX"
      },
      "execution_count": 18,
      "outputs": []
    },
    {
      "cell_type": "code",
      "source": [
        "# Filter the data for waterpoint_id 3\n",
        "gw = data[data['waterpoints_id'] == 3]\n",
        "#print(gw)"
      ],
      "metadata": {
        "id": "6Pc6y_8stk0R"
      },
      "execution_count": 19,
      "outputs": []
    },
    {
      "cell_type": "code",
      "source": [
        "gw.dropna(inplace=True)\n",
        "#print(gw)"
      ],
      "metadata": {
        "colab": {
          "base_uri": "https://localhost:8080/"
        },
        "id": "2u06kMHT1V_l",
        "outputId": "21d6c5e4-61b0-4183-d12d-a1199231b143"
      },
      "execution_count": 20,
      "outputs": [
        {
          "output_type": "stream",
          "name": "stderr",
          "text": [
            "<ipython-input-20-0527c3859693>:1: SettingWithCopyWarning: \n",
            "A value is trying to be set on a copy of a slice from a DataFrame\n",
            "\n",
            "See the caveats in the documentation: https://pandas.pydata.org/pandas-docs/stable/user_guide/indexing.html#returning-a-view-versus-a-copy\n",
            "  gw.dropna(inplace=True)\n"
          ]
        }
      ]
    },
    {
      "cell_type": "code",
      "source": [
        "gw = gw.drop(['id', 'waterpoints_id', 'waterpoints_name'], axis=1)\n",
        "gw.rename(columns={'water_level': 'G29', 'date_time': 'Date'}, inplace=True)\n",
        "print(gw)"
      ],
      "metadata": {
        "colab": {
          "base_uri": "https://localhost:8080/"
        },
        "id": "uRUbPeK01g--",
        "outputId": "8eb3df29-b337-48ef-df40-637046c5bcd4"
      },
      "execution_count": 21,
      "outputs": [
        {
          "output_type": "stream",
          "name": "stdout",
          "text": [
            "                   Date      G29\n",
            "2652   10/31/2023 13:00  109.594\n",
            "2653   10/31/2023 14:00  109.593\n",
            "2654   10/31/2023 15:00  109.592\n",
            "2655   10/31/2023 16:00  109.591\n",
            "2656   10/31/2023 17:00  109.589\n",
            "...                 ...      ...\n",
            "19365   6/30/2023 19:00  109.392\n",
            "19366   6/30/2023 20:00  109.392\n",
            "19367   6/30/2023 21:00  109.390\n",
            "19368   6/30/2023 22:00  109.389\n",
            "19369   6/30/2023 23:00  109.387\n",
            "\n",
            "[6045 rows x 2 columns]\n"
          ]
        }
      ]
    },
    {
      "cell_type": "code",
      "source": [
        "# Filter the data for waterpoint_id 6\n",
        "river = data[data['waterpoints_id'] == 6]\n",
        "#print(river)"
      ],
      "metadata": {
        "id": "nCZREDc73Gn9"
      },
      "execution_count": 22,
      "outputs": []
    },
    {
      "cell_type": "code",
      "source": [
        "river.dropna(inplace=True)\n",
        "#print(river)"
      ],
      "metadata": {
        "colab": {
          "base_uri": "https://localhost:8080/"
        },
        "id": "dc1qXiZM3RxX",
        "outputId": "91baec48-ba05-4bd0-bd45-4b50a7d0565d"
      },
      "execution_count": 23,
      "outputs": [
        {
          "output_type": "stream",
          "name": "stderr",
          "text": [
            "<ipython-input-23-04faa066f5bd>:1: SettingWithCopyWarning: \n",
            "A value is trying to be set on a copy of a slice from a DataFrame\n",
            "\n",
            "See the caveats in the documentation: https://pandas.pydata.org/pandas-docs/stable/user_guide/indexing.html#returning-a-view-versus-a-copy\n",
            "  river.dropna(inplace=True)\n"
          ]
        }
      ]
    },
    {
      "cell_type": "code",
      "source": [
        "river = river.drop(['id', 'waterpoints_id', 'waterpoints_name'], axis=1)\n",
        "river.rename(columns={'water_level': 'river', 'date_time': 'Date'}, inplace=True)\n",
        "print(river)"
      ],
      "metadata": {
        "colab": {
          "base_uri": "https://localhost:8080/"
        },
        "id": "-xTKOxxf3Yv0",
        "outputId": "d1df4b75-073c-445b-febb-267ca50b091d"
      },
      "execution_count": 24,
      "outputs": [
        {
          "output_type": "stream",
          "name": "stdout",
          "text": [
            "                  Date   river\n",
            "19370   1/20/2023 9:00  116.75\n",
            "19371  1/20/2023 10:00  116.75\n",
            "19372  1/20/2023 11:00  116.76\n",
            "19373  1/20/2023 12:00  116.76\n",
            "19374  1/20/2023 13:00  116.74\n",
            "...                ...     ...\n",
            "29287  1/17/2023 19:00  116.86\n",
            "29288  1/17/2023 20:00  116.86\n",
            "29289  1/17/2023 21:00  116.86\n",
            "29290  1/17/2023 22:00  116.86\n",
            "29291  1/17/2023 23:00  116.86\n",
            "\n",
            "[9906 rows x 2 columns]\n"
          ]
        }
      ]
    },
    {
      "cell_type": "code",
      "source": [
        "gw['Date'] = pd.to_datetime(gw['Date'], format='%m/%d/%Y %H:%M')\n",
        "river['Date'] = pd.to_datetime(river['Date'], format='%m/%d/%Y %H:%M')"
      ],
      "metadata": {
        "id": "hBgKLfcG5E_v"
      },
      "execution_count": 25,
      "outputs": []
    },
    {
      "cell_type": "code",
      "source": [
        "# Merge the two datasets on the 'Date' column\n",
        "merged_data = pd.merge_asof(gw.sort_values('Date'), river.sort_values('Date'), on='Date', direction='nearest')\n",
        "# Set 'Date' as the index\n",
        "merged_data.set_index('Date', inplace=True)\n",
        "print(merged_data)"
      ],
      "metadata": {
        "colab": {
          "base_uri": "https://localhost:8080/"
        },
        "id": "12h3bgf53hF0",
        "outputId": "a8a4b5f1-ecdd-4cda-bcc0-ba57a19d29a1"
      },
      "execution_count": 26,
      "outputs": [
        {
          "output_type": "stream",
          "name": "stdout",
          "text": [
            "                         G29    river\n",
            "Date                                 \n",
            "2022-12-19 06:00:00  109.755  115.700\n",
            "2022-12-19 07:00:00  109.753  115.690\n",
            "2022-12-19 08:00:00  109.750  115.690\n",
            "2022-12-19 09:00:00  109.747  115.690\n",
            "2022-12-19 10:00:00  109.745  115.680\n",
            "...                      ...      ...\n",
            "2023-12-28 08:00:00  112.605  120.415\n",
            "2023-12-28 09:00:00  112.613  120.425\n",
            "2023-12-28 10:00:00  112.621  120.430\n",
            "2023-12-28 11:00:00  112.629  120.440\n",
            "2023-12-28 12:00:00  112.637  120.440\n",
            "\n",
            "[6045 rows x 2 columns]\n"
          ]
        }
      ]
    },
    {
      "cell_type": "code",
      "source": [
        "n_steps = 24\n",
        "\n",
        "# Split the original data first before scaling\n",
        "train_size = int(len(merged_data) * 0.7)\n",
        "resampled_data_train = merged_data[:train_size]\n",
        "resampled_data_test = merged_data[train_size:]\n",
        "\n",
        "# Apply MinMaxScaler only to the training data\n",
        "scaler = MinMaxScaler(feature_range=(0, 1))\n",
        "train_scaled = scaler.fit_transform(resampled_data_train)\n",
        "test_scaled = scaler.transform(resampled_data_test)\n",
        "\n",
        "joblib.dump(scaler, 'scaler.gz')\n",
        "\n",
        "\n",
        "# Function to create sequences\n",
        "def create_sequences(data, n_steps):\n",
        "    X, y = [], []\n",
        "    for i in range(n_steps, len(data)):\n",
        "        X.append(data[i-n_steps:i, :])\n",
        "        y.append(data[i, 0])\n",
        "    return np.array(X), np.array(y)\n",
        "\n",
        "# Create sequences for training and testing sets\n",
        "X_train, y_train = create_sequences(train_scaled, n_steps)\n",
        "X_test, y_test = create_sequences(test_scaled, n_steps)\n",
        "\n",
        "# Print shapes of X_train, y_train, X_test, y_test for verification\n",
        "print('X_train shape:', X_train.shape)\n",
        "print('y_train shape:', y_train.shape)\n",
        "print('X_test shape:', X_test.shape)\n",
        "print('y_test shape:', y_test.shape)"
      ],
      "metadata": {
        "colab": {
          "base_uri": "https://localhost:8080/"
        },
        "id": "Cnz5gN9gBKcl",
        "outputId": "9fc6a07c-0aa0-4438-ad07-dece7a1769ea"
      },
      "execution_count": 27,
      "outputs": [
        {
          "output_type": "stream",
          "name": "stdout",
          "text": [
            "X_train shape: (4207, 24, 2)\n",
            "y_train shape: (4207,)\n",
            "X_test shape: (1790, 24, 2)\n",
            "y_test shape: (1790,)\n"
          ]
        }
      ]
    },
    {
      "cell_type": "code",
      "source": [
        "#print(X_train, X_train.shape)"
      ],
      "metadata": {
        "id": "CEIIesHqBQu1"
      },
      "execution_count": 28,
      "outputs": []
    },
    {
      "cell_type": "code",
      "source": [
        "#print(X_test, X_test.shape)"
      ],
      "metadata": {
        "id": "mHv2lq89BnXt"
      },
      "execution_count": 29,
      "outputs": []
    },
    {
      "cell_type": "code",
      "source": [
        "print(y_train, y_train.shape)\n",
        "print(y_test, y_test.shape)"
      ],
      "metadata": {
        "colab": {
          "base_uri": "https://localhost:8080/"
        },
        "id": "1pOKtYh6BrgG",
        "outputId": "92de49f3-25ce-4019-f6a5-1bb1c6d245bd"
      },
      "execution_count": 30,
      "outputs": [
        {
          "output_type": "stream",
          "name": "stdout",
          "text": [
            "[0.15641991 0.15600167 0.1551652  ... 0.09242995 0.09201171 0.09326642] (4207,)\n",
            "[0.09619406 0.0966123  0.0966123  ... 1.37557507 1.37892095 1.38226683] (1790,)\n"
          ]
        }
      ]
    },
    {
      "cell_type": "code",
      "source": [
        "input_shape=(X_train.shape[1], X_train.shape[2])\n",
        "\n",
        "from keras.models import Sequential\n",
        "from keras.layers import LSTM, Dense, Dropout\n",
        "from keras.regularizers import l1_l2\n",
        "\n",
        "model = Sequential([\n",
        "    LSTM(units=50, return_sequences=True, input_shape=input_shape,   #input shape => (timesteps, features).  X => (samples, timesteps, features)\n",
        "         dropout=0.2, recurrent_dropout=0.2,\n",
        "         kernel_regularizer=l1_l2(l1=0.01, l2=0.01)),\n",
        "    Dropout(0.2),\n",
        "    LSTM(units=50, dropout=0.2, recurrent_dropout=0.2),\n",
        "    Dropout(0.2),\n",
        "    Dense(1)\n",
        "])\n",
        "\n",
        "model.compile(optimizer='adam', loss='mean_squared_error')\n",
        "model.fit(X_train, y_train, epochs=50, batch_size=64)"
      ],
      "metadata": {
        "colab": {
          "base_uri": "https://localhost:8080/"
        },
        "id": "nlMLomEJB2QI",
        "outputId": "c7b09214-feb7-401e-84e7-566a44bc22fc"
      },
      "execution_count": 31,
      "outputs": [
        {
          "output_type": "stream",
          "name": "stdout",
          "text": [
            "Epoch 1/50\n",
            "66/66 [==============================] - 12s 68ms/step - loss: 0.3011\n",
            "Epoch 2/50\n",
            "66/66 [==============================] - 6s 93ms/step - loss: 0.1180\n",
            "Epoch 3/50\n",
            "66/66 [==============================] - 4s 66ms/step - loss: 0.0411\n",
            "Epoch 4/50\n",
            "66/66 [==============================] - 4s 66ms/step - loss: 0.0196\n",
            "Epoch 5/50\n",
            "66/66 [==============================] - 6s 94ms/step - loss: 0.0124\n",
            "Epoch 6/50\n",
            "66/66 [==============================] - 4s 66ms/step - loss: 0.0093\n",
            "Epoch 7/50\n",
            "66/66 [==============================] - 5s 70ms/step - loss: 0.0083\n",
            "Epoch 8/50\n",
            "66/66 [==============================] - 6s 89ms/step - loss: 0.0082\n",
            "Epoch 9/50\n",
            "66/66 [==============================] - 4s 68ms/step - loss: 0.0080\n",
            "Epoch 10/50\n",
            "66/66 [==============================] - 6s 95ms/step - loss: 0.0072\n",
            "Epoch 11/50\n",
            "66/66 [==============================] - 5s 71ms/step - loss: 0.0072\n",
            "Epoch 12/50\n",
            "66/66 [==============================] - 4s 67ms/step - loss: 0.0068\n",
            "Epoch 13/50\n",
            "66/66 [==============================] - 6s 92ms/step - loss: 0.0064\n",
            "Epoch 14/50\n",
            "66/66 [==============================] - 4s 66ms/step - loss: 0.0060\n",
            "Epoch 15/50\n",
            "66/66 [==============================] - 4s 66ms/step - loss: 0.0064\n",
            "Epoch 16/50\n",
            "66/66 [==============================] - 6s 94ms/step - loss: 0.0067\n",
            "Epoch 17/50\n",
            "66/66 [==============================] - 4s 66ms/step - loss: 0.0061\n",
            "Epoch 18/50\n",
            "66/66 [==============================] - 6s 86ms/step - loss: 0.0064\n",
            "Epoch 19/50\n",
            "66/66 [==============================] - 6s 83ms/step - loss: 0.0057\n",
            "Epoch 20/50\n",
            "66/66 [==============================] - 4s 65ms/step - loss: 0.0058\n",
            "Epoch 21/50\n",
            "66/66 [==============================] - 5s 81ms/step - loss: 0.0055\n",
            "Epoch 22/50\n",
            "66/66 [==============================] - 5s 76ms/step - loss: 0.0055\n",
            "Epoch 23/50\n",
            "66/66 [==============================] - 4s 65ms/step - loss: 0.0054\n",
            "Epoch 24/50\n",
            "66/66 [==============================] - 6s 89ms/step - loss: 0.0053\n",
            "Epoch 25/50\n",
            "66/66 [==============================] - 4s 67ms/step - loss: 0.0057\n",
            "Epoch 26/50\n",
            "66/66 [==============================] - 4s 65ms/step - loss: 0.0056\n",
            "Epoch 27/50\n",
            "66/66 [==============================] - 6s 92ms/step - loss: 0.0054\n",
            "Epoch 28/50\n",
            "66/66 [==============================] - 4s 66ms/step - loss: 0.0051\n",
            "Epoch 29/50\n",
            "66/66 [==============================] - 4s 66ms/step - loss: 0.0050\n",
            "Epoch 30/50\n",
            "66/66 [==============================] - 6s 91ms/step - loss: 0.0058\n",
            "Epoch 31/50\n",
            "66/66 [==============================] - 4s 65ms/step - loss: 0.0051\n",
            "Epoch 32/50\n",
            "66/66 [==============================] - 4s 65ms/step - loss: 0.0050\n",
            "Epoch 33/50\n",
            "66/66 [==============================] - 6s 92ms/step - loss: 0.0051\n",
            "Epoch 34/50\n",
            "66/66 [==============================] - 4s 65ms/step - loss: 0.0054\n",
            "Epoch 35/50\n",
            "66/66 [==============================] - 5s 72ms/step - loss: 0.0049\n",
            "Epoch 36/50\n",
            "66/66 [==============================] - 6s 85ms/step - loss: 0.0050\n",
            "Epoch 37/50\n",
            "66/66 [==============================] - 4s 67ms/step - loss: 0.0050\n",
            "Epoch 38/50\n",
            "66/66 [==============================] - 5s 81ms/step - loss: 0.0051\n",
            "Epoch 39/50\n",
            "66/66 [==============================] - 5s 75ms/step - loss: 0.0048\n",
            "Epoch 40/50\n",
            "66/66 [==============================] - 4s 66ms/step - loss: 0.0046\n",
            "Epoch 41/50\n",
            "66/66 [==============================] - 6s 90ms/step - loss: 0.0046\n",
            "Epoch 42/50\n",
            "66/66 [==============================] - 4s 67ms/step - loss: 0.0046\n",
            "Epoch 43/50\n",
            "66/66 [==============================] - 4s 65ms/step - loss: 0.0045\n",
            "Epoch 44/50\n",
            "66/66 [==============================] - 6s 92ms/step - loss: 0.0049\n",
            "Epoch 45/50\n",
            "66/66 [==============================] - 4s 65ms/step - loss: 0.0046\n",
            "Epoch 46/50\n",
            "66/66 [==============================] - 4s 66ms/step - loss: 0.0045\n",
            "Epoch 47/50\n",
            "66/66 [==============================] - 6s 93ms/step - loss: 0.0043\n",
            "Epoch 48/50\n",
            "66/66 [==============================] - 4s 66ms/step - loss: 0.0047\n",
            "Epoch 49/50\n",
            "66/66 [==============================] - 4s 66ms/step - loss: 0.0044\n",
            "Epoch 50/50\n",
            "66/66 [==============================] - 6s 93ms/step - loss: 0.0046\n"
          ]
        },
        {
          "output_type": "execute_result",
          "data": {
            "text/plain": [
              "<keras.src.callbacks.History at 0x792b5c5b7df0>"
            ]
          },
          "metadata": {},
          "execution_count": 31
        }
      ]
    },
    {
      "cell_type": "code",
      "source": [
        "mse = model.evaluate(X_test, y_test)\n",
        "print(mse)\n"
      ],
      "metadata": {
        "colab": {
          "base_uri": "https://localhost:8080/"
        },
        "id": "P_TmPfkqB892",
        "outputId": "710a422b-9d6c-4cf2-80bf-8a2418360443"
      },
      "execution_count": 32,
      "outputs": [
        {
          "output_type": "stream",
          "name": "stdout",
          "text": [
            "56/56 [==============================] - 1s 10ms/step - loss: 0.0027\n",
            "0.002710771979764104\n"
          ]
        }
      ]
    },
    {
      "cell_type": "code",
      "source": [
        "model.save('lstmmodel.h5')\n",
        "model = load_model('lstmmodel.h5')\n",
        "scaler = joblib.load('scaler.gz')"
      ],
      "metadata": {
        "colab": {
          "base_uri": "https://localhost:8080/"
        },
        "id": "Fp-r6_UrDH2y",
        "outputId": "b18c38ae-7e33-480b-9d5a-ae46f0113e5b"
      },
      "execution_count": 33,
      "outputs": [
        {
          "output_type": "stream",
          "name": "stderr",
          "text": [
            "/usr/local/lib/python3.10/dist-packages/keras/src/engine/training.py:3103: UserWarning: You are saving your model as an HDF5 file via `model.save()`. This file format is considered legacy. We recommend using instead the native Keras format, e.g. `model.save('my_model.keras')`.\n",
            "  saving_api.save_model(\n"
          ]
        }
      ]
    },
    {
      "cell_type": "code",
      "source": [
        "#Take the last 24 hour data\n",
        "#Preprocess this using similar steps used before for creating a merged dataframe to combine river and gw values\n",
        "#Preprocess the merged dataframe to create a 3D array for input to the model.predict function\n",
        "\n",
        "\n"
      ],
      "metadata": {
        "id": "wzNm6nEGDjNl"
      },
      "execution_count": null,
      "outputs": []
    },
    {
      "cell_type": "code",
      "source": [
        "actual_values = []\n",
        "predicted_values = []"
      ],
      "metadata": {
        "id": "5fnu2UD6GgSI"
      },
      "execution_count": null,
      "outputs": []
    }
  ]
}
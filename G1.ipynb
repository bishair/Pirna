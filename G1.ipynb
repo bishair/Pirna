{
  "nbformat": 4,
  "nbformat_minor": 0,
  "metadata": {
    "colab": {
      "provenance": [],
      "authorship_tag": "ABX9TyM2j4HJHowYFbRR6Q8NCmiK",
      "include_colab_link": true
    },
    "kernelspec": {
      "name": "python3",
      "display_name": "Python 3"
    },
    "language_info": {
      "name": "python"
    }
  },
  "cells": [
    {
      "cell_type": "markdown",
      "metadata": {
        "id": "view-in-github",
        "colab_type": "text"
      },
      "source": [
        "<a href=\"https://colab.research.google.com/github/bishair/Pirna/blob/main/G1.ipynb\" target=\"_parent\"><img src=\"https://colab.research.google.com/assets/colab-badge.svg\" alt=\"Open In Colab\"/></a>"
      ]
    },
    {
      "cell_type": "code",
      "execution_count": 1,
      "metadata": {
        "id": "C_ZwOgjn9aIm"
      },
      "outputs": [],
      "source": [
        "import numpy as np\n",
        "import pandas as pd\n",
        "from google.colab import files\n",
        "import matplotlib.pyplot as plt\n",
        "from sklearn.preprocessing import MinMaxScaler\n",
        "from sklearn.metrics import mean_squared_error\n",
        "from tensorflow.keras.models import Sequential, load_model\n",
        "from tensorflow.keras.layers import LSTM, Dense\n",
        "from tensorflow.keras.optimizers import Adam\n",
        "from math import sqrt\n",
        "from tensorflow.keras.callbacks import EarlyStopping, ModelCheckpoint\n",
        "from keras.models import load_model\n",
        "import matplotlib.pyplot as plt\n",
        "from IPython.display import display\n",
        "import joblib\n"
      ]
    },
    {
      "cell_type": "code",
      "source": [
        "uploaded_file = files.upload()"
      ],
      "metadata": {
        "colab": {
          "base_uri": "https://localhost:8080/",
          "height": 73
        },
        "id": "0tVKWApU9dgd",
        "outputId": "9ad858e1-ff96-40e1-8b46-cdfb7db27ac7"
      },
      "execution_count": 3,
      "outputs": [
        {
          "output_type": "display_data",
          "data": {
            "text/plain": [
              "<IPython.core.display.HTML object>"
            ],
            "text/html": [
              "\n",
              "     <input type=\"file\" id=\"files-96f8ea51-2fc4-4873-9e20-42ec275242eb\" name=\"files[]\" multiple disabled\n",
              "        style=\"border:none\" />\n",
              "     <output id=\"result-96f8ea51-2fc4-4873-9e20-42ec275242eb\">\n",
              "      Upload widget is only available when the cell has been executed in the\n",
              "      current browser session. Please rerun this cell to enable.\n",
              "      </output>\n",
              "      <script>// Copyright 2017 Google LLC\n",
              "//\n",
              "// Licensed under the Apache License, Version 2.0 (the \"License\");\n",
              "// you may not use this file except in compliance with the License.\n",
              "// You may obtain a copy of the License at\n",
              "//\n",
              "//      http://www.apache.org/licenses/LICENSE-2.0\n",
              "//\n",
              "// Unless required by applicable law or agreed to in writing, software\n",
              "// distributed under the License is distributed on an \"AS IS\" BASIS,\n",
              "// WITHOUT WARRANTIES OR CONDITIONS OF ANY KIND, either express or implied.\n",
              "// See the License for the specific language governing permissions and\n",
              "// limitations under the License.\n",
              "\n",
              "/**\n",
              " * @fileoverview Helpers for google.colab Python module.\n",
              " */\n",
              "(function(scope) {\n",
              "function span(text, styleAttributes = {}) {\n",
              "  const element = document.createElement('span');\n",
              "  element.textContent = text;\n",
              "  for (const key of Object.keys(styleAttributes)) {\n",
              "    element.style[key] = styleAttributes[key];\n",
              "  }\n",
              "  return element;\n",
              "}\n",
              "\n",
              "// Max number of bytes which will be uploaded at a time.\n",
              "const MAX_PAYLOAD_SIZE = 100 * 1024;\n",
              "\n",
              "function _uploadFiles(inputId, outputId) {\n",
              "  const steps = uploadFilesStep(inputId, outputId);\n",
              "  const outputElement = document.getElementById(outputId);\n",
              "  // Cache steps on the outputElement to make it available for the next call\n",
              "  // to uploadFilesContinue from Python.\n",
              "  outputElement.steps = steps;\n",
              "\n",
              "  return _uploadFilesContinue(outputId);\n",
              "}\n",
              "\n",
              "// This is roughly an async generator (not supported in the browser yet),\n",
              "// where there are multiple asynchronous steps and the Python side is going\n",
              "// to poll for completion of each step.\n",
              "// This uses a Promise to block the python side on completion of each step,\n",
              "// then passes the result of the previous step as the input to the next step.\n",
              "function _uploadFilesContinue(outputId) {\n",
              "  const outputElement = document.getElementById(outputId);\n",
              "  const steps = outputElement.steps;\n",
              "\n",
              "  const next = steps.next(outputElement.lastPromiseValue);\n",
              "  return Promise.resolve(next.value.promise).then((value) => {\n",
              "    // Cache the last promise value to make it available to the next\n",
              "    // step of the generator.\n",
              "    outputElement.lastPromiseValue = value;\n",
              "    return next.value.response;\n",
              "  });\n",
              "}\n",
              "\n",
              "/**\n",
              " * Generator function which is called between each async step of the upload\n",
              " * process.\n",
              " * @param {string} inputId Element ID of the input file picker element.\n",
              " * @param {string} outputId Element ID of the output display.\n",
              " * @return {!Iterable<!Object>} Iterable of next steps.\n",
              " */\n",
              "function* uploadFilesStep(inputId, outputId) {\n",
              "  const inputElement = document.getElementById(inputId);\n",
              "  inputElement.disabled = false;\n",
              "\n",
              "  const outputElement = document.getElementById(outputId);\n",
              "  outputElement.innerHTML = '';\n",
              "\n",
              "  const pickedPromise = new Promise((resolve) => {\n",
              "    inputElement.addEventListener('change', (e) => {\n",
              "      resolve(e.target.files);\n",
              "    });\n",
              "  });\n",
              "\n",
              "  const cancel = document.createElement('button');\n",
              "  inputElement.parentElement.appendChild(cancel);\n",
              "  cancel.textContent = 'Cancel upload';\n",
              "  const cancelPromise = new Promise((resolve) => {\n",
              "    cancel.onclick = () => {\n",
              "      resolve(null);\n",
              "    };\n",
              "  });\n",
              "\n",
              "  // Wait for the user to pick the files.\n",
              "  const files = yield {\n",
              "    promise: Promise.race([pickedPromise, cancelPromise]),\n",
              "    response: {\n",
              "      action: 'starting',\n",
              "    }\n",
              "  };\n",
              "\n",
              "  cancel.remove();\n",
              "\n",
              "  // Disable the input element since further picks are not allowed.\n",
              "  inputElement.disabled = true;\n",
              "\n",
              "  if (!files) {\n",
              "    return {\n",
              "      response: {\n",
              "        action: 'complete',\n",
              "      }\n",
              "    };\n",
              "  }\n",
              "\n",
              "  for (const file of files) {\n",
              "    const li = document.createElement('li');\n",
              "    li.append(span(file.name, {fontWeight: 'bold'}));\n",
              "    li.append(span(\n",
              "        `(${file.type || 'n/a'}) - ${file.size} bytes, ` +\n",
              "        `last modified: ${\n",
              "            file.lastModifiedDate ? file.lastModifiedDate.toLocaleDateString() :\n",
              "                                    'n/a'} - `));\n",
              "    const percent = span('0% done');\n",
              "    li.appendChild(percent);\n",
              "\n",
              "    outputElement.appendChild(li);\n",
              "\n",
              "    const fileDataPromise = new Promise((resolve) => {\n",
              "      const reader = new FileReader();\n",
              "      reader.onload = (e) => {\n",
              "        resolve(e.target.result);\n",
              "      };\n",
              "      reader.readAsArrayBuffer(file);\n",
              "    });\n",
              "    // Wait for the data to be ready.\n",
              "    let fileData = yield {\n",
              "      promise: fileDataPromise,\n",
              "      response: {\n",
              "        action: 'continue',\n",
              "      }\n",
              "    };\n",
              "\n",
              "    // Use a chunked sending to avoid message size limits. See b/62115660.\n",
              "    let position = 0;\n",
              "    do {\n",
              "      const length = Math.min(fileData.byteLength - position, MAX_PAYLOAD_SIZE);\n",
              "      const chunk = new Uint8Array(fileData, position, length);\n",
              "      position += length;\n",
              "\n",
              "      const base64 = btoa(String.fromCharCode.apply(null, chunk));\n",
              "      yield {\n",
              "        response: {\n",
              "          action: 'append',\n",
              "          file: file.name,\n",
              "          data: base64,\n",
              "        },\n",
              "      };\n",
              "\n",
              "      let percentDone = fileData.byteLength === 0 ?\n",
              "          100 :\n",
              "          Math.round((position / fileData.byteLength) * 100);\n",
              "      percent.textContent = `${percentDone}% done`;\n",
              "\n",
              "    } while (position < fileData.byteLength);\n",
              "  }\n",
              "\n",
              "  // All done.\n",
              "  yield {\n",
              "    response: {\n",
              "      action: 'complete',\n",
              "    }\n",
              "  };\n",
              "}\n",
              "\n",
              "scope.google = scope.google || {};\n",
              "scope.google.colab = scope.google.colab || {};\n",
              "scope.google.colab._files = {\n",
              "  _uploadFiles,\n",
              "  _uploadFilesContinue,\n",
              "};\n",
              "})(self);\n",
              "</script> "
            ]
          },
          "metadata": {}
        },
        {
          "output_type": "stream",
          "name": "stdout",
          "text": [
            "Saving G1river.xlsx to G1river.xlsx\n"
          ]
        }
      ]
    },
    {
      "cell_type": "code",
      "source": [
        "# Read the groundwater level data\n",
        "gw_data = pd.read_excel('G1.xlsx')\n",
        "gw_data.dropna(inplace=True)\n",
        "gw_data['Date'] = pd.to_datetime(gw_data['Date'], format='%d/%m/%Y %H:%M')\n",
        "print(gw_data)"
      ],
      "metadata": {
        "colab": {
          "base_uri": "https://localhost:8080/"
        },
        "id": "50qRQosE9jBa",
        "outputId": "2d5bcee2-2044-4541-990e-3ae59c459f4a"
      },
      "execution_count": 4,
      "outputs": [
        {
          "output_type": "stream",
          "name": "stdout",
          "text": [
            "                     Date       G1\n",
            "0     2019-04-09 03:30:00  110.389\n",
            "1     2019-04-09 04:30:00  110.386\n",
            "2     2019-04-09 05:30:00  110.384\n",
            "3     2019-04-09 06:30:00  110.381\n",
            "4     2019-04-09 07:30:00  110.378\n",
            "...                   ...      ...\n",
            "38617 2023-09-04 08:00:00  109.378\n",
            "38618 2023-09-04 09:00:00  109.378\n",
            "38619 2023-09-04 10:00:00  109.376\n",
            "38620 2023-09-04 11:00:00  109.377\n",
            "38621 2023-09-04 12:00:00  109.375\n",
            "\n",
            "[38609 rows x 2 columns]\n"
          ]
        }
      ]
    },
    {
      "cell_type": "code",
      "source": [
        "from dateutil import parser\n",
        "import pandas as pd\n",
        "\n",
        "def parse_dates(date):\n",
        "    if isinstance(date, pd.Timestamp):\n",
        "        return date  # Return the date as is if it's already a datetime object\n",
        "    try:\n",
        "        return parser.parse(date)\n",
        "    except ValueError:\n",
        "        #print(f\"Unable to parse date: {date}\")\n",
        "        return None\n",
        "    except TypeError:\n",
        "        #print(f\"Invalid type for date: {date}\")\n",
        "        return None\n",
        "\n",
        "# Read the data\n",
        "river_data = pd.read_excel('G1river.xlsx')\n",
        "# Apply the function to the Date column\n",
        "river_data['Date'] = river_data['Date'].apply(parse_dates)\n",
        "#print(river_data)\n"
      ],
      "metadata": {
        "id": "HrNFm_wdApZR"
      },
      "execution_count": 5,
      "outputs": []
    },
    {
      "cell_type": "code",
      "source": [
        "river_data['Date'] = pd.to_datetime(river_data['Date'], format='%Y/%m/%d %H:%M')\n",
        "river_data.dropna(inplace=True)\n",
        "print(river_data)"
      ],
      "metadata": {
        "colab": {
          "base_uri": "https://localhost:8080/"
        },
        "id": "ezuYfRAi9oV1",
        "outputId": "af75aac4-75b9-4b5e-fb69-d5e8fab7aa64"
      },
      "execution_count": 6,
      "outputs": [
        {
          "output_type": "stream",
          "name": "stdout",
          "text": [
            "                     Date  River\n",
            "285   2019-01-13 00:00:00  222.0\n",
            "286   2019-01-13 01:00:00  223.0\n",
            "287   2019-01-13 02:00:00  223.0\n",
            "288   2019-01-13 03:00:00  225.0\n",
            "289   2019-01-13 04:00:00  225.0\n",
            "...                   ...    ...\n",
            "41837 2023-11-29 15:00:00  238.0\n",
            "41838 2023-11-29 16:00:00  238.0\n",
            "41839 2023-11-29 17:00:00  237.0\n",
            "41840 2023-11-29 18:00:00  237.0\n",
            "41841 2023-11-29 19:00:00  236.0\n",
            "\n",
            "[25301 rows x 2 columns]\n"
          ]
        }
      ]
    },
    {
      "cell_type": "code",
      "source": [
        "merged_data = pd.merge_asof(gw_data.sort_values('Date'), river_data.sort_values('Date'), on='Date', direction='nearest')"
      ],
      "metadata": {
        "id": "nCz0UyQK-EcQ"
      },
      "execution_count": 7,
      "outputs": []
    },
    {
      "cell_type": "code",
      "source": [
        "# Set 'Date' as the index\n",
        "merged_data.set_index('Date', inplace=True)\n",
        "print(merged_data)"
      ],
      "metadata": {
        "colab": {
          "base_uri": "https://localhost:8080/"
        },
        "id": "Ej2xV-ahBXph",
        "outputId": "f8cdaef9-f8b5-4628-8204-c9f140167db7"
      },
      "execution_count": 8,
      "outputs": [
        {
          "output_type": "stream",
          "name": "stdout",
          "text": [
            "                          G1  River\n",
            "Date                               \n",
            "2019-04-09 03:30:00  110.389  210.0\n",
            "2019-04-09 04:30:00  110.386  210.0\n",
            "2019-04-09 05:30:00  110.384  210.0\n",
            "2019-04-09 06:30:00  110.381  210.0\n",
            "2019-04-09 07:30:00  110.378  210.0\n",
            "...                      ...    ...\n",
            "2023-09-04 08:00:00  109.378  151.0\n",
            "2023-09-04 09:00:00  109.378  151.0\n",
            "2023-09-04 10:00:00  109.376  151.0\n",
            "2023-09-04 11:00:00  109.377  151.0\n",
            "2023-09-04 12:00:00  109.375  151.0\n",
            "\n",
            "[38609 rows x 2 columns]\n"
          ]
        }
      ]
    },
    {
      "cell_type": "code",
      "source": [
        "n_steps = 24\n",
        "\n",
        "# Assume merged_data is a DataFrame with 'Date' as index\n",
        "merged_data_copy = merged_data.copy()\n",
        "merged_data_copy.reset_index(inplace=True)\n",
        "dates = merged_data_copy['Date']\n",
        "\n",
        "# Split the merged data (70% training, 30% testing)\n",
        "train_size = int(len(merged_data) * 0.7)\n",
        "merged_data_train = merged_data[:train_size]\n",
        "merged_data_test = merged_data[train_size:]\n",
        "\n",
        "# Split dates corresponding to the data split\n",
        "dates_train = dates[:train_size]\n",
        "dates_test = dates[train_size:]\n",
        "\n",
        "# Apply MinMaxScaler\n",
        "scaler = MinMaxScaler(feature_range=(0, 1))\n",
        "train_scaled = scaler.fit_transform(merged_data_train)\n",
        "test_scaled = scaler.transform(merged_data_test)\n",
        "\n",
        "# Save the scaler for future use\n",
        "joblib.dump(scaler, 'scaler.gz')\n",
        "\n",
        "def create_sequences_with_dates(data, dates, n_steps):\n",
        "    \"\"\"\n",
        "    Create sequences along with corresponding dates.\n",
        "    \"\"\"\n",
        "    X, y, dates_seq = [], [], []\n",
        "    for i in range(n_steps, len(data)):\n",
        "        X.append(data[i-n_steps:i, :])\n",
        "        y.append(data[i, 0])\n",
        "        # Capture the full range of dates for each sequence\n",
        "        dates_seq.append(dates.iloc[i - n_steps + 1 : i + 1])\n",
        "    return np.array(X), np.array(y), np.array(dates_seq)\n",
        "\n",
        "# Create sequences for training and testing sets\n",
        "X_train, y_train, dates_train_seq = create_sequences_with_dates(train_scaled, dates_train, n_steps)\n",
        "X_test, y_test, dates_test_seq = create_sequences_with_dates(test_scaled, dates_test, n_steps)\n",
        "\n",
        "# Print shapes of X_train, y_train, X_test, y_test for verification\n",
        "print('X_train shape:', X_train.shape)\n",
        "print('y_train shape:', y_train.shape)\n",
        "print('X_test shape:', X_test.shape)\n",
        "print('y_test shape:', y_test.shape)\n",
        "print(dates_test_seq)"
      ],
      "metadata": {
        "colab": {
          "base_uri": "https://localhost:8080/"
        },
        "id": "qqjjxm5mBom6",
        "outputId": "2f4cf587-f1f2-4a40-d7be-2f28a507c886"
      },
      "execution_count": 9,
      "outputs": [
        {
          "output_type": "stream",
          "name": "stdout",
          "text": [
            "X_train shape: (27002, 24, 2)\n",
            "y_train shape: (27002,)\n",
            "X_test shape: (11559, 24, 2)\n",
            "y_test shape: (11559,)\n",
            "[['2022-05-09T23:00:00.000000000' '2022-05-10T00:00:00.000000000'\n",
            "  '2022-05-10T01:00:00.000000000' ... '2022-05-10T20:00:00.000000000'\n",
            "  '2022-05-10T21:00:00.000000000' '2022-05-10T22:00:00.000000000']\n",
            " ['2022-05-10T00:00:00.000000000' '2022-05-10T01:00:00.000000000'\n",
            "  '2022-05-10T02:00:00.000000000' ... '2022-05-10T21:00:00.000000000'\n",
            "  '2022-05-10T22:00:00.000000000' '2022-05-10T23:00:00.000000000']\n",
            " ['2022-05-10T01:00:00.000000000' '2022-05-10T02:00:00.000000000'\n",
            "  '2022-05-10T03:00:00.000000000' ... '2022-05-10T22:00:00.000000000'\n",
            "  '2022-05-10T23:00:00.000000000' '2022-05-11T00:00:00.000000000']\n",
            " ...\n",
            " ['2023-09-03T11:00:00.000000000' '2023-09-03T12:00:00.000000000'\n",
            "  '2023-09-03T13:00:00.000000000' ... '2023-09-04T08:00:00.000000000'\n",
            "  '2023-09-04T09:00:00.000000000' '2023-09-04T10:00:00.000000000']\n",
            " ['2023-09-03T12:00:00.000000000' '2023-09-03T13:00:00.000000000'\n",
            "  '2023-09-03T14:00:00.000000000' ... '2023-09-04T09:00:00.000000000'\n",
            "  '2023-09-04T10:00:00.000000000' '2023-09-04T11:00:00.000000000']\n",
            " ['2023-09-03T13:00:00.000000000' '2023-09-03T14:00:00.000000000'\n",
            "  '2023-09-03T15:00:00.000000000' ... '2023-09-04T10:00:00.000000000'\n",
            "  '2023-09-04T11:00:00.000000000' '2023-09-04T12:00:00.000000000']]\n"
          ]
        }
      ]
    },
    {
      "cell_type": "code",
      "source": [
        "input_shape=(X_train.shape[1], X_train.shape[2])\n",
        "\n",
        "from keras.models import Sequential\n",
        "from keras.layers import LSTM, Dense, Dropout\n",
        "from keras.regularizers import l1_l2\n",
        "\n",
        "model = Sequential([\n",
        "    LSTM(units=50, return_sequences=True, input_shape=input_shape,   #input shape => (timesteps, features).  X => (samples, timesteps, features)\n",
        "         dropout=0.2, recurrent_dropout=0.2,\n",
        "         kernel_regularizer=l1_l2(l1=0.01, l2=0.01)),\n",
        "    Dropout(0.2),\n",
        "    LSTM(units=50, dropout=0.2, recurrent_dropout=0.2),\n",
        "    Dropout(0.2),\n",
        "    Dense(1)\n",
        "])\n",
        "\n",
        "model.compile(optimizer='adam', loss='mean_squared_error')\n",
        "model.fit(X_train, y_train, epochs=25, batch_size=64)"
      ],
      "metadata": {
        "colab": {
          "base_uri": "https://localhost:8080/"
        },
        "id": "rYpUky_kBsbj",
        "outputId": "171bdaa4-dd9a-4ee2-b68d-ada4d99f7b40"
      },
      "execution_count": 10,
      "outputs": [
        {
          "output_type": "stream",
          "name": "stdout",
          "text": [
            "Epoch 1/25\n",
            "422/422 [==============================] - 21s 39ms/step - loss: 0.0662\n",
            "Epoch 2/25\n",
            "422/422 [==============================] - 17s 40ms/step - loss: 0.0049\n",
            "Epoch 3/25\n",
            "422/422 [==============================] - 16s 39ms/step - loss: 0.0040\n",
            "Epoch 4/25\n",
            "422/422 [==============================] - 17s 40ms/step - loss: 0.0036\n",
            "Epoch 5/25\n",
            "422/422 [==============================] - 16s 38ms/step - loss: 0.0035\n",
            "Epoch 6/25\n",
            "422/422 [==============================] - 17s 39ms/step - loss: 0.0033\n",
            "Epoch 7/25\n",
            "422/422 [==============================] - 16s 38ms/step - loss: 0.0031\n",
            "Epoch 8/25\n",
            "422/422 [==============================] - 17s 39ms/step - loss: 0.0030\n",
            "Epoch 9/25\n",
            "422/422 [==============================] - 17s 40ms/step - loss: 0.0030\n",
            "Epoch 10/25\n",
            "422/422 [==============================] - 17s 40ms/step - loss: 0.0029\n",
            "Epoch 11/25\n",
            "422/422 [==============================] - 16s 39ms/step - loss: 0.0029\n",
            "Epoch 12/25\n",
            "422/422 [==============================] - 17s 40ms/step - loss: 0.0028\n",
            "Epoch 13/25\n",
            "422/422 [==============================] - 26s 61ms/step - loss: 0.0027\n",
            "Epoch 14/25\n",
            "422/422 [==============================] - 16s 38ms/step - loss: 0.0027\n",
            "Epoch 15/25\n",
            "422/422 [==============================] - 17s 40ms/step - loss: 0.0027\n",
            "Epoch 16/25\n",
            "422/422 [==============================] - 16s 39ms/step - loss: 0.0026\n",
            "Epoch 17/25\n",
            "422/422 [==============================] - 17s 41ms/step - loss: 0.0026\n",
            "Epoch 18/25\n",
            "422/422 [==============================] - 17s 39ms/step - loss: 0.0025\n",
            "Epoch 19/25\n",
            "422/422 [==============================] - 17s 39ms/step - loss: 0.0025\n",
            "Epoch 20/25\n",
            "422/422 [==============================] - 16s 39ms/step - loss: 0.0026\n",
            "Epoch 21/25\n",
            "422/422 [==============================] - 17s 39ms/step - loss: 0.0026\n",
            "Epoch 22/25\n",
            "422/422 [==============================] - 16s 39ms/step - loss: 0.0026\n",
            "Epoch 23/25\n",
            "422/422 [==============================] - 17s 41ms/step - loss: 0.0025\n",
            "Epoch 24/25\n",
            "422/422 [==============================] - 17s 40ms/step - loss: 0.0026\n",
            "Epoch 25/25\n",
            "422/422 [==============================] - 16s 39ms/step - loss: 0.0025\n"
          ]
        },
        {
          "output_type": "execute_result",
          "data": {
            "text/plain": [
              "<keras.src.callbacks.History at 0x7ef8468323b0>"
            ]
          },
          "metadata": {},
          "execution_count": 10
        }
      ]
    },
    {
      "cell_type": "code",
      "source": [
        "model.save('lstmmodel.h5')"
      ],
      "metadata": {
        "colab": {
          "base_uri": "https://localhost:8080/"
        },
        "id": "32n-R_xbB0RW",
        "outputId": "03cb6377-e7a6-449c-e499-f2869664d15f"
      },
      "execution_count": 11,
      "outputs": [
        {
          "output_type": "stream",
          "name": "stderr",
          "text": [
            "/usr/local/lib/python3.10/dist-packages/keras/src/engine/training.py:3103: UserWarning: You are saving your model as an HDF5 file via `model.save()`. This file format is considered legacy. We recommend using instead the native Keras format, e.g. `model.save('my_model.keras')`.\n",
            "  saving_api.save_model(\n"
          ]
        }
      ]
    },
    {
      "cell_type": "code",
      "source": [
        "model = load_model('lstmmodel.h5')\n",
        "scaler = joblib.load('scaler.gz')"
      ],
      "metadata": {
        "id": "Ig3xdybDH4hZ"
      },
      "execution_count": 12,
      "outputs": []
    },
    {
      "cell_type": "code",
      "source": [
        "# Function to retrain the model with new data\n",
        "def retrain_model(model, X_new, y_new, epochs=5, batch_size=32):\n",
        "    # Partial retraining of the model with new data\n",
        "    model.fit(X_new, y_new, epochs=epochs, batch_size=batch_size, shuffle=True)\n",
        "    return model\n"
      ],
      "metadata": {
        "id": "RAMczvlGH6Xm"
      },
      "execution_count": 13,
      "outputs": []
    },
    {
      "cell_type": "code",
      "source": [
        "import matplotlib.pyplot as plt\n",
        "import numpy as np\n",
        "import pandas as pd\n",
        "from sklearn.metrics import mean_squared_error\n",
        "\n",
        "# Predict the entire dataset\n",
        "X_test_reshaped = np.reshape(X_test, (X_test.shape[0], X_test.shape[1], X_test.shape[2]))\n",
        "forecasts = model.predict(X_test_reshaped)\n",
        "\n",
        "# Inverse transform the predictions\n",
        "dummy_array = np.zeros((len(forecasts), 2))\n",
        "dummy_array[:, 0] = forecasts[:, 0]\n",
        "predicted_values = scaler.inverse_transform(dummy_array)[:, 0]\n",
        "\n",
        "# Inverse transform the actual values for comparison\n",
        "actual_values = scaler.inverse_transform(np.column_stack((y_test, np.zeros(y_test.shape[0]))))[:, 0]\n",
        "\n",
        "# Calculate MSE\n",
        "mse = mean_squared_error(actual_values, predicted_values)\n",
        "\n",
        "# Extract dates for plotting\n",
        "dates_for_plotting = [pd.to_datetime(dates_test_seq[i][-1]) for i in range(len(dates_test_seq))]\n",
        "\n",
        "# Plotting\n",
        "fig, ax = plt.subplots(figsize=(10, 6))\n",
        "ax.plot(dates_for_plotting, actual_values, label='Observed', color='blue')\n",
        "ax.plot(dates_for_plotting, predicted_values, label='Predicted', color='red')\n",
        "ax.set_title(f'G1 - MSE: {mse:.4f}')\n",
        "ax.set_xlabel('Date')\n",
        "ax.set_ylabel('Water Level')\n",
        "ax.legend()\n",
        "plt.show()\n"
      ],
      "metadata": {
        "colab": {
          "base_uri": "https://localhost:8080/",
          "height": 581
        },
        "id": "-kf44MjjIAGr",
        "outputId": "75495a7b-0c68-4faa-de06-9e4f962c13e6"
      },
      "execution_count": 14,
      "outputs": [
        {
          "output_type": "stream",
          "name": "stdout",
          "text": [
            "362/362 [==============================] - 2s 6ms/step\n"
          ]
        },
        {
          "output_type": "display_data",
          "data": {
            "text/plain": [
              "<Figure size 1000x600 with 1 Axes>"
            ],
            "image/png": "[encoded data removed]"
          },
          "metadata": {}
        }
      ]
    },
    {
      "cell_type": "code",
      "source": [],
      "metadata": {
        "id": "csGNA5QlIYJB"
      },
      "execution_count": null,
      "outputs": []
    }
  ]
}
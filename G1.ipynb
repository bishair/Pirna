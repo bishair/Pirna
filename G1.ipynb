{
  "nbformat": 4,
  "nbformat_minor": 0,
  "metadata": {
    "colab": {
      "provenance": [],
      "authorship_tag": "ABX9TyPzuP/1PJ9V3j2uwmiDqe/K",
      "include_colab_link": true
    },
    "kernelspec": {
      "name": "python3",
      "display_name": "Python 3"
    },
    "language_info": {
      "name": "python"
    }
  },
  "cells": [
    {
      "cell_type": "markdown",
      "metadata": {
        "id": "view-in-github",
        "colab_type": "text"
      },
      "source": [
        "<a href=\"https://colab.research.google.com/github/bishair/Pirna/blob/main/G1.ipynb\" target=\"_parent\"><img src=\"https://colab.research.google.com/assets/colab-badge.svg\" alt=\"Open In Colab\"/></a>"
      ]
    },
    {
      "cell_type": "code",
      "execution_count": 1,
      "metadata": {
        "id": "C_ZwOgjn9aIm"
      },
      "outputs": [],
      "source": [
        "import numpy as np\n",
        "import pandas as pd\n",
        "from google.colab import files\n",
        "import matplotlib.pyplot as plt\n",
        "from sklearn.preprocessing import MinMaxScaler\n",
        "from sklearn.metrics import mean_squared_error\n",
        "from tensorflow.keras.models import Sequential, load_model\n",
        "from tensorflow.keras.layers import LSTM, Dense\n",
        "from tensorflow.keras.optimizers import Adam\n",
        "from math import sqrt\n",
        "from tensorflow.keras.callbacks import EarlyStopping, ModelCheckpoint\n",
        "from keras.models import load_model\n",
        "import matplotlib.pyplot as plt\n",
        "from IPython.display import display\n",
        "import joblib\n"
      ]
    },
    {
      "cell_type": "code",
      "source": [
        "uploaded_file = files.upload()"
      ],
      "metadata": {
        "colab": {
          "base_uri": "https://localhost:8080/",
          "height": 73
        },
        "id": "0tVKWApU9dgd",
        "outputId": "d1e286d7-94a2-452a-f91b-e07710c584e2"
      },
      "execution_count": 11,
      "outputs": [
        {
          "output_type": "display_data",
          "data": {
            "text/plain": [
              "<IPython.core.display.HTML object>"
            ],
            "text/html": [
              "\n",
              "     <input type=\"file\" id=\"files-20f50708-ba4b-4c78-a58b-4335e0986397\" name=\"files[]\" multiple disabled\n",
              "        style=\"border:none\" />\n",
              "     <output id=\"result-20f50708-ba4b-4c78-a58b-4335e0986397\">\n",
              "      Upload widget is only available when the cell has been executed in the\n",
              "      current browser session. Please rerun this cell to enable.\n",
              "      </output>\n",
              "      <script>// Copyright 2017 Google LLC\n",
              "//\n",
              "// Licensed under the Apache License, Version 2.0 (the \"License\");\n",
              "// you may not use this file except in compliance with the License.\n",
              "// You may obtain a copy of the License at\n",
              "//\n",
              "//      http://www.apache.org/licenses/LICENSE-2.0\n",
              "//\n",
              "// Unless required by applicable law or agreed to in writing, software\n",
              "// distributed under the License is distributed on an \"AS IS\" BASIS,\n",
              "// WITHOUT WARRANTIES OR CONDITIONS OF ANY KIND, either express or implied.\n",
              "// See the License for the specific language governing permissions and\n",
              "// limitations under the License.\n",
              "\n",
              "/**\n",
              " * @fileoverview Helpers for google.colab Python module.\n",
              " */\n",
              "(function(scope) {\n",
              "function span(text, styleAttributes = {}) {\n",
              "  const element = document.createElement('span');\n",
              "  element.textContent = text;\n",
              "  for (const key of Object.keys(styleAttributes)) {\n",
              "    element.style[key] = styleAttributes[key];\n",
              "  }\n",
              "  return element;\n",
              "}\n",
              "\n",
              "// Max number of bytes which will be uploaded at a time.\n",
              "const MAX_PAYLOAD_SIZE = 100 * 1024;\n",
              "\n",
              "function _uploadFiles(inputId, outputId) {\n",
              "  const steps = uploadFilesStep(inputId, outputId);\n",
              "  const outputElement = document.getElementById(outputId);\n",
              "  // Cache steps on the outputElement to make it available for the next call\n",
              "  // to uploadFilesContinue from Python.\n",
              "  outputElement.steps = steps;\n",
              "\n",
              "  return _uploadFilesContinue(outputId);\n",
              "}\n",
              "\n",
              "// This is roughly an async generator (not supported in the browser yet),\n",
              "// where there are multiple asynchronous steps and the Python side is going\n",
              "// to poll for completion of each step.\n",
              "// This uses a Promise to block the python side on completion of each step,\n",
              "// then passes the result of the previous step as the input to the next step.\n",
              "function _uploadFilesContinue(outputId) {\n",
              "  const outputElement = document.getElementById(outputId);\n",
              "  const steps = outputElement.steps;\n",
              "\n",
              "  const next = steps.next(outputElement.lastPromiseValue);\n",
              "  return Promise.resolve(next.value.promise).then((value) => {\n",
              "    // Cache the last promise value to make it available to the next\n",
              "    // step of the generator.\n",
              "    outputElement.lastPromiseValue = value;\n",
              "    return next.value.response;\n",
              "  });\n",
              "}\n",
              "\n",
              "/**\n",
              " * Generator function which is called between each async step of the upload\n",
              " * process.\n",
              " * @param {string} inputId Element ID of the input file picker element.\n",
              " * @param {string} outputId Element ID of the output display.\n",
              " * @return {!Iterable<!Object>} Iterable of next steps.\n",
              " */\n",
              "function* uploadFilesStep(inputId, outputId) {\n",
              "  const inputElement = document.getElementById(inputId);\n",
              "  inputElement.disabled = false;\n",
              "\n",
              "  const outputElement = document.getElementById(outputId);\n",
              "  outputElement.innerHTML = '';\n",
              "\n",
              "  const pickedPromise = new Promise((resolve) => {\n",
              "    inputElement.addEventListener('change', (e) => {\n",
              "      resolve(e.target.files);\n",
              "    });\n",
              "  });\n",
              "\n",
              "  const cancel = document.createElement('button');\n",
              "  inputElement.parentElement.appendChild(cancel);\n",
              "  cancel.textContent = 'Cancel upload';\n",
              "  const cancelPromise = new Promise((resolve) => {\n",
              "    cancel.onclick = () => {\n",
              "      resolve(null);\n",
              "    };\n",
              "  });\n",
              "\n",
              "  // Wait for the user to pick the files.\n",
              "  const files = yield {\n",
              "    promise: Promise.race([pickedPromise, cancelPromise]),\n",
              "    response: {\n",
              "      action: 'starting',\n",
              "    }\n",
              "  };\n",
              "\n",
              "  cancel.remove();\n",
              "\n",
              "  // Disable the input element since further picks are not allowed.\n",
              "  inputElement.disabled = true;\n",
              "\n",
              "  if (!files) {\n",
              "    return {\n",
              "      response: {\n",
              "        action: 'complete',\n",
              "      }\n",
              "    };\n",
              "  }\n",
              "\n",
              "  for (const file of files) {\n",
              "    const li = document.createElement('li');\n",
              "    li.append(span(file.name, {fontWeight: 'bold'}));\n",
              "    li.append(span(\n",
              "        `(${file.type || 'n/a'}) - ${file.size} bytes, ` +\n",
              "        `last modified: ${\n",
              "            file.lastModifiedDate ? file.lastModifiedDate.toLocaleDateString() :\n",
              "                                    'n/a'} - `));\n",
              "    const percent = span('0% done');\n",
              "    li.appendChild(percent);\n",
              "\n",
              "    outputElement.appendChild(li);\n",
              "\n",
              "    const fileDataPromise = new Promise((resolve) => {\n",
              "      const reader = new FileReader();\n",
              "      reader.onload = (e) => {\n",
              "        resolve(e.target.result);\n",
              "      };\n",
              "      reader.readAsArrayBuffer(file);\n",
              "    });\n",
              "    // Wait for the data to be ready.\n",
              "    let fileData = yield {\n",
              "      promise: fileDataPromise,\n",
              "      response: {\n",
              "        action: 'continue',\n",
              "      }\n",
              "    };\n",
              "\n",
              "    // Use a chunked sending to avoid message size limits. See b/62115660.\n",
              "    let position = 0;\n",
              "    do {\n",
              "      const length = Math.min(fileData.byteLength - position, MAX_PAYLOAD_SIZE);\n",
              "      const chunk = new Uint8Array(fileData, position, length);\n",
              "      position += length;\n",
              "\n",
              "      const base64 = btoa(String.fromCharCode.apply(null, chunk));\n",
              "      yield {\n",
              "        response: {\n",
              "          action: 'append',\n",
              "          file: file.name,\n",
              "          data: base64,\n",
              "        },\n",
              "      };\n",
              "\n",
              "      let percentDone = fileData.byteLength === 0 ?\n",
              "          100 :\n",
              "          Math.round((position / fileData.byteLength) * 100);\n",
              "      percent.textContent = `${percentDone}% done`;\n",
              "\n",
              "    } while (position < fileData.byteLength);\n",
              "  }\n",
              "\n",
              "  // All done.\n",
              "  yield {\n",
              "    response: {\n",
              "      action: 'complete',\n",
              "    }\n",
              "  };\n",
              "}\n",
              "\n",
              "scope.google = scope.google || {};\n",
              "scope.google.colab = scope.google.colab || {};\n",
              "scope.google.colab._files = {\n",
              "  _uploadFiles,\n",
              "  _uploadFilesContinue,\n",
              "};\n",
              "})(self);\n",
              "</script> "
            ]
          },
          "metadata": {}
        },
        {
          "output_type": "stream",
          "name": "stdout",
          "text": [
            "Saving G1river.xlsx to G1river.xlsx\n"
          ]
        }
      ]
    },
    {
      "cell_type": "code",
      "source": [
        "# Read the groundwater level data\n",
        "gw_data = pd.read_excel('G1-edited.xlsx')\n",
        "gw_data.dropna(inplace=True)\n",
        "gw_data['Date'] = pd.to_datetime(gw_data['Date'], format='%d/%m/%Y %H:%M')\n",
        "print(gw_data)"
      ],
      "metadata": {
        "colab": {
          "base_uri": "https://localhost:8080/"
        },
        "id": "50qRQosE9jBa",
        "outputId": "0d5f5bce-fc05-4717-e083-e6a432c26cfc"
      },
      "execution_count": 19,
      "outputs": [
        {
          "output_type": "stream",
          "name": "stdout",
          "text": [
            "                     Date       G1\n",
            "0     2019-04-09 03:30:00  110.389\n",
            "1     2019-04-09 04:30:00  110.386\n",
            "2     2019-04-09 05:30:00  110.384\n",
            "3     2019-04-09 06:30:00  110.381\n",
            "4     2019-04-09 07:30:00  110.378\n",
            "...                   ...      ...\n",
            "38617 2023-09-04 08:00:00  109.378\n",
            "38618 2023-09-04 09:00:00  109.378\n",
            "38619 2023-09-04 10:00:00  109.376\n",
            "38620 2023-09-04 11:00:00  109.377\n",
            "38621 2023-09-04 12:00:00  109.375\n",
            "\n",
            "[38609 rows x 2 columns]\n"
          ]
        }
      ]
    },
    {
      "cell_type": "code",
      "source": [
        "from dateutil import parser\n",
        "import pandas as pd\n",
        "\n",
        "def parse_dates(date):\n",
        "    if isinstance(date, pd.Timestamp):\n",
        "        return date  # Return the date as is if it's already a datetime object\n",
        "    try:\n",
        "        return parser.parse(date)\n",
        "    except ValueError:\n",
        "        #print(f\"Unable to parse date: {date}\")\n",
        "        return None\n",
        "    except TypeError:\n",
        "        #print(f\"Invalid type for date: {date}\")\n",
        "        return None\n",
        "\n",
        "# Read the data\n",
        "river_data = pd.read_excel('G1river.xlsx')\n",
        "# Apply the function to the Date column\n",
        "river_data['Date'] = river_data['Date'].apply(parse_dates)\n",
        "#print(river_data)\n"
      ],
      "metadata": {
        "id": "HrNFm_wdApZR"
      },
      "execution_count": 21,
      "outputs": []
    },
    {
      "cell_type": "code",
      "source": [
        "river_data['Date'] = pd.to_datetime(river_data['Date'], format='%Y/%m/%d %H:%M')\n",
        "river_data.dropna(inplace=True)\n",
        "print(river_data)"
      ],
      "metadata": {
        "colab": {
          "base_uri": "https://localhost:8080/"
        },
        "id": "ezuYfRAi9oV1",
        "outputId": "e3616c45-f81f-4ad2-a67b-226e63b187fd"
      },
      "execution_count": 22,
      "outputs": [
        {
          "output_type": "stream",
          "name": "stdout",
          "text": [
            "                     Date  River\n",
            "285   2019-01-13 00:00:00  222.0\n",
            "286   2019-01-13 01:00:00  223.0\n",
            "287   2019-01-13 02:00:00  223.0\n",
            "288   2019-01-13 03:00:00  225.0\n",
            "289   2019-01-13 04:00:00  225.0\n",
            "...                   ...    ...\n",
            "41837 2023-11-29 15:00:00  238.0\n",
            "41838 2023-11-29 16:00:00  238.0\n",
            "41839 2023-11-29 17:00:00  237.0\n",
            "41840 2023-11-29 18:00:00  237.0\n",
            "41841 2023-11-29 19:00:00  236.0\n",
            "\n",
            "[25301 rows x 2 columns]\n"
          ]
        }
      ]
    },
    {
      "cell_type": "code",
      "source": [
        "merged_data = pd.merge_asof(gw_data.sort_values('Date'), river_data.sort_values('Date'), on='Date', direction='nearest')"
      ],
      "metadata": {
        "id": "nCz0UyQK-EcQ"
      },
      "execution_count": 24,
      "outputs": []
    },
    {
      "cell_type": "code",
      "source": [
        "# Set 'Date' as the index\n",
        "merged_data.set_index('Date', inplace=True)\n",
        "print(merged_data)"
      ],
      "metadata": {
        "colab": {
          "base_uri": "https://localhost:8080/"
        },
        "id": "Ej2xV-ahBXph",
        "outputId": "68675c5d-e9d5-42b0-d3fe-cf578e62987d"
      },
      "execution_count": 25,
      "outputs": [
        {
          "output_type": "stream",
          "name": "stdout",
          "text": [
            "                          G1  River\n",
            "Date                               \n",
            "2019-04-09 03:30:00  110.389  210.0\n",
            "2019-04-09 04:30:00  110.386  210.0\n",
            "2019-04-09 05:30:00  110.384  210.0\n",
            "2019-04-09 06:30:00  110.381  210.0\n",
            "2019-04-09 07:30:00  110.378  210.0\n",
            "...                      ...    ...\n",
            "2023-09-04 08:00:00  109.378  151.0\n",
            "2023-09-04 09:00:00  109.378  151.0\n",
            "2023-09-04 10:00:00  109.376  151.0\n",
            "2023-09-04 11:00:00  109.377  151.0\n",
            "2023-09-04 12:00:00  109.375  151.0\n",
            "\n",
            "[38609 rows x 2 columns]\n"
          ]
        }
      ]
    },
    {
      "cell_type": "code",
      "source": [
        "n_steps = 24\n",
        "\n",
        "# Split the original data first before scaling\n",
        "train_size = int(len(merged_data) * 0.7)\n",
        "resampled_data_train = merged_data[:train_size]\n",
        "resampled_data_test = merged_data[train_size:]\n",
        "\n",
        "# Apply MinMaxScaler only to the training data\n",
        "scaler = MinMaxScaler(feature_range=(0, 1))\n",
        "train_scaled = scaler.fit_transform(resampled_data_train)\n",
        "test_scaled = scaler.transform(resampled_data_test)\n",
        "\n",
        "joblib.dump(scaler, 'scaler.gz')\n",
        "\n",
        "\n",
        "# Function to create sequences\n",
        "def create_sequences(data, n_steps):\n",
        "    X, y = [], []\n",
        "    for i in range(n_steps, len(data)):\n",
        "        X.append(data[i-n_steps:i, :])\n",
        "        y.append(data[i, 0])\n",
        "    return np.array(X), np.array(y)\n",
        "\n",
        "# Create sequences for training and testing sets\n",
        "X_train, y_train = create_sequences(train_scaled, n_steps)\n",
        "X_test, y_test = create_sequences(test_scaled, n_steps)\n",
        "\n",
        "# Print shapes of X_train, y_train, X_test, y_test for verification\n",
        "print('X_train shape:', X_train.shape)\n",
        "print('y_train shape:', y_train.shape)\n",
        "print('X_test shape:', X_test.shape)\n",
        "print('y_test shape:', y_test.shape)"
      ],
      "metadata": {
        "colab": {
          "base_uri": "https://localhost:8080/"
        },
        "id": "qqjjxm5mBom6",
        "outputId": "8670d990-982e-4e8c-c278-a293ef0fa8a3"
      },
      "execution_count": 28,
      "outputs": [
        {
          "output_type": "stream",
          "name": "stdout",
          "text": [
            "X_train shape: (27002, 24, 2)\n",
            "y_train shape: (27002,)\n",
            "X_test shape: (11559, 24, 2)\n",
            "y_test shape: (11559,)\n"
          ]
        }
      ]
    },
    {
      "cell_type": "code",
      "source": [
        "input_shape=(X_train.shape[1], X_train.shape[2])\n",
        "\n",
        "from keras.models import Sequential\n",
        "from keras.layers import LSTM, Dense, Dropout\n",
        "from keras.regularizers import l1_l2\n",
        "\n",
        "model = Sequential([\n",
        "    LSTM(units=50, return_sequences=True, input_shape=input_shape,   #input shape => (timesteps, features).  X => (samples, timesteps, features)\n",
        "         dropout=0.2, recurrent_dropout=0.2,\n",
        "         kernel_regularizer=l1_l2(l1=0.01, l2=0.01)),\n",
        "    Dropout(0.2),\n",
        "    LSTM(units=50, dropout=0.2, recurrent_dropout=0.2),\n",
        "    Dropout(0.2),\n",
        "    Dense(1)\n",
        "])\n",
        "\n",
        "model.compile(optimizer='adam', loss='mean_squared_error')\n",
        "model.fit(X_train, y_train, epochs=50, batch_size=64)"
      ],
      "metadata": {
        "colab": {
          "base_uri": "https://localhost:8080/"
        },
        "id": "rYpUky_kBsbj",
        "outputId": "4aaa1124-c625-414c-94f8-900b28920523"
      },
      "execution_count": 29,
      "outputs": [
        {
          "output_type": "stream",
          "name": "stdout",
          "text": [
            "Epoch 1/50\n",
            "422/422 [==============================] - 41s 73ms/step - loss: 0.0621\n",
            "Epoch 2/50\n",
            "422/422 [==============================] - 31s 74ms/step - loss: 0.0048\n",
            "Epoch 3/50\n",
            "422/422 [==============================] - 32s 75ms/step - loss: 0.0040\n",
            "Epoch 4/50\n",
            "422/422 [==============================] - 31s 74ms/step - loss: 0.0037\n",
            "Epoch 5/50\n",
            "422/422 [==============================] - 30s 72ms/step - loss: 0.0035\n",
            "Epoch 6/50\n",
            "422/422 [==============================] - 32s 75ms/step - loss: 0.0034\n",
            "Epoch 7/50\n",
            "422/422 [==============================] - 32s 76ms/step - loss: 0.0031\n",
            "Epoch 8/50\n",
            "422/422 [==============================] - 30s 72ms/step - loss: 0.0031\n",
            "Epoch 9/50\n",
            "422/422 [==============================] - 30s 71ms/step - loss: 0.0030\n",
            "Epoch 10/50\n",
            "422/422 [==============================] - 32s 75ms/step - loss: 0.0029\n",
            "Epoch 11/50\n",
            "422/422 [==============================] - 30s 72ms/step - loss: 0.0030\n",
            "Epoch 12/50\n",
            "422/422 [==============================] - 30s 71ms/step - loss: 0.0028\n",
            "Epoch 13/50\n",
            "422/422 [==============================] - 30s 71ms/step - loss: 0.0028\n",
            "Epoch 14/50\n",
            "422/422 [==============================] - 34s 80ms/step - loss: 0.0028\n",
            "Epoch 15/50\n",
            "422/422 [==============================] - 30s 72ms/step - loss: 0.0028\n",
            "Epoch 16/50\n",
            "422/422 [==============================] - 30s 72ms/step - loss: 0.0027\n",
            "Epoch 17/50\n",
            "422/422 [==============================] - 30s 72ms/step - loss: 0.0026\n",
            "Epoch 18/50\n",
            "422/422 [==============================] - 32s 76ms/step - loss: 0.0025\n",
            "Epoch 19/50\n",
            "422/422 [==============================] - 30s 71ms/step - loss: 0.0026\n",
            "Epoch 20/50\n",
            "422/422 [==============================] - 30s 72ms/step - loss: 0.0025\n",
            "Epoch 21/50\n",
            "422/422 [==============================] - 34s 79ms/step - loss: 0.0026\n",
            "Epoch 22/50\n",
            "422/422 [==============================] - 31s 73ms/step - loss: 0.0025\n",
            "Epoch 23/50\n",
            "422/422 [==============================] - 31s 72ms/step - loss: 0.0026\n",
            "Epoch 24/50\n",
            "422/422 [==============================] - 31s 74ms/step - loss: 0.0026\n",
            "Epoch 25/50\n",
            "422/422 [==============================] - 32s 76ms/step - loss: 0.0025\n",
            "Epoch 26/50\n",
            "422/422 [==============================] - 30s 72ms/step - loss: 0.0025\n",
            "Epoch 27/50\n",
            "422/422 [==============================] - 30s 72ms/step - loss: 0.0025\n",
            "Epoch 28/50\n",
            "422/422 [==============================] - 33s 79ms/step - loss: 0.0024\n",
            "Epoch 29/50\n",
            "422/422 [==============================] - 30s 71ms/step - loss: 0.0024\n",
            "Epoch 30/50\n",
            "422/422 [==============================] - 30s 71ms/step - loss: 0.0024\n",
            "Epoch 31/50\n",
            "422/422 [==============================] - 30s 72ms/step - loss: 0.0023\n",
            "Epoch 32/50\n",
            "422/422 [==============================] - 32s 75ms/step - loss: 0.0023\n",
            "Epoch 33/50\n",
            "422/422 [==============================] - 30s 72ms/step - loss: 0.0023\n",
            "Epoch 34/50\n",
            "422/422 [==============================] - 30s 72ms/step - loss: 0.0023\n",
            "Epoch 35/50\n",
            "422/422 [==============================] - 32s 76ms/step - loss: 0.0023\n",
            "Epoch 36/50\n",
            "422/422 [==============================] - 31s 74ms/step - loss: 0.0023\n",
            "Epoch 37/50\n",
            "422/422 [==============================] - 30s 72ms/step - loss: 0.0021\n",
            "Epoch 38/50\n",
            "422/422 [==============================] - 30s 72ms/step - loss: 0.0022\n",
            "Epoch 39/50\n",
            "422/422 [==============================] - 31s 74ms/step - loss: 0.0022\n",
            "Epoch 40/50\n",
            "422/422 [==============================] - 31s 72ms/step - loss: 0.0021\n",
            "Epoch 41/50\n",
            "422/422 [==============================] - 30s 72ms/step - loss: 0.0020\n",
            "Epoch 42/50\n",
            "422/422 [==============================] - 33s 77ms/step - loss: 0.0019\n",
            "Epoch 43/50\n",
            "422/422 [==============================] - 31s 74ms/step - loss: 0.0019\n",
            "Epoch 44/50\n",
            "422/422 [==============================] - 30s 72ms/step - loss: 0.0018\n",
            "Epoch 45/50\n",
            "422/422 [==============================] - 30s 72ms/step - loss: 0.0018\n",
            "Epoch 46/50\n",
            "422/422 [==============================] - 33s 77ms/step - loss: 0.0017\n",
            "Epoch 47/50\n",
            "422/422 [==============================] - 31s 72ms/step - loss: 0.0017\n",
            "Epoch 48/50\n",
            "422/422 [==============================] - 30s 72ms/step - loss: 0.0016\n",
            "Epoch 49/50\n",
            "422/422 [==============================] - 33s 79ms/step - loss: 0.0016\n",
            "Epoch 50/50\n",
            "422/422 [==============================] - 31s 72ms/step - loss: 0.0016\n"
          ]
        },
        {
          "output_type": "execute_result",
          "data": {
            "text/plain": [
              "<keras.src.callbacks.History at 0x7e7ff3879e70>"
            ]
          },
          "metadata": {},
          "execution_count": 29
        }
      ]
    },
    {
      "cell_type": "code",
      "source": [
        "model.save('lstmmodel.h5')"
      ],
      "metadata": {
        "colab": {
          "base_uri": "https://localhost:8080/"
        },
        "id": "32n-R_xbB0RW",
        "outputId": "9a8c4706-7128-4ed7-c01f-e2f2098d9b3c"
      },
      "execution_count": 30,
      "outputs": [
        {
          "output_type": "stream",
          "name": "stderr",
          "text": [
            "/usr/local/lib/python3.10/dist-packages/keras/src/engine/training.py:3103: UserWarning: You are saving your model as an HDF5 file via `model.save()`. This file format is considered legacy. We recommend using instead the native Keras format, e.g. `model.save('my_model.keras')`.\n",
            "  saving_api.save_model(\n"
          ]
        }
      ]
    },
    {
      "cell_type": "code",
      "source": [
        "model = load_model('lstmmodel.h5')\n",
        "scaler = joblib.load('scaler.gz')"
      ],
      "metadata": {
        "id": "Ig3xdybDH4hZ"
      },
      "execution_count": 31,
      "outputs": []
    },
    {
      "cell_type": "code",
      "source": [
        "# Function to retrain the model with new data\n",
        "def retrain_model(model, X_new, y_new, epochs=5, batch_size=32):\n",
        "    # Partial retraining of the model with new data\n",
        "    model.fit(X_new, y_new, epochs=epochs, batch_size=batch_size, shuffle=True)\n",
        "    return model\n"
      ],
      "metadata": {
        "id": "RAMczvlGH6Xm"
      },
      "execution_count": 32,
      "outputs": []
    },
    {
      "cell_type": "code",
      "source": [
        "\n",
        "import matplotlib.pyplot as plt\n",
        "from IPython.display import display\n",
        "from IPython.display import display, clear_output\n",
        "\n",
        "\n",
        "window_size = 24\n",
        "\n",
        "actual_values = []\n",
        "predicted_values = []\n",
        "errors = []\n",
        "\n",
        "\n",
        "fig, ax = plt.subplots(figsize=(10, 6))\n",
        "\n",
        "for i in range(X_test.shape[0]):\n",
        "    X_input = X_test[i, :, :]            #selecting a single sequence from X_test, X_input  have the shape [timesteps, features] => (24, 2)\n",
        "    X_input = np.reshape(X_input, (1, X_input.shape[0], X_input.shape[1]))  #LSTM models  expect input in the form of 3D array [batch_size, timesteps, features] => (1, 24, 2)\n",
        "\n",
        "    # Make a prediction\n",
        "    forecast = model.predict(X_input)    #shapeof forecast => (1 timesequence of 24 steps,1 feature) => e.g [[0.28847086]]\n",
        "    dummy = np.zeros((1, 2))\n",
        "    dummy[:, 0] = forecast[:, 0]\n",
        "    forecasted_value = scaler.inverse_transform(dummy)[0, 0]\n",
        "    predicted_values.append(forecasted_value)    #Forecasted value inverse transformed => e.g 109.58\n",
        "\n",
        "    actual = y_test[i] if i < len(y_test) else None   #fetching the observed value corresponding to the i-th sequence in X_test\n",
        "    if actual is not None:\n",
        "        actual_transformed = scaler.inverse_transform([[actual, 0]])[0, 0]\n",
        "        actual_values.append(actual_transformed)     #Observed value => e.g 109.639\n",
        "\n",
        "    error = abs(forecasted_value - actual_transformed)\n",
        "    errors.append(error)\n",
        "\n",
        "\n",
        "    ax.clear()\n",
        "    ax.plot(actual_values, label='Observed', color='blue')\n",
        "    ax.plot(predicted_values, label='Predicted', color='red')\n",
        "    ax.set_title('Groundwater Level Prediction')\n",
        "    ax.set_xlabel('Hours')\n",
        "    ax.set_ylabel('Water Level')\n",
        "    ax.legend()\n",
        "\n",
        "    if len(errors) >= window_size:\n",
        "        windowed_errors = errors[-window_size:]\n",
        "        mean_error = np.mean(windowed_errors)\n",
        "        std_error = np.std(windowed_errors)\n",
        "        threshold = mean_error + 3 * std_error  #error  greater than 3 standard deviations from the mean error\n",
        "\n",
        "        windowed_anomalies = [j for j, e in enumerate(windowed_errors) if e > threshold]\n",
        "        #if windowed_anomalies:\n",
        "          #print(f\"Anomalies detected at indices: {[j + i - window_size + 1 for j in windowed_anomalies]}\")\n",
        "          #Retrain the model with the most recent window of data\n",
        "          #model = retrain_model(model, X_test[i-window_size+1:i+1], y_test[i-window_size+1:i+1])\n",
        "\n",
        "\n",
        "\n",
        "    display(fig)\n",
        "    plt.pause(0.5)\n",
        "\n",
        "    clear_output(wait=True)\n",
        "\n",
        "\n",
        "plt.close(fig)\n",
        "\n",
        ""
      ],
      "metadata": {
        "colab": {
          "base_uri": "https://localhost:8080/",
          "height": 931
        },
        "id": "-kf44MjjIAGr",
        "outputId": "b3b759a4-86ef-49a3-94bf-9d87bccdc2cf"
      },
      "execution_count": 34,
      "outputs": [
        {
          "output_type": "stream",
          "name": "stdout",
          "text": [
            "1/1 [==============================] - 0s 30ms/step\n"
          ]
        },
        {
          "output_type": "display_data",
          "data": {
            "text/plain": [
              "<Figure size 1000x600 with 1 Axes>"
            ],
            "image/png": "[encoded data removed]"
          },
          "metadata": {}
        },
        {
          "output_type": "error",
          "ename": "KeyboardInterrupt",
          "evalue": "",
          "traceback": [
            "\u001b[0;31m---------------------------------------------------------------------------\u001b[0m",
            "\u001b[0;31mKeyboardInterrupt\u001b[0m                         Traceback (most recent call last)",
            "\u001b[0;32m<ipython-input-34-2db5a736c42c>\u001b[0m in \u001b[0;36m<cell line: 15>\u001b[0;34m()\u001b[0m\n\u001b[1;32m     56\u001b[0m \u001b[0;34m\u001b[0m\u001b[0m\n\u001b[1;32m     57\u001b[0m     \u001b[0mdisplay\u001b[0m\u001b[0;34m(\u001b[0m\u001b[0mfig\u001b[0m\u001b[0;34m)\u001b[0m\u001b[0;34m\u001b[0m\u001b[0;34m\u001b[0m\u001b[0m\n\u001b[0;32m---> 58\u001b[0;31m     \u001b[0mplt\u001b[0m\u001b[0;34m.\u001b[0m\u001b[0mpause\u001b[0m\u001b[0;34m(\u001b[0m\u001b[0;36m0.5\u001b[0m\u001b[0;34m)\u001b[0m\u001b[0;34m\u001b[0m\u001b[0;34m\u001b[0m\u001b[0m\n\u001b[0m\u001b[1;32m     59\u001b[0m \u001b[0;34m\u001b[0m\u001b[0m\n\u001b[1;32m     60\u001b[0m     \u001b[0mclear_output\u001b[0m\u001b[0;34m(\u001b[0m\u001b[0mwait\u001b[0m\u001b[0;34m=\u001b[0m\u001b[0;32mTrue\u001b[0m\u001b[0;34m)\u001b[0m\u001b[0;34m\u001b[0m\u001b[0;34m\u001b[0m\u001b[0m\n",
            "\u001b[0;32m/usr/local/lib/python3.10/dist-packages/matplotlib/pyplot.py\u001b[0m in \u001b[0;36mpause\u001b[0;34m(interval)\u001b[0m\n\u001b[1;32m    582\u001b[0m         \u001b[0mcanvas\u001b[0m\u001b[0;34m.\u001b[0m\u001b[0mstart_event_loop\u001b[0m\u001b[0;34m(\u001b[0m\u001b[0minterval\u001b[0m\u001b[0;34m)\u001b[0m\u001b[0;34m\u001b[0m\u001b[0;34m\u001b[0m\u001b[0m\n\u001b[1;32m    583\u001b[0m     \u001b[0;32melse\u001b[0m\u001b[0;34m:\u001b[0m\u001b[0;34m\u001b[0m\u001b[0;34m\u001b[0m\u001b[0m\n\u001b[0;32m--> 584\u001b[0;31m         \u001b[0mtime\u001b[0m\u001b[0;34m.\u001b[0m\u001b[0msleep\u001b[0m\u001b[0;34m(\u001b[0m\u001b[0minterval\u001b[0m\u001b[0;34m)\u001b[0m\u001b[0;34m\u001b[0m\u001b[0;34m\u001b[0m\u001b[0m\n\u001b[0m\u001b[1;32m    585\u001b[0m \u001b[0;34m\u001b[0m\u001b[0m\n\u001b[1;32m    586\u001b[0m \u001b[0;34m\u001b[0m\u001b[0m\n",
            "\u001b[0;31mKeyboardInterrupt\u001b[0m: "
          ]
        }
      ]
    },
    {
      "cell_type": "code",
      "source": [],
      "metadata": {
        "id": "csGNA5QlIYJB"
      },
      "execution_count": null,
      "outputs": []
    }
  ]
}
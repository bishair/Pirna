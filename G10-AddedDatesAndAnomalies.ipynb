{
  "nbformat": 4,
  "nbformat_minor": 0,
  "metadata": {
    "colab": {
      "provenance": [],
      "authorship_tag": "ABX9TyNd3rUuWkUxWo7hCHvXi5hr",
      "include_colab_link": true
    },
    "kernelspec": {
      "name": "python3",
      "display_name": "Python 3"
    },
    "language_info": {
      "name": "python"
    }
  },
  "cells": [
    {
      "cell_type": "markdown",
      "metadata": {
        "id": "view-in-github",
        "colab_type": "text"
      },
      "source": [
        "<a href=\"https://colab.research.google.com/github/bishair/Pirna/blob/main/G10-AddedDatesAndAnomalies.ipynb\" target=\"_parent\"><img src=\"https://colab.research.google.com/assets/colab-badge.svg\" alt=\"Open In Colab\"/></a>"
      ]
    },
    {
      "cell_type": "code",
      "execution_count": 1,
      "metadata": {
        "id": "eKz4YKIm6D7F"
      },
      "outputs": [],
      "source": [
        "import numpy as np\n",
        "import pandas as pd\n",
        "from google.colab import files\n",
        "import matplotlib.pyplot as plt\n",
        "from sklearn.preprocessing import MinMaxScaler\n",
        "from sklearn.metrics import mean_squared_error\n",
        "from tensorflow.keras.models import Sequential, load_model\n",
        "from tensorflow.keras.layers import LSTM, Dense\n",
        "from tensorflow.keras.optimizers import Adam\n",
        "from math import sqrt\n",
        "from tensorflow.keras.callbacks import EarlyStopping, ModelCheckpoint\n",
        "from keras.models import load_model\n",
        "import matplotlib.pyplot as plt\n",
        "from IPython.display import display\n",
        "import joblib\n"
      ]
    },
    {
      "cell_type": "code",
      "source": [
        "uploaded_file = files.upload()"
      ],
      "metadata": {
        "id": "A_behW_96QZz",
        "outputId": "493341b8-cd9e-4d0e-f2bc-8be6ae327cc1",
        "colab": {
          "base_uri": "https://localhost:8080/",
          "height": 73
        }
      },
      "execution_count": 3,
      "outputs": [
        {
          "output_type": "display_data",
          "data": {
            "text/plain": [
              "<IPython.core.display.HTML object>"
            ],
            "text/html": [
              "\n",
              "     <input type=\"file\" id=\"files-1351d329-5c11-4773-abd2-0ee54bd5e883\" name=\"files[]\" multiple disabled\n",
              "        style=\"border:none\" />\n",
              "     <output id=\"result-1351d329-5c11-4773-abd2-0ee54bd5e883\">\n",
              "      Upload widget is only available when the cell has been executed in the\n",
              "      current browser session. Please rerun this cell to enable.\n",
              "      </output>\n",
              "      <script>// Copyright 2017 Google LLC\n",
              "//\n",
              "// Licensed under the Apache License, Version 2.0 (the \"License\");\n",
              "// you may not use this file except in compliance with the License.\n",
              "// You may obtain a copy of the License at\n",
              "//\n",
              "//      http://www.apache.org/licenses/LICENSE-2.0\n",
              "//\n",
              "// Unless required by applicable law or agreed to in writing, software\n",
              "// distributed under the License is distributed on an \"AS IS\" BASIS,\n",
              "// WITHOUT WARRANTIES OR CONDITIONS OF ANY KIND, either express or implied.\n",
              "// See the License for the specific language governing permissions and\n",
              "// limitations under the License.\n",
              "\n",
              "/**\n",
              " * @fileoverview Helpers for google.colab Python module.\n",
              " */\n",
              "(function(scope) {\n",
              "function span(text, styleAttributes = {}) {\n",
              "  const element = document.createElement('span');\n",
              "  element.textContent = text;\n",
              "  for (const key of Object.keys(styleAttributes)) {\n",
              "    element.style[key] = styleAttributes[key];\n",
              "  }\n",
              "  return element;\n",
              "}\n",
              "\n",
              "// Max number of bytes which will be uploaded at a time.\n",
              "const MAX_PAYLOAD_SIZE = 100 * 1024;\n",
              "\n",
              "function _uploadFiles(inputId, outputId) {\n",
              "  const steps = uploadFilesStep(inputId, outputId);\n",
              "  const outputElement = document.getElementById(outputId);\n",
              "  // Cache steps on the outputElement to make it available for the next call\n",
              "  // to uploadFilesContinue from Python.\n",
              "  outputElement.steps = steps;\n",
              "\n",
              "  return _uploadFilesContinue(outputId);\n",
              "}\n",
              "\n",
              "// This is roughly an async generator (not supported in the browser yet),\n",
              "// where there are multiple asynchronous steps and the Python side is going\n",
              "// to poll for completion of each step.\n",
              "// This uses a Promise to block the python side on completion of each step,\n",
              "// then passes the result of the previous step as the input to the next step.\n",
              "function _uploadFilesContinue(outputId) {\n",
              "  const outputElement = document.getElementById(outputId);\n",
              "  const steps = outputElement.steps;\n",
              "\n",
              "  const next = steps.next(outputElement.lastPromiseValue);\n",
              "  return Promise.resolve(next.value.promise).then((value) => {\n",
              "    // Cache the last promise value to make it available to the next\n",
              "    // step of the generator.\n",
              "    outputElement.lastPromiseValue = value;\n",
              "    return next.value.response;\n",
              "  });\n",
              "}\n",
              "\n",
              "/**\n",
              " * Generator function which is called between each async step of the upload\n",
              " * process.\n",
              " * @param {string} inputId Element ID of the input file picker element.\n",
              " * @param {string} outputId Element ID of the output display.\n",
              " * @return {!Iterable<!Object>} Iterable of next steps.\n",
              " */\n",
              "function* uploadFilesStep(inputId, outputId) {\n",
              "  const inputElement = document.getElementById(inputId);\n",
              "  inputElement.disabled = false;\n",
              "\n",
              "  const outputElement = document.getElementById(outputId);\n",
              "  outputElement.innerHTML = '';\n",
              "\n",
              "  const pickedPromise = new Promise((resolve) => {\n",
              "    inputElement.addEventListener('change', (e) => {\n",
              "      resolve(e.target.files);\n",
              "    });\n",
              "  });\n",
              "\n",
              "  const cancel = document.createElement('button');\n",
              "  inputElement.parentElement.appendChild(cancel);\n",
              "  cancel.textContent = 'Cancel upload';\n",
              "  const cancelPromise = new Promise((resolve) => {\n",
              "    cancel.onclick = () => {\n",
              "      resolve(null);\n",
              "    };\n",
              "  });\n",
              "\n",
              "  // Wait for the user to pick the files.\n",
              "  const files = yield {\n",
              "    promise: Promise.race([pickedPromise, cancelPromise]),\n",
              "    response: {\n",
              "      action: 'starting',\n",
              "    }\n",
              "  };\n",
              "\n",
              "  cancel.remove();\n",
              "\n",
              "  // Disable the input element since further picks are not allowed.\n",
              "  inputElement.disabled = true;\n",
              "\n",
              "  if (!files) {\n",
              "    return {\n",
              "      response: {\n",
              "        action: 'complete',\n",
              "      }\n",
              "    };\n",
              "  }\n",
              "\n",
              "  for (const file of files) {\n",
              "    const li = document.createElement('li');\n",
              "    li.append(span(file.name, {fontWeight: 'bold'}));\n",
              "    li.append(span(\n",
              "        `(${file.type || 'n/a'}) - ${file.size} bytes, ` +\n",
              "        `last modified: ${\n",
              "            file.lastModifiedDate ? file.lastModifiedDate.toLocaleDateString() :\n",
              "                                    'n/a'} - `));\n",
              "    const percent = span('0% done');\n",
              "    li.appendChild(percent);\n",
              "\n",
              "    outputElement.appendChild(li);\n",
              "\n",
              "    const fileDataPromise = new Promise((resolve) => {\n",
              "      const reader = new FileReader();\n",
              "      reader.onload = (e) => {\n",
              "        resolve(e.target.result);\n",
              "      };\n",
              "      reader.readAsArrayBuffer(file);\n",
              "    });\n",
              "    // Wait for the data to be ready.\n",
              "    let fileData = yield {\n",
              "      promise: fileDataPromise,\n",
              "      response: {\n",
              "        action: 'continue',\n",
              "      }\n",
              "    };\n",
              "\n",
              "    // Use a chunked sending to avoid message size limits. See b/62115660.\n",
              "    let position = 0;\n",
              "    do {\n",
              "      const length = Math.min(fileData.byteLength - position, MAX_PAYLOAD_SIZE);\n",
              "      const chunk = new Uint8Array(fileData, position, length);\n",
              "      position += length;\n",
              "\n",
              "      const base64 = btoa(String.fromCharCode.apply(null, chunk));\n",
              "      yield {\n",
              "        response: {\n",
              "          action: 'append',\n",
              "          file: file.name,\n",
              "          data: base64,\n",
              "        },\n",
              "      };\n",
              "\n",
              "      let percentDone = fileData.byteLength === 0 ?\n",
              "          100 :\n",
              "          Math.round((position / fileData.byteLength) * 100);\n",
              "      percent.textContent = `${percentDone}% done`;\n",
              "\n",
              "    } while (position < fileData.byteLength);\n",
              "  }\n",
              "\n",
              "  // All done.\n",
              "  yield {\n",
              "    response: {\n",
              "      action: 'complete',\n",
              "    }\n",
              "  };\n",
              "}\n",
              "\n",
              "scope.google = scope.google || {};\n",
              "scope.google.colab = scope.google.colab || {};\n",
              "scope.google.colab._files = {\n",
              "  _uploadFiles,\n",
              "  _uploadFilesContinue,\n",
              "};\n",
              "})(self);\n",
              "</script> "
            ]
          },
          "metadata": {}
        },
        {
          "output_type": "stream",
          "name": "stdout",
          "text": [
            "Saving riverL.xlsx to riverL.xlsx\n"
          ]
        }
      ]
    },
    {
      "cell_type": "code",
      "source": [
        "# Read the groundwater level data\n",
        "gw_data = pd.read_excel('groundwater.xlsx')\n",
        "gw_data.dropna(inplace=True)\n",
        "gw_data['Date'] = pd.to_datetime(gw_data['Date'], format='%d/%m/%Y %H:%M')\n",
        "print(gw_data)\n",
        "\n",
        "# Read the river water level data\n",
        "river_data = pd.read_excel('riverL.xlsx')\n",
        "river_data['Date'] = pd.to_datetime(river_data['Date'], format='%d/%m/%Y %H:%M')\n",
        "\n",
        "# Merge the two datasets on the 'Date' column\n",
        "merged_data = pd.merge_asof(gw_data.sort_values('Date'), river_data.sort_values('Date'), on='Date', direction='nearest')\n",
        "\n",
        "# Set 'Date' as the index\n",
        "merged_data.set_index('Date', inplace=True)\n",
        "\n",
        "resampled_data = merged_data.resample('H').ffill()\n",
        "resampled_data = resampled_data[1:]\n",
        "print(resampled_data)\n",
        "\n",
        "'''\n",
        "has_nan = resampled_data.isna().any().any()\n",
        "print(has_nan)\n",
        "total_nan_count = resampled_data.isna().sum().sum()\n",
        "print(total_nan_count)\n",
        "nan_per_column = resampled_data.isna().any()\n",
        "print(nan_per_column)\n",
        "nan_count_per_column = resampled_data.isna().sum()\n",
        "print(nan_count_per_column)'''\n"
      ],
      "metadata": {
        "colab": {
          "base_uri": "https://localhost:8080/",
          "height": 556
        },
        "id": "ipz0Z0UZ8FVn",
        "outputId": "5ec580f9-26c1-4740-da4b-6ad48e27fda3"
      },
      "execution_count": 4,
      "outputs": [
        {
          "output_type": "stream",
          "name": "stdout",
          "text": [
            "                     Date      G10\n",
            "0     2015-01-30 12:18:00  110.722\n",
            "1     2015-01-30 13:18:00  110.720\n",
            "2     2015-01-30 14:18:00  110.718\n",
            "3     2015-01-30 15:18:00  110.715\n",
            "4     2015-01-30 16:18:00  110.714\n",
            "...                   ...      ...\n",
            "17533 2017-01-30 10:19:00  109.456\n",
            "17534 2017-01-30 11:19:00  109.455\n",
            "17535 2017-01-30 12:19:00  109.456\n",
            "17536 2017-01-30 13:19:00  109.457\n",
            "17537 2017-01-30 14:19:00  109.459\n",
            "\n",
            "[17329 rows x 2 columns]\n",
            "                         G10  River\n",
            "Date                               \n",
            "2015-01-30 13:00:00  110.722  261.0\n",
            "2015-01-30 14:00:00  110.720  260.0\n",
            "2015-01-30 15:00:00  110.718  260.0\n",
            "2015-01-30 16:00:00  110.715  260.0\n",
            "2015-01-30 17:00:00  110.714  260.0\n",
            "...                      ...    ...\n",
            "2017-01-30 10:00:00  109.457  135.0\n",
            "2017-01-30 11:00:00  109.456  136.0\n",
            "2017-01-30 12:00:00  109.455  138.0\n",
            "2017-01-30 13:00:00  109.456  141.0\n",
            "2017-01-30 14:00:00  109.457  144.0\n",
            "\n",
            "[17546 rows x 2 columns]\n"
          ]
        },
        {
          "output_type": "execute_result",
          "data": {
            "text/plain": [
              "'\\nhas_nan = resampled_data.isna().any().any()\\nprint(has_nan)\\ntotal_nan_count = resampled_data.isna().sum().sum()\\nprint(total_nan_count)\\nnan_per_column = resampled_data.isna().any()\\nprint(nan_per_column)\\nnan_count_per_column = resampled_data.isna().sum()\\nprint(nan_count_per_column)'"
            ],
            "application/vnd.google.colaboratory.intrinsic+json": {
              "type": "string"
            }
          },
          "metadata": {},
          "execution_count": 4
        }
      ]
    },
    {
      "cell_type": "code",
      "source": [
        "\n",
        "n_steps = 24\n",
        "\n",
        "# Assume merged_data is a DataFrame with 'Date' as index\n",
        "merged_data_copy = merged_data.copy()\n",
        "merged_data_copy.reset_index(inplace=True)\n",
        "dates = merged_data_copy['Date']\n",
        "\n",
        "# Split the merged data (70% training, 30% testing)\n",
        "train_size = int(len(merged_data) * 0.7)\n",
        "merged_data_train = merged_data[:train_size]\n",
        "merged_data_test = merged_data[train_size:]\n",
        "\n",
        "# Split dates corresponding to the data split\n",
        "dates_train = dates[:train_size]\n",
        "dates_test = dates[train_size:]\n",
        "\n",
        "# Apply MinMaxScaler\n",
        "scaler = MinMaxScaler(feature_range=(0, 1))\n",
        "train_scaled = scaler.fit_transform(merged_data_train)\n",
        "test_scaled = scaler.transform(merged_data_test)\n",
        "\n",
        "# Save the scaler for future use\n",
        "joblib.dump(scaler, 'scaler.gz')\n",
        "\n",
        "def create_sequences_with_dates(data, dates, n_steps):\n",
        "    \"\"\"\n",
        "    Create sequences along with corresponding dates.\n",
        "    \"\"\"\n",
        "    X, y, dates_seq = [], [], []\n",
        "    for i in range(n_steps, len(data)):\n",
        "        X.append(data[i-n_steps:i, :])\n",
        "        y.append(data[i, 0])\n",
        "        # Capture the full range of dates for each sequence\n",
        "        dates_seq.append(dates.iloc[i - n_steps + 1 : i + 1])\n",
        "    return np.array(X), np.array(y), np.array(dates_seq)\n",
        "\n",
        "# Create sequences for training and testing sets\n",
        "X_train, y_train, dates_train_seq = create_sequences_with_dates(train_scaled, dates_train, n_steps)\n",
        "X_test, y_test, dates_test_seq = create_sequences_with_dates(test_scaled, dates_test, n_steps)\n",
        "\n",
        "# Print shapes of X_train, y_train, X_test, y_test for verification\n",
        "print('X_train shape:', X_train.shape)\n",
        "print('y_train shape:', y_train.shape)\n",
        "print('X_test shape:', X_test.shape)\n",
        "print('y_test shape:', y_test.shape)\n",
        "print(dates_test_seq)"
      ],
      "metadata": {
        "id": "Gohy8wy52sCU",
        "outputId": "069ddfcd-b015-4184-c5ba-b00f6f9d7abd",
        "colab": {
          "base_uri": "https://localhost:8080/"
        }
      },
      "execution_count": 5,
      "outputs": [
        {
          "output_type": "stream",
          "name": "stdout",
          "text": [
            "X_train shape: (12106, 24, 2)\n",
            "y_train shape: (12106,)\n",
            "X_test shape: (5175, 24, 2)\n",
            "y_test shape: (5175,)\n",
            "[['2016-06-19T16:13:00.000000000' '2016-06-19T17:13:00.000000000'\n",
            "  '2016-06-19T18:13:00.000000000' ... '2016-06-20T13:13:00.000000000'\n",
            "  '2016-06-20T14:13:00.000000000' '2016-06-20T15:13:00.000000000']\n",
            " ['2016-06-19T17:13:00.000000000' '2016-06-19T18:13:00.000000000'\n",
            "  '2016-06-19T19:13:00.000000000' ... '2016-06-20T14:13:00.000000000'\n",
            "  '2016-06-20T15:13:00.000000000' '2016-06-20T16:13:00.000000000']\n",
            " ['2016-06-19T18:13:00.000000000' '2016-06-19T19:13:00.000000000'\n",
            "  '2016-06-19T20:13:00.000000000' ... '2016-06-20T15:13:00.000000000'\n",
            "  '2016-06-20T16:13:00.000000000' '2016-06-20T17:13:00.000000000']\n",
            " ...\n",
            " ['2017-01-29T13:19:00.000000000' '2017-01-29T14:19:00.000000000'\n",
            "  '2017-01-29T15:19:00.000000000' ... '2017-01-30T10:19:00.000000000'\n",
            "  '2017-01-30T11:19:00.000000000' '2017-01-30T12:19:00.000000000']\n",
            " ['2017-01-29T14:19:00.000000000' '2017-01-29T15:19:00.000000000'\n",
            "  '2017-01-29T16:19:00.000000000' ... '2017-01-30T11:19:00.000000000'\n",
            "  '2017-01-30T12:19:00.000000000' '2017-01-30T13:19:00.000000000']\n",
            " ['2017-01-29T15:19:00.000000000' '2017-01-29T16:19:00.000000000'\n",
            "  '2017-01-29T17:19:00.000000000' ... '2017-01-30T12:19:00.000000000'\n",
            "  '2017-01-30T13:19:00.000000000' '2017-01-30T14:19:00.000000000']]\n"
          ]
        }
      ]
    },
    {
      "cell_type": "code",
      "source": [
        "print(X_train, X_train.shape)"
      ],
      "metadata": {
        "id": "80cC_yFQB9kt",
        "outputId": "c25ecad3-b2f8-4ccb-b0df-904bd7af6670",
        "colab": {
          "base_uri": "https://localhost:8080/"
        }
      },
      "execution_count": 6,
      "outputs": [
        {
          "output_type": "stream",
          "name": "stdout",
          "text": [
            "[[[0.8510427  0.66666667]\n",
            "  [0.85004965 0.66287879]\n",
            "  [0.8490566  0.66287879]\n",
            "  ...\n",
            "  [0.83366435 0.65909091]\n",
            "  [0.8326713  0.65909091]\n",
            "  [0.83118173 0.66287879]]\n",
            "\n",
            " [[0.85004965 0.66287879]\n",
            "  [0.8490566  0.66287879]\n",
            "  [0.84756703 0.66287879]\n",
            "  ...\n",
            "  [0.8326713  0.65909091]\n",
            "  [0.83118173 0.66287879]\n",
            "  [0.83118173 0.66666667]]\n",
            "\n",
            " [[0.8490566  0.66287879]\n",
            "  [0.84756703 0.66287879]\n",
            "  [0.84707051 0.66287879]\n",
            "  ...\n",
            "  [0.83118173 0.66287879]\n",
            "  [0.83118173 0.66666667]\n",
            "  [0.82969215 0.67045455]]\n",
            "\n",
            " ...\n",
            "\n",
            " [[0.32820258 0.36363636]\n",
            "  [0.3306852  0.35984848]\n",
            "  [0.3346574  0.35984848]\n",
            "  ...\n",
            "  [0.36494538 0.36363636]\n",
            "  [0.36693148 0.35984848]\n",
            "  [0.36842105 0.35984848]]\n",
            "\n",
            " [[0.3306852  0.35984848]\n",
            "  [0.3346574  0.35984848]\n",
            "  [0.3366435  0.35606061]\n",
            "  ...\n",
            "  [0.36693148 0.35984848]\n",
            "  [0.36842105 0.35984848]\n",
            "  [0.36891758 0.35606061]]\n",
            "\n",
            " [[0.3346574  0.35984848]\n",
            "  [0.3366435  0.35606061]\n",
            "  [0.33912612 0.35227273]\n",
            "  ...\n",
            "  [0.36842105 0.35984848]\n",
            "  [0.36891758 0.35606061]\n",
            "  [0.36991063 0.35606061]]] (12106, 24, 2)\n"
          ]
        }
      ]
    },
    {
      "cell_type": "code",
      "source": [
        "print(X_test, X_test.shape)"
      ],
      "metadata": {
        "id": "Cdes7NnzCBEy",
        "outputId": "7dcff336-a01f-422d-e3b0-761fc1144d45",
        "colab": {
          "base_uri": "https://localhost:8080/"
        }
      },
      "execution_count": 7,
      "outputs": [
        {
          "output_type": "stream",
          "name": "stdout",
          "text": [
            "[[[0.37239325 0.35227273]\n",
            "  [0.37288977 0.35227273]\n",
            "  [0.3733863  0.35227273]\n",
            "  ...\n",
            "  [0.38331678 0.34848485]\n",
            "  [0.38381331 0.34848485]\n",
            "  [0.38430983 0.34469697]]\n",
            "\n",
            " [[0.37288977 0.35227273]\n",
            "  [0.3733863  0.35227273]\n",
            "  [0.37487587 0.35227273]\n",
            "  ...\n",
            "  [0.38381331 0.34848485]\n",
            "  [0.38430983 0.34469697]\n",
            "  [0.38480636 0.34469697]]\n",
            "\n",
            " [[0.3733863  0.35227273]\n",
            "  [0.37487587 0.35227273]\n",
            "  [0.37586892 0.35227273]\n",
            "  ...\n",
            "  [0.38430983 0.34469697]\n",
            "  [0.38480636 0.34469697]\n",
            "  [0.38480636 0.34090909]]\n",
            "\n",
            " ...\n",
            "\n",
            " [[0.2428004  0.21212121]\n",
            "  [0.2428004  0.20833333]\n",
            "  [0.24230387 0.20454545]\n",
            "  ...\n",
            "  [0.22293942 0.18939394]\n",
            "  [0.2224429  0.19318182]\n",
            "  [0.22194638 0.20075758]]\n",
            "\n",
            " [[0.2428004  0.20833333]\n",
            "  [0.24230387 0.20454545]\n",
            "  [0.24180735 0.1969697 ]\n",
            "  ...\n",
            "  [0.2224429  0.19318182]\n",
            "  [0.22194638 0.20075758]\n",
            "  [0.2224429  0.21212121]]\n",
            "\n",
            " [[0.24230387 0.20454545]\n",
            "  [0.24180735 0.1969697 ]\n",
            "  [0.2408143  0.19318182]\n",
            "  ...\n",
            "  [0.22194638 0.20075758]\n",
            "  [0.2224429  0.21212121]\n",
            "  [0.22293942 0.22348485]]] (5175, 24, 2)\n"
          ]
        }
      ]
    },
    {
      "cell_type": "code",
      "source": [
        "print(y_train, y_train.shape)"
      ],
      "metadata": {
        "id": "U_p3UDnRDkO-",
        "outputId": "24dda630-ce94-40d0-e59e-46e4783331a8",
        "colab": {
          "base_uri": "https://localhost:8080/"
        }
      },
      "execution_count": 8,
      "outputs": [
        {
          "output_type": "stream",
          "name": "stdout",
          "text": [
            "[0.83118173 0.82969215 0.82969215 ... 0.36891758 0.36991063 0.3714002 ] (12106,)\n"
          ]
        }
      ]
    },
    {
      "cell_type": "code",
      "source": [
        "print(y_test, y_test.shape)"
      ],
      "metadata": {
        "id": "uCqVjDG-Dom2",
        "outputId": "02c32de0-eb83-4d93-d116-bec575349ec9",
        "colab": {
          "base_uri": "https://localhost:8080/"
        }
      },
      "execution_count": 9,
      "outputs": [
        {
          "output_type": "stream",
          "name": "stdout",
          "text": [
            "[0.38480636 0.38480636 0.38629593 ... 0.2224429  0.22293942 0.22393247] (5175,)\n"
          ]
        }
      ]
    },
    {
      "cell_type": "code",
      "source": [
        "input_shape=(X_train.shape[1], X_train.shape[2])\n",
        "\n",
        "from keras.models import Sequential\n",
        "from keras.layers import LSTM, Dense, Dropout\n",
        "from keras.regularizers import l1_l2\n",
        "\n",
        "model = Sequential([\n",
        "    LSTM(units=50, return_sequences=True, input_shape=input_shape,   #input shape => (timesteps, features).  X => (samples, timesteps, features)\n",
        "         dropout=0.2, recurrent_dropout=0.2,\n",
        "         kernel_regularizer=l1_l2(l1=0.01, l2=0.01)),\n",
        "    Dropout(0.2),\n",
        "    LSTM(units=50, dropout=0.2, recurrent_dropout=0.2),\n",
        "    Dropout(0.2),\n",
        "    Dense(1)\n",
        "])\n",
        "\n",
        "model.compile(optimizer='adam', loss='mean_squared_error')\n",
        "model.fit(X_train, y_train, epochs=50, batch_size=64)\n"
      ],
      "metadata": {
        "id": "5ClHv6jDDro3",
        "outputId": "90600969-7446-40a3-f7df-f8af56af99ef",
        "colab": {
          "base_uri": "https://localhost:8080/"
        }
      },
      "execution_count": 10,
      "outputs": [
        {
          "output_type": "stream",
          "name": "stdout",
          "text": [
            "Epoch 1/50\n",
            "190/190 [==============================] - 25s 94ms/step - loss: 0.1516\n",
            "Epoch 2/50\n",
            "190/190 [==============================] - 17s 88ms/step - loss: 0.0097\n",
            "Epoch 3/50\n",
            "190/190 [==============================] - 17s 90ms/step - loss: 0.0062\n",
            "Epoch 4/50\n",
            "190/190 [==============================] - 17s 88ms/step - loss: 0.0057\n",
            "Epoch 5/50\n",
            "190/190 [==============================] - 20s 106ms/step - loss: 0.0052\n",
            "Epoch 6/50\n",
            "190/190 [==============================] - 17s 90ms/step - loss: 0.0049\n",
            "Epoch 7/50\n",
            "190/190 [==============================] - 16s 82ms/step - loss: 0.0045\n",
            "Epoch 8/50\n",
            "190/190 [==============================] - 16s 86ms/step - loss: 0.0044\n",
            "Epoch 9/50\n",
            "190/190 [==============================] - 17s 89ms/step - loss: 0.0042\n",
            "Epoch 10/50\n",
            "190/190 [==============================] - 18s 97ms/step - loss: 0.0041\n",
            "Epoch 11/50\n",
            "190/190 [==============================] - 17s 87ms/step - loss: 0.0041\n",
            "Epoch 12/50\n",
            "190/190 [==============================] - 17s 88ms/step - loss: 0.0039\n",
            "Epoch 13/50\n",
            "190/190 [==============================] - 17s 90ms/step - loss: 0.0038\n",
            "Epoch 14/50\n",
            "190/190 [==============================] - 18s 95ms/step - loss: 0.0036\n",
            "Epoch 15/50\n",
            "190/190 [==============================] - 17s 91ms/step - loss: 0.0036\n",
            "Epoch 16/50\n",
            "190/190 [==============================] - 17s 88ms/step - loss: 0.0034\n",
            "Epoch 17/50\n",
            "190/190 [==============================] - 17s 87ms/step - loss: 0.0034\n",
            "Epoch 18/50\n",
            "190/190 [==============================] - 17s 88ms/step - loss: 0.0033\n",
            "Epoch 19/50\n",
            "190/190 [==============================] - 18s 93ms/step - loss: 0.0035\n",
            "Epoch 20/50\n",
            "190/190 [==============================] - 17s 92ms/step - loss: 0.0033\n",
            "Epoch 21/50\n",
            "190/190 [==============================] - 17s 88ms/step - loss: 0.0031\n",
            "Epoch 22/50\n",
            "190/190 [==============================] - 17s 88ms/step - loss: 0.0031\n",
            "Epoch 23/50\n",
            "190/190 [==============================] - 17s 88ms/step - loss: 0.0032\n",
            "Epoch 24/50\n",
            "190/190 [==============================] - 18s 97ms/step - loss: 0.0030\n",
            "Epoch 25/50\n",
            "190/190 [==============================] - 17s 88ms/step - loss: 0.0030\n",
            "Epoch 26/50\n",
            "190/190 [==============================] - 17s 89ms/step - loss: 0.0031\n",
            "Epoch 27/50\n",
            "190/190 [==============================] - 17s 88ms/step - loss: 0.0031\n",
            "Epoch 28/50\n",
            "190/190 [==============================] - 16s 87ms/step - loss: 0.0029\n",
            "Epoch 29/50\n",
            "190/190 [==============================] - 18s 97ms/step - loss: 0.0029\n",
            "Epoch 30/50\n",
            "190/190 [==============================] - 17s 87ms/step - loss: 0.0029\n",
            "Epoch 31/50\n",
            "190/190 [==============================] - 17s 88ms/step - loss: 0.0028\n",
            "Epoch 32/50\n",
            "190/190 [==============================] - 17s 88ms/step - loss: 0.0029\n",
            "Epoch 33/50\n",
            "190/190 [==============================] - 18s 94ms/step - loss: 0.0029\n",
            "Epoch 34/50\n",
            "190/190 [==============================] - 25s 129ms/step - loss: 0.0028\n",
            "Epoch 35/50\n",
            "190/190 [==============================] - 19s 102ms/step - loss: 0.0029\n",
            "Epoch 36/50\n",
            "190/190 [==============================] - 17s 91ms/step - loss: 0.0029\n",
            "Epoch 37/50\n",
            "190/190 [==============================] - 17s 89ms/step - loss: 0.0028\n",
            "Epoch 38/50\n",
            "190/190 [==============================] - 17s 87ms/step - loss: 0.0028\n",
            "Epoch 39/50\n",
            "190/190 [==============================] - 17s 89ms/step - loss: 0.0028\n",
            "Epoch 40/50\n",
            "190/190 [==============================] - 20s 107ms/step - loss: 0.0028\n",
            "Epoch 41/50\n",
            "190/190 [==============================] - 17s 90ms/step - loss: 0.0029\n",
            "Epoch 42/50\n",
            "190/190 [==============================] - 17s 91ms/step - loss: 0.0027\n",
            "Epoch 43/50\n",
            "190/190 [==============================] - 18s 94ms/step - loss: 0.0027\n",
            "Epoch 44/50\n",
            "190/190 [==============================] - 17s 89ms/step - loss: 0.0028\n",
            "Epoch 45/50\n",
            "190/190 [==============================] - 17s 91ms/step - loss: 0.0027\n",
            "Epoch 46/50\n",
            "190/190 [==============================] - 17s 88ms/step - loss: 0.0027\n",
            "Epoch 47/50\n",
            "190/190 [==============================] - 17s 90ms/step - loss: 0.0027\n",
            "Epoch 48/50\n",
            "190/190 [==============================] - 19s 101ms/step - loss: 0.0028\n",
            "Epoch 49/50\n",
            "190/190 [==============================] - 17s 92ms/step - loss: 0.0027\n",
            "Epoch 50/50\n",
            "190/190 [==============================] - 17s 91ms/step - loss: 0.0027\n"
          ]
        },
        {
          "output_type": "execute_result",
          "data": {
            "text/plain": [
              "<keras.src.callbacks.History at 0x79d9a81c6e00>"
            ]
          },
          "metadata": {},
          "execution_count": 10
        }
      ]
    },
    {
      "cell_type": "code",
      "source": [
        "model.save('lstmmodel.h5')\n",
        "model = load_model('lstmmodel.h5')\n",
        "scaler = joblib.load('scaler.gz')"
      ],
      "metadata": {
        "id": "NeRx0Clm6wkU"
      },
      "execution_count": 12,
      "outputs": []
    },
    {
      "cell_type": "code",
      "source": [
        "# Function to retrain the model with new data\n",
        "def retrain_model(model, X_new, y_new, epochs=5, batch_size=32):\n",
        "    # Partial retraining of the model with new data\n",
        "    model.fit(X_new, y_new, epochs=epochs, batch_size=batch_size, shuffle=True)\n",
        "    return model\n",
        "\n",
        "'''# Function to update y_train and recalculate statistics\n",
        "def update_training_data(new_data, y_train, max_length=10000):\n",
        "    updated_y_train = np.append(y_train, new_data)\n",
        "    if len(updated_y_train) > max_length:\n",
        "        updated_y_train = updated_y_train[-max_length:]\n",
        "    mean_y_train = np.mean(updated_y_train)\n",
        "    std_y_train = np.std(updated_y_train)\n",
        "    return updated_y_train, mean_y_train, std_y_train '''"
      ],
      "metadata": {
        "id": "SvQCwgRqrEYq",
        "outputId": "c5099911-c495-4bd5-b8b3-d12011e7848f",
        "colab": {
          "base_uri": "https://localhost:8080/",
          "height": 70
        }
      },
      "execution_count": 13,
      "outputs": [
        {
          "output_type": "execute_result",
          "data": {
            "text/plain": [
              "'# Function to update y_train and recalculate statistics\\ndef update_training_data(new_data, y_train, max_length=10000):\\n    updated_y_train = np.append(y_train, new_data)\\n    if len(updated_y_train) > max_length:\\n        updated_y_train = updated_y_train[-max_length:]\\n    mean_y_train = np.mean(updated_y_train)\\n    std_y_train = np.std(updated_y_train)\\n    return updated_y_train, mean_y_train, std_y_train '"
            ],
            "application/vnd.google.colaboratory.intrinsic+json": {
              "type": "string"
            }
          },
          "metadata": {},
          "execution_count": 13
        }
      ]
    },
    {
      "cell_type": "code",
      "source": [
        "import numpy as np\n",
        "import pandas as pd\n",
        "\n",
        "window_size = 24\n",
        "retrain_flag = False  # Set to False to compare without retraining\n",
        "\n",
        "# Initializing lists to store results\n",
        "actual_values = []\n",
        "predicted_values = []\n",
        "errors = []\n",
        "anomaly_errors = []  # Track MSE for anomalies\n",
        "dates_for_plotting = []\n",
        "anomalies = []\n",
        "\n",
        "for i in range(min(50, X_test.shape[0])):\n",
        "    X_input = X_test[i, :, :]\n",
        "    X_input = np.reshape(X_input, (1, X_input.shape[0], X_input.shape[1]))\n",
        "\n",
        "    forecast = model.predict(X_input)\n",
        "    dummy = np.zeros((1, 2))\n",
        "    dummy[:, 0] = forecast[:, 0]\n",
        "    forecasted_value = scaler.inverse_transform(dummy)[0, 0]\n",
        "    predicted_values.append(forecasted_value)\n",
        "\n",
        "    actual = y_test[i] if i < len(y_test) else None\n",
        "    if actual is not None:\n",
        "        actual_transformed = scaler.inverse_transform([[actual, 0]])[0, 0]\n",
        "        actual_values.append(actual_transformed)\n",
        "\n",
        "    error = abs(forecasted_value - actual_transformed)\n",
        "    errors.append(error)\n",
        "\n",
        "    last_date = pd.to_datetime(dates_test_seq[i][-1])\n",
        "    dates_for_plotting.append(last_date)\n",
        "\n",
        "    if len(errors) >= window_size:\n",
        "        windowed_errors = errors[-window_size:]\n",
        "        mean_error = np.mean(windowed_errors)\n",
        "        std_error = np.std(windowed_errors)\n",
        "        threshold = mean_error + 2 * std_error\n",
        "\n",
        "        windowed_anomalies = [j for j, e in enumerate(windowed_errors) if e > threshold]\n",
        "        if windowed_anomalies:\n",
        "            anomaly_indices = [i - window_size + 1 + j for j in windowed_anomalies]\n",
        "            anomalies.extend(anomaly_indices)\n",
        "            for idx in anomaly_indices:\n",
        "                anomaly_errors.append((predicted_values[idx] - actual_values[idx]) ** 2)\n",
        "\n",
        "            if retrain_flag:\n",
        "                # Retrain the model with the most recent window of data\n",
        "                model = retrain_model(model, X_test[i-window_size+1:i+1, :], y_test[i-window_size+1:i+1])\n",
        "\n",
        "# Calculate and print MSE for anomalies\n",
        "anomaly_mse = np.mean(anomaly_errors) if anomaly_errors else 0\n",
        "print(\"MSE for Anomalies:\", anomaly_mse)\n",
        "print(actual_values)\n",
        "print(predicted_values)\n",
        "print(errors)"
      ],
      "metadata": {
        "id": "mCO3jVlme9O2",
        "outputId": "86e99474-0da5-400f-9ab1-2f0f4f1128c5",
        "colab": {
          "base_uri": "https://localhost:8080/"
        }
      },
      "execution_count": 36,
      "outputs": [
        {
          "output_type": "stream",
          "name": "stdout",
          "text": [
            "1/1 [==============================] - 0s 35ms/step\n",
            "1/1 [==============================] - 0s 48ms/step\n",
            "1/1 [==============================] - 0s 34ms/step\n",
            "1/1 [==============================] - 0s 33ms/step\n",
            "1/1 [==============================] - 0s 38ms/step\n",
            "1/1 [==============================] - 0s 44ms/step\n",
            "1/1 [==============================] - 0s 38ms/step\n",
            "1/1 [==============================] - 0s 29ms/step\n",
            "1/1 [==============================] - 0s 30ms/step\n",
            "1/1 [==============================] - 0s 40ms/step\n",
            "1/1 [==============================] - 0s 27ms/step\n",
            "1/1 [==============================] - 0s 25ms/step\n",
            "1/1 [==============================] - 0s 25ms/step\n",
            "1/1 [==============================] - 0s 25ms/step\n",
            "1/1 [==============================] - 0s 31ms/step\n",
            "1/1 [==============================] - 0s 30ms/step\n",
            "1/1 [==============================] - 0s 26ms/step\n",
            "1/1 [==============================] - 0s 27ms/step\n",
            "1/1 [==============================] - 0s 35ms/step\n",
            "1/1 [==============================] - 0s 38ms/step\n",
            "1/1 [==============================] - 0s 39ms/step\n",
            "1/1 [==============================] - 0s 31ms/step\n",
            "1/1 [==============================] - 0s 37ms/step\n",
            "1/1 [==============================] - 0s 40ms/step\n",
            "1/1 [==============================] - 0s 37ms/step\n",
            "1/1 [==============================] - 0s 39ms/step\n",
            "1/1 [==============================] - 0s 36ms/step\n",
            "1/1 [==============================] - 0s 39ms/step\n",
            "1/1 [==============================] - 0s 41ms/step\n",
            "1/1 [==============================] - 0s 38ms/step\n",
            "1/1 [==============================] - 0s 41ms/step\n",
            "1/1 [==============================] - 0s 33ms/step\n",
            "1/1 [==============================] - 0s 35ms/step\n",
            "1/1 [==============================] - 0s 39ms/step\n",
            "1/1 [==============================] - 0s 39ms/step\n",
            "1/1 [==============================] - 0s 33ms/step\n",
            "1/1 [==============================] - 0s 37ms/step\n",
            "1/1 [==============================] - 0s 32ms/step\n",
            "1/1 [==============================] - 0s 32ms/step\n",
            "1/1 [==============================] - 0s 34ms/step\n",
            "1/1 [==============================] - 0s 38ms/step\n",
            "1/1 [==============================] - 0s 33ms/step\n",
            "1/1 [==============================] - 0s 33ms/step\n",
            "1/1 [==============================] - 0s 26ms/step\n",
            "1/1 [==============================] - 0s 25ms/step\n",
            "1/1 [==============================] - 0s 24ms/step\n",
            "1/1 [==============================] - 0s 34ms/step\n",
            "1/1 [==============================] - 0s 27ms/step\n",
            "1/1 [==============================] - 0s 26ms/step\n",
            "1/1 [==============================] - 0s 25ms/step\n",
            "MSE for Anomalies: 0.00011935342382487318\n",
            "[109.783, 109.783, 109.786, 109.785, 109.785, 109.784, 109.783, 109.78, 109.78, 109.778, 109.778, 109.775, 109.776, 109.773, 109.772, 109.769, 109.77, 109.767, 109.766, 109.766, 109.764, 109.765, 109.764, 109.765, 109.765, 109.766, 109.766, 109.767, 109.768, 109.768, 109.769, 109.77, 109.77, 109.773, 109.773, 109.775, 109.778, 109.779, 109.781, 109.782, 109.783, 109.785, 109.784, 109.782, 109.782, 109.779, 109.777, 109.776, 109.77, 109.767]\n",
            "[109.77238713037968, 109.77242920571567, 109.77242998600006, 109.77241738140583, 109.77237566620111, 109.77229871815443, 109.77217975479365, 109.77200881248713, 109.77179789561033, 109.77155558729172, 109.7713019348383, 109.77105944645405, 109.77081155610085, 109.770579631567, 109.77036031162739, 109.77015779781343, 109.76996080601216, 109.76975511103869, 109.76953008902073, 109.7692873005271, 109.76906029778719, 109.76884499931336, 109.76867423707247, 109.76853906780482, 109.7684613994956, 109.7684238858223, 109.7684172834158, 109.7684207046628, 109.76843018811941, 109.7684376308322, 109.76845809829236, 109.7685113977194, 109.76859098672867, 109.76870886969567, 109.76888641440868, 109.76910195297003, 109.7693676698208, 109.76966591852904, 109.76997659176588, 109.77026109546424, 109.77050940597057, 109.77069613403083, 109.77081191623212, 109.7708206794262, 109.77071906238795, 109.77050976610184, 109.77020503503084, 109.76981345230341, 109.76936754977703, 109.7688787316084]\n",
            "[0.010612869620317156, 0.010570794284333829, 0.013570013999938624, 0.012582618594166206, 0.012624333798882503, 0.01170128184557484, 0.010820245206346613, 0.007991187512871534, 0.008202104389667397, 0.00644441270829077, 0.0066980651617001286, 0.003940553545959347, 0.0051884438991436355, 0.002420368432993314, 0.001639688372620185, 0.0011577978134198474, 3.919398783125416e-05, 0.0027551110386951905, 0.0035300890207281554, 0.0032873005270914746, 0.0050602977871960775, 0.003844999313358244, 0.004674237072478604, 0.0035390678048230484, 0.003461399495606088, 0.0024238858222958015, 0.0024172834157951684, 0.0014207046628058606, 0.00043018811940953583, 0.0004376308321951683, 0.0005419017076491173, 0.0014886022806024357, 0.001409013271327808, 0.004291130304324042, 0.004113585591312585, 0.005898047029972986, 0.008632330179210612, 0.009334081470953492, 0.011023408234123622, 0.011738904535761208, 0.012490594029429758, 0.014303865969168328, 0.013188083767886383, 0.011179320573802443, 0.011280937612042408, 0.00849023389815784, 0.006794964969159878, 0.006186547696586331, 0.0006324502229659856, 0.0018787316084001304]\n"
          ]
        }
      ]
    },
    {
      "cell_type": "code",
      "source": [
        "import matplotlib.pyplot as plt\n",
        "from IPython.display import display, clear_output\n",
        "\n",
        "fig, ax = plt.subplots(figsize=(10, 6))\n",
        "\n",
        "ax.plot(dates_for_plotting, actual_values, label='Observed', color='blue')\n",
        "ax.plot(dates_for_plotting, predicted_values, label='Predicted', color='red')\n",
        "\n",
        "ax.set_title('Groundwater Level Prediction')\n",
        "ax.set_xlabel('Date')\n",
        "ax.set_ylabel('Water Level')\n",
        "ax.legend()\n",
        "\n",
        "plt.show()\n"
      ],
      "metadata": {
        "id": "210M5-zMjsBu",
        "outputId": "1b737bc6-ef40-411a-c757-f4647f7851c7",
        "colab": {
          "base_uri": "https://localhost:8080/",
          "height": 564
        }
      },
      "execution_count": 33,
      "outputs": [
        {
          "output_type": "display_data",
          "data": {
            "text/plain": [
              "<Figure size 1000x600 with 1 Axes>"
            ],
            "image/png": "[encoded data removed]"
          },
          "metadata": {}
        }
      ]
    },
    {
      "cell_type": "code",
      "source": [
        "'''window_size = 24\n",
        "retrain_flag = True  # Set this to False to compare without retraining\n",
        "\n",
        "actual_values = []\n",
        "predicted_values = []\n",
        "errors = []\n",
        "anomaly_errors = []  # Track MSE for anomalies\n",
        "dates_for_plotting = []\n",
        "anomalies = []\n",
        "\n",
        "fig, ax = plt.subplots(figsize=(10, 6))\n",
        "\n",
        "for i in range(X_test.shape[0]):\n",
        "    X_input = X_test[i, :, :]\n",
        "    X_input = np.reshape(X_input, (1, X_input.shape[0], X_input.shape[1]))\n",
        "\n",
        "    forecast = model.predict(X_input)\n",
        "    dummy = np.zeros((1, 2))\n",
        "    dummy[:, 0] = forecast[:, 0]\n",
        "    forecasted_value = scaler.inverse_transform(dummy)[0, 0]  # Inverse transform\n",
        "    predicted_values.append(forecasted_value)  # Store inverse-transformed predicted value\n",
        "\n",
        "    actual = y_test[i] if i < len(y_test) else None\n",
        "    if actual is not None:\n",
        "        actual_transformed = scaler.inverse_transform([[actual, 0]])[0, 0]  # Inverse transform\n",
        "        actual_values.append(actual_transformed)  # Store inverse-transformed actual value\n",
        "\n",
        "    error = abs(forecasted_value - actual_transformed)\n",
        "    errors.append(error)\n",
        "\n",
        "    last_date = pd.to_datetime(dates_test_seq[i][-1])\n",
        "    dates_for_plotting.append(last_date)\n",
        "\n",
        "    ax.clear()\n",
        "    ax.plot(dates_for_plotting, actual_values, label='Observed', color='blue')  # These are inverse-transformed\n",
        "    ax.plot(dates_for_plotting, predicted_values, label='Predicted', color='red')  # These are inverse-transformed\n",
        "    ax.scatter([dates_for_plotting[j] for j in anomalies], [actual_values[j] for j in anomalies], color='orange', label='Anomalies')\n",
        "    ax.set_title('Groundwater Level Prediction')\n",
        "    ax.set_xlabel('Date')\n",
        "    ax.set_ylabel('Water Level')\n",
        "    ax.legend()\n",
        "\n",
        "    if len(errors) >= window_size:\n",
        "        windowed_errors = errors[-window_size:]\n",
        "        mean_error = np.mean(windowed_errors)\n",
        "        std_error = np.std(windowed_errors)\n",
        "        threshold = mean_error + 3 * std_error\n",
        "\n",
        "        windowed_anomalies = [j for j, e in enumerate(windowed_errors) if e > threshold]\n",
        "        if windowed_anomalies:\n",
        "            anomaly_indices = [i - window_size + 1 + j for j in windowed_anomalies]\n",
        "            anomalies.extend(anomaly_indices)\n",
        "            for idx in anomaly_indices:\n",
        "                anomaly_errors.append((predicted_values[idx] - actual_values[idx])**2)\n",
        "\n",
        "            if retrain_flag:\n",
        "                # Retrain the model with the most recent window of data\n",
        "                model = retrain_model(model, X_test[i-window_size+1:i+1, :], y_test[i-window_size+1:i+1])\n",
        "\n",
        "    display(fig)\n",
        "    plt.pause(0.5)\n",
        "    clear_output(wait=True)\n",
        "\n",
        "plt.close(fig)\n",
        "\n",
        "# Calculate and print MSE for anomalies\n",
        "anomaly_mse = np.mean(anomaly_errors) if anomaly_errors else 0\n",
        "print(\"MSE for Anomalies:\", anomaly_mse)'''"
      ],
      "metadata": {
        "id": "4vkKqJTPOZCn",
        "outputId": "e9fc9252-bc42-447f-8f11-6a1e82d5c23b",
        "colab": {
          "base_uri": "https://localhost:8080/",
          "height": 122
        }
      },
      "execution_count": 35,
      "outputs": [
        {
          "output_type": "execute_result",
          "data": {
            "text/plain": [
              "'window_size = 24\\nretrain_flag = True  # Set this to False to compare without retraining\\n\\nactual_values = []\\npredicted_values = []\\nerrors = []\\nanomaly_errors = []  # Track MSE for anomalies\\ndates_for_plotting = []\\nanomalies = []\\n\\nfig, ax = plt.subplots(figsize=(10, 6))\\n\\nfor i in range(X_test.shape[0]):\\n    X_input = X_test[i, :, :]\\n    X_input = np.reshape(X_input, (1, X_input.shape[0], X_input.shape[1]))\\n\\n    forecast = model.predict(X_input)\\n    dummy = np.zeros((1, 2))\\n    dummy[:, 0] = forecast[:, 0]\\n    forecasted_value = scaler.inverse_transform(dummy)[0, 0]  # Inverse transform\\n    predicted_values.append(forecasted_value)  # Store inverse-transformed predicted value\\n\\n    actual = y_test[i] if i < len(y_test) else None\\n    if actual is not None:\\n        actual_transformed = scaler.inverse_transform([[actual, 0]])[0, 0]  # Inverse transform\\n        actual_values.append(actual_transformed)  # Store inverse-transformed actual value\\n\\n    error = abs(forecasted_value - actual_transformed)\\n    errors.append(error)\\n\\n    last_date = pd.to_datetime(dates_test_seq[i][-1])\\n    dates_for_plotting.append(last_date)\\n\\n    ax.clear()\\n    ax.plot(dates_for_plotting, actual_values, label=\\'Observed\\', color=\\'blue\\')  # These are inverse-transformed\\n    ax.plot(dates_for_plotting, predicted_values, label=\\'Predicted\\', color=\\'red\\')  # These are inverse-transformed\\n    ax.scatter([dates_for_plotting[j] for j in anomalies], [actual_values[j] for j in anomalies], color=\\'orange\\', label=\\'Anomalies\\')\\n    ax.set_title(\\'Groundwater Level Prediction\\')\\n    ax.set_xlabel(\\'Date\\')\\n    ax.set_ylabel(\\'Water Level\\')\\n    ax.legend()\\n\\n    if len(errors) >= window_size:\\n        windowed_errors = errors[-window_size:]\\n        mean_error = np.mean(windowed_errors)\\n        std_error = np.std(windowed_errors)\\n        threshold = mean_error + 3 * std_error\\n\\n        windowed_anomalies = [j for j, e in enumerate(windowed_errors) if e > threshold]\\n        if windowed_anomalies:\\n            anomaly_indices = [i - window_size + 1 + j for j in windowed_anomalies]\\n            anomalies.extend(anomaly_indices)\\n            for idx in anomaly_indices:\\n                anomaly_errors.append((predicted_values[idx] - actual_values[idx])**2)\\n\\n            if retrain_flag:\\n                # Retrain the model with the most recent window of data\\n                model = retrain_model(model, X_test[i-window_size+1:i+1, :], y_test[i-window_size+1:i+1])\\n\\n    display(fig)\\n    plt.pause(0.5)\\n    clear_output(wait=True)\\n\\nplt.close(fig)\\n\\n# Calculate and print MSE for anomalies\\nanomaly_mse = np.mean(anomaly_errors) if anomaly_errors else 0\\nprint(\"MSE for Anomalies:\", anomaly_mse)'"
            ],
            "application/vnd.google.colaboratory.intrinsic+json": {
              "type": "string"
            }
          },
          "metadata": {},
          "execution_count": 35
        }
      ]
    },
    {
      "cell_type": "code",
      "source": [],
      "metadata": {
        "id": "tcOQyFKYlknK"
      },
      "execution_count": null,
      "outputs": []
    }
  ]
}
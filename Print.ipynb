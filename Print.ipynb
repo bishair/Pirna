{
  "nbformat": 4,
  "nbformat_minor": 0,
  "metadata": {
    "colab": {
      "provenance": [],
      "authorship_tag": "ABX9TyOWFttMc8nkVrlefxM64S6Q",
      "include_colab_link": true
    },
    "kernelspec": {
      "name": "python3",
      "display_name": "Python 3"
    },
    "language_info": {
      "name": "python"
    }
  },
  "cells": [
    {
      "cell_type": "markdown",
      "metadata": {
        "id": "view-in-github",
        "colab_type": "text"
      },
      "source": [
        "<a href=\"https://colab.research.google.com/github/bishair/Pirna/blob/main/Print.ipynb\" target=\"_parent\"><img src=\"https://colab.research.google.com/assets/colab-badge.svg\" alt=\"Open In Colab\"/></a>"
      ]
    },
    {
      "cell_type": "code",
      "execution_count": 79,
      "metadata": {
        "id": "BO_FqrnmDVXY"
      },
      "outputs": [],
      "source": [
        "import numpy as np\n",
        "import pandas as pd\n",
        "from google.colab import files\n",
        "import matplotlib.pyplot as plt\n",
        "from sklearn.preprocessing import MinMaxScaler\n",
        "from sklearn.metrics import mean_squared_error\n",
        "from tensorflow.keras.models import Sequential\n",
        "from tensorflow.keras.layers import LSTM, Dense\n",
        "from tensorflow.keras.optimizers import Adam\n",
        "from math import sqrt\n",
        "from tensorflow.keras.callbacks import EarlyStopping, ModelCheckpoint\n"
      ]
    },
    {
      "cell_type": "code",
      "source": [
        "uploaded_file = files.upload()"
      ],
      "metadata": {
        "colab": {
          "base_uri": "https://localhost:8080/",
          "height": 73
        },
        "id": "1gaGiLLCDXDu",
        "outputId": "2d960ffb-0af2-4cf0-b7a3-e9ca7b919a02"
      },
      "execution_count": null,
      "outputs": [
        {
          "output_type": "display_data",
          "data": {
            "text/plain": [
              "<IPython.core.display.HTML object>"
            ],
            "text/html": [
              "\n",
              "     <input type=\"file\" id=\"files-7b347804-2875-404e-b022-3f98b69f6333\" name=\"files[]\" multiple disabled\n",
              "        style=\"border:none\" />\n",
              "     <output id=\"result-7b347804-2875-404e-b022-3f98b69f6333\">\n",
              "      Upload widget is only available when the cell has been executed in the\n",
              "      current browser session. Please rerun this cell to enable.\n",
              "      </output>\n",
              "      <script>// Copyright 2017 Google LLC\n",
              "//\n",
              "// Licensed under the Apache License, Version 2.0 (the \"License\");\n",
              "// you may not use this file except in compliance with the License.\n",
              "// You may obtain a copy of the License at\n",
              "//\n",
              "//      http://www.apache.org/licenses/LICENSE-2.0\n",
              "//\n",
              "// Unless required by applicable law or agreed to in writing, software\n",
              "// distributed under the License is distributed on an \"AS IS\" BASIS,\n",
              "// WITHOUT WARRANTIES OR CONDITIONS OF ANY KIND, either express or implied.\n",
              "// See the License for the specific language governing permissions and\n",
              "// limitations under the License.\n",
              "\n",
              "/**\n",
              " * @fileoverview Helpers for google.colab Python module.\n",
              " */\n",
              "(function(scope) {\n",
              "function span(text, styleAttributes = {}) {\n",
              "  const element = document.createElement('span');\n",
              "  element.textContent = text;\n",
              "  for (const key of Object.keys(styleAttributes)) {\n",
              "    element.style[key] = styleAttributes[key];\n",
              "  }\n",
              "  return element;\n",
              "}\n",
              "\n",
              "// Max number of bytes which will be uploaded at a time.\n",
              "const MAX_PAYLOAD_SIZE = 100 * 1024;\n",
              "\n",
              "function _uploadFiles(inputId, outputId) {\n",
              "  const steps = uploadFilesStep(inputId, outputId);\n",
              "  const outputElement = document.getElementById(outputId);\n",
              "  // Cache steps on the outputElement to make it available for the next call\n",
              "  // to uploadFilesContinue from Python.\n",
              "  outputElement.steps = steps;\n",
              "\n",
              "  return _uploadFilesContinue(outputId);\n",
              "}\n",
              "\n",
              "// This is roughly an async generator (not supported in the browser yet),\n",
              "// where there are multiple asynchronous steps and the Python side is going\n",
              "// to poll for completion of each step.\n",
              "// This uses a Promise to block the python side on completion of each step,\n",
              "// then passes the result of the previous step as the input to the next step.\n",
              "function _uploadFilesContinue(outputId) {\n",
              "  const outputElement = document.getElementById(outputId);\n",
              "  const steps = outputElement.steps;\n",
              "\n",
              "  const next = steps.next(outputElement.lastPromiseValue);\n",
              "  return Promise.resolve(next.value.promise).then((value) => {\n",
              "    // Cache the last promise value to make it available to the next\n",
              "    // step of the generator.\n",
              "    outputElement.lastPromiseValue = value;\n",
              "    return next.value.response;\n",
              "  });\n",
              "}\n",
              "\n",
              "/**\n",
              " * Generator function which is called between each async step of the upload\n",
              " * process.\n",
              " * @param {string} inputId Element ID of the input file picker element.\n",
              " * @param {string} outputId Element ID of the output display.\n",
              " * @return {!Iterable<!Object>} Iterable of next steps.\n",
              " */\n",
              "function* uploadFilesStep(inputId, outputId) {\n",
              "  const inputElement = document.getElementById(inputId);\n",
              "  inputElement.disabled = false;\n",
              "\n",
              "  const outputElement = document.getElementById(outputId);\n",
              "  outputElement.innerHTML = '';\n",
              "\n",
              "  const pickedPromise = new Promise((resolve) => {\n",
              "    inputElement.addEventListener('change', (e) => {\n",
              "      resolve(e.target.files);\n",
              "    });\n",
              "  });\n",
              "\n",
              "  const cancel = document.createElement('button');\n",
              "  inputElement.parentElement.appendChild(cancel);\n",
              "  cancel.textContent = 'Cancel upload';\n",
              "  const cancelPromise = new Promise((resolve) => {\n",
              "    cancel.onclick = () => {\n",
              "      resolve(null);\n",
              "    };\n",
              "  });\n",
              "\n",
              "  // Wait for the user to pick the files.\n",
              "  const files = yield {\n",
              "    promise: Promise.race([pickedPromise, cancelPromise]),\n",
              "    response: {\n",
              "      action: 'starting',\n",
              "    }\n",
              "  };\n",
              "\n",
              "  cancel.remove();\n",
              "\n",
              "  // Disable the input element since further picks are not allowed.\n",
              "  inputElement.disabled = true;\n",
              "\n",
              "  if (!files) {\n",
              "    return {\n",
              "      response: {\n",
              "        action: 'complete',\n",
              "      }\n",
              "    };\n",
              "  }\n",
              "\n",
              "  for (const file of files) {\n",
              "    const li = document.createElement('li');\n",
              "    li.append(span(file.name, {fontWeight: 'bold'}));\n",
              "    li.append(span(\n",
              "        `(${file.type || 'n/a'}) - ${file.size} bytes, ` +\n",
              "        `last modified: ${\n",
              "            file.lastModifiedDate ? file.lastModifiedDate.toLocaleDateString() :\n",
              "                                    'n/a'} - `));\n",
              "    const percent = span('0% done');\n",
              "    li.appendChild(percent);\n",
              "\n",
              "    outputElement.appendChild(li);\n",
              "\n",
              "    const fileDataPromise = new Promise((resolve) => {\n",
              "      const reader = new FileReader();\n",
              "      reader.onload = (e) => {\n",
              "        resolve(e.target.result);\n",
              "      };\n",
              "      reader.readAsArrayBuffer(file);\n",
              "    });\n",
              "    // Wait for the data to be ready.\n",
              "    let fileData = yield {\n",
              "      promise: fileDataPromise,\n",
              "      response: {\n",
              "        action: 'continue',\n",
              "      }\n",
              "    };\n",
              "\n",
              "    // Use a chunked sending to avoid message size limits. See b/62115660.\n",
              "    let position = 0;\n",
              "    do {\n",
              "      const length = Math.min(fileData.byteLength - position, MAX_PAYLOAD_SIZE);\n",
              "      const chunk = new Uint8Array(fileData, position, length);\n",
              "      position += length;\n",
              "\n",
              "      const base64 = btoa(String.fromCharCode.apply(null, chunk));\n",
              "      yield {\n",
              "        response: {\n",
              "          action: 'append',\n",
              "          file: file.name,\n",
              "          data: base64,\n",
              "        },\n",
              "      };\n",
              "\n",
              "      let percentDone = fileData.byteLength === 0 ?\n",
              "          100 :\n",
              "          Math.round((position / fileData.byteLength) * 100);\n",
              "      percent.textContent = `${percentDone}% done`;\n",
              "\n",
              "    } while (position < fileData.byteLength);\n",
              "  }\n",
              "\n",
              "  // All done.\n",
              "  yield {\n",
              "    response: {\n",
              "      action: 'complete',\n",
              "    }\n",
              "  };\n",
              "}\n",
              "\n",
              "scope.google = scope.google || {};\n",
              "scope.google.colab = scope.google.colab || {};\n",
              "scope.google.colab._files = {\n",
              "  _uploadFiles,\n",
              "  _uploadFilesContinue,\n",
              "};\n",
              "})(self);\n",
              "</script> "
            ]
          },
          "metadata": {}
        },
        {
          "output_type": "stream",
          "name": "stdout",
          "text": [
            "Saving riverL.xlsx to riverL.xlsx\n"
          ]
        }
      ]
    },
    {
      "cell_type": "code",
      "source": [
        "# Read the groundwater level data\n",
        "gw_data = pd.read_excel('groundwater.xlsx')\n",
        "gw_data['Date'] = pd.to_datetime(gw_data['Date'], format='%d/%m/%Y %H:%M')"
      ],
      "metadata": {
        "id": "Aif7EyU9DcIl"
      },
      "execution_count": 80,
      "outputs": []
    },
    {
      "cell_type": "code",
      "source": [
        "print(gw_data)"
      ],
      "metadata": {
        "colab": {
          "base_uri": "https://localhost:8080/"
        },
        "id": "m1NsLGg3MXT7",
        "outputId": "cb4ac83f-958c-4dc4-824b-855febd15066"
      },
      "execution_count": 81,
      "outputs": [
        {
          "output_type": "stream",
          "name": "stdout",
          "text": [
            "                     Date      G10\n",
            "0     2015-01-30 12:18:00  110.722\n",
            "1     2015-01-30 13:18:00  110.720\n",
            "2     2015-01-30 14:18:00  110.718\n",
            "3     2015-01-30 15:18:00  110.715\n",
            "4     2015-01-30 16:18:00  110.714\n",
            "...                   ...      ...\n",
            "17533 2017-01-30 10:19:00  109.456\n",
            "17534 2017-01-30 11:19:00  109.455\n",
            "17535 2017-01-30 12:19:00  109.456\n",
            "17536 2017-01-30 13:19:00  109.457\n",
            "17537 2017-01-30 14:19:00  109.459\n",
            "\n",
            "[17538 rows x 2 columns]\n"
          ]
        }
      ]
    },
    {
      "cell_type": "code",
      "source": [
        " # Read the river water level data\n",
        "river_data = pd.read_excel('riverL.xlsx')\n",
        "river_data['Date'] = pd.to_datetime(river_data['Date'], format='%d/%m/%Y %H:%M')\n"
      ],
      "metadata": {
        "id": "wDCg2CsQNHRS"
      },
      "execution_count": 82,
      "outputs": []
    },
    {
      "cell_type": "code",
      "source": [
        "print(river_data)"
      ],
      "metadata": {
        "colab": {
          "base_uri": "https://localhost:8080/"
        },
        "id": "ABwo3uKfNnNE",
        "outputId": "d252e330-4d79-430d-9de4-1b6ba5ec481e"
      },
      "execution_count": null,
      "outputs": [
        {
          "output_type": "stream",
          "name": "stdout",
          "text": [
            "                     Date  River\n",
            "0     2014-12-31 23:00:00    192\n",
            "1     2015-01-02 08:00:00    206\n",
            "2     2015-01-02 20:00:00    207\n",
            "3     2015-01-04 08:00:00    211\n",
            "4     2015-01-04 14:00:00    207\n",
            "...                   ...    ...\n",
            "23772 2017-12-31 19:00:00    260\n",
            "23773 2017-12-31 20:00:00    260\n",
            "23774 2017-12-31 21:00:00    260\n",
            "23775 2017-12-31 22:00:00    260\n",
            "23776 2017-12-31 23:00:00    260\n",
            "\n",
            "[23777 rows x 2 columns]\n"
          ]
        }
      ]
    },
    {
      "cell_type": "code",
      "source": [
        " # Merge the two datasets on the 'Date' column\n",
        "merged_data = pd.merge_asof(gw_data.sort_values('Date'), river_data.sort_values('Date'), on='Date', direction='nearest')"
      ],
      "metadata": {
        "id": "hu9Uom53OagW"
      },
      "execution_count": null,
      "outputs": []
    },
    {
      "cell_type": "code",
      "source": [
        "print(merged_data)"
      ],
      "metadata": {
        "colab": {
          "base_uri": "https://localhost:8080/"
        },
        "id": "JzskrBEKO3tT",
        "outputId": "2fd989af-b02c-4428-f134-c212bbacd7a2"
      },
      "execution_count": null,
      "outputs": [
        {
          "output_type": "stream",
          "name": "stdout",
          "text": [
            "                     Date      G10  River\n",
            "0     2015-01-30 12:18:00  110.722    261\n",
            "1     2015-01-30 13:18:00  110.720    260\n",
            "2     2015-01-30 14:18:00  110.718    260\n",
            "3     2015-01-30 15:18:00  110.715    260\n",
            "4     2015-01-30 16:18:00  110.714    260\n",
            "...                   ...      ...    ...\n",
            "17533 2017-01-30 10:19:00  109.456    136\n",
            "17534 2017-01-30 11:19:00  109.455    138\n",
            "17535 2017-01-30 12:19:00  109.456    141\n",
            "17536 2017-01-30 13:19:00  109.457    144\n",
            "17537 2017-01-30 14:19:00  109.459    146\n",
            "\n",
            "[17538 rows x 3 columns]\n"
          ]
        }
      ]
    },
    {
      "cell_type": "code",
      "source": [
        " # Set 'Date' as the index\n",
        "merged_data.set_index('Date', inplace=True)"
      ],
      "metadata": {
        "id": "C4jXtHztO5ej"
      },
      "execution_count": null,
      "outputs": []
    },
    {
      "cell_type": "code",
      "source": [
        "\n",
        "print(merged_data)"
      ],
      "metadata": {
        "colab": {
          "base_uri": "https://localhost:8080/"
        },
        "id": "51xtvqWXPIYe",
        "outputId": "bb9f5af5-6deb-4a6c-9b13-84b58deabde1"
      },
      "execution_count": 83,
      "outputs": [
        {
          "output_type": "stream",
          "name": "stdout",
          "text": [
            "                         G10  River\n",
            "Date                               \n",
            "2015-01-30 12:18:00  110.722    261\n",
            "2015-01-30 13:18:00  110.720    260\n",
            "2015-01-30 14:18:00  110.718    260\n",
            "2015-01-30 15:18:00  110.715    260\n",
            "2015-01-30 16:18:00  110.714    260\n",
            "...                      ...    ...\n",
            "2017-01-30 10:19:00  109.456    136\n",
            "2017-01-30 11:19:00  109.455    138\n",
            "2017-01-30 12:19:00  109.456    141\n",
            "2017-01-30 13:19:00  109.457    144\n",
            "2017-01-30 14:19:00  109.459    146\n",
            "\n",
            "[17538 rows x 2 columns]\n"
          ]
        }
      ]
    },
    {
      "cell_type": "code",
      "source": [
        "# Create a new date range that starts from the first timestamp in merged_data\n",
        "start_date = merged_data.index.min()\n",
        "end_date = merged_data.index.max()\n",
        "new_date_range = pd.date_range(start=start_date, end=end_date, freq='H')\n",
        "\n",
        "# Reindex and resample merged_data with the new date range\n",
        "resampled_data = merged_data.reindex(new_date_range).ffill().bfill()\n",
        "# Resample the data to hourly frequency and forward fill missing values\n",
        "#resampled_data = merged_data.resample('H').ffill()\n",
        "\n"
      ],
      "metadata": {
        "id": "m_Mz27DhPKG7"
      },
      "execution_count": null,
      "outputs": []
    },
    {
      "cell_type": "code",
      "source": [
        "print(resampled_data)"
      ],
      "metadata": {
        "colab": {
          "base_uri": "https://localhost:8080/"
        },
        "id": "YbujumR-Pv34",
        "outputId": "6d671944-d028-437b-81c5-0121429b3099"
      },
      "execution_count": null,
      "outputs": [
        {
          "output_type": "stream",
          "name": "stdout",
          "text": [
            "                         G10  River\n",
            "2015-01-30 12:18:00  110.722  261.0\n",
            "2015-01-30 13:18:00  110.720  260.0\n",
            "2015-01-30 14:18:00  110.718  260.0\n",
            "2015-01-30 15:18:00  110.715  260.0\n",
            "2015-01-30 16:18:00  110.714  260.0\n",
            "...                      ...    ...\n",
            "2017-01-30 10:18:00  110.019  199.0\n",
            "2017-01-30 11:18:00  110.019  199.0\n",
            "2017-01-30 12:18:00  110.019  199.0\n",
            "2017-01-30 13:18:00  110.019  199.0\n",
            "2017-01-30 14:18:00  110.019  199.0\n",
            "\n",
            "[17547 rows x 2 columns]\n"
          ]
        }
      ]
    },
    {
      "cell_type": "markdown",
      "source": [
        "# Preprocess DATA for LSTM model input"
      ],
      "metadata": {
        "id": "bfPNOOQLR9QM"
      }
    },
    {
      "cell_type": "code",
      "source": [
        "# Handling missing values\n",
        "data = resampled_data.fillna(method='ffill')  # Forward fill\n",
        "print(data)"
      ],
      "metadata": {
        "id": "oYeofD9rP9MY",
        "colab": {
          "base_uri": "https://localhost:8080/"
        },
        "outputId": "ad0c9d96-5d2a-400f-bf6c-b80047a65d71"
      },
      "execution_count": null,
      "outputs": [
        {
          "output_type": "stream",
          "name": "stdout",
          "text": [
            "                         G10  River\n",
            "2015-01-30 12:18:00  110.722  261.0\n",
            "2015-01-30 13:18:00  110.720  260.0\n",
            "2015-01-30 14:18:00  110.718  260.0\n",
            "2015-01-30 15:18:00  110.715  260.0\n",
            "2015-01-30 16:18:00  110.714  260.0\n",
            "...                      ...    ...\n",
            "2017-01-30 10:18:00  110.019  199.0\n",
            "2017-01-30 11:18:00  110.019  199.0\n",
            "2017-01-30 12:18:00  110.019  199.0\n",
            "2017-01-30 13:18:00  110.019  199.0\n",
            "2017-01-30 14:18:00  110.019  199.0\n",
            "\n",
            "[17547 rows x 2 columns]\n"
          ]
        }
      ]
    },
    {
      "cell_type": "code",
      "source": [
        " # Normalizing the data\n",
        "scaler = MinMaxScaler(feature_range=(0, 1))\n",
        "data_scaled = scaler.fit_transform(data)"
      ],
      "metadata": {
        "id": "cRxe_bwkKX8B"
      },
      "execution_count": null,
      "outputs": []
    },
    {
      "cell_type": "code",
      "source": [
        "print(data_scaled)\n",
        "print(data_scaled.shape)"
      ],
      "metadata": {
        "id": "qg7hgCqQK5yQ",
        "outputId": "81aeef4b-e441-485c-d2c6-7ff75cadc532",
        "colab": {
          "base_uri": "https://localhost:8080/"
        }
      },
      "execution_count": null,
      "outputs": [
        {
          "output_type": "stream",
          "name": "stdout",
          "text": [
            "[[1.         0.95238095]\n",
            " [0.99738903 0.94047619]\n",
            " [0.99477807 0.94047619]\n",
            " ...\n",
            " [0.08224543 0.21428571]\n",
            " [0.08224543 0.21428571]\n",
            " [0.08224543 0.21428571]]\n",
            "(17547, 2)\n"
          ]
        }
      ]
    },
    {
      "cell_type": "code",
      "source": [
        "# Define window size\n",
        "n_steps = 5\n",
        "\n",
        "X, y = [], []\n",
        "for i in range(n_steps, len(data_scaled)):\n",
        "  X.append(data_scaled[i-n_steps:i, :])\n",
        "  y.append(data_scaled[i, 0])\n",
        "X, y = np.array(X), np.array(y)\n",
        "\n"
      ],
      "metadata": {
        "id": "WgM7t2VfK80a"
      },
      "execution_count": null,
      "outputs": []
    },
    {
      "cell_type": "code",
      "source": [
        "print (X)\n",
        "print(X.shape)"
      ],
      "metadata": {
        "id": "WJBUY6RELTs-",
        "outputId": "ff35cc02-2dc9-4464-a64e-e4d69fca52a1",
        "colab": {
          "base_uri": "https://localhost:8080/"
        }
      },
      "execution_count": null,
      "outputs": [
        {
          "output_type": "stream",
          "name": "stdout",
          "text": [
            "[[[1.         0.95238095]\n",
            "  [0.99738903 0.94047619]\n",
            "  [0.99477807 0.94047619]\n",
            "  [0.99086162 0.94047619]\n",
            "  [0.98955614 0.94047619]]\n",
            "\n",
            " [[0.99738903 0.94047619]\n",
            "  [0.99477807 0.94047619]\n",
            "  [0.99086162 0.94047619]\n",
            "  [0.98955614 0.94047619]\n",
            "  [0.98694517 0.94047619]]\n",
            "\n",
            " [[0.99477807 0.94047619]\n",
            "  [0.99086162 0.94047619]\n",
            "  [0.98955614 0.94047619]\n",
            "  [0.98694517 0.94047619]\n",
            "  [0.9843342  0.95238095]]\n",
            "\n",
            " ...\n",
            "\n",
            " [[0.08224543 0.21428571]\n",
            "  [0.08224543 0.21428571]\n",
            "  [0.08224543 0.21428571]\n",
            "  [0.08224543 0.21428571]\n",
            "  [0.08224543 0.21428571]]\n",
            "\n",
            " [[0.08224543 0.21428571]\n",
            "  [0.08224543 0.21428571]\n",
            "  [0.08224543 0.21428571]\n",
            "  [0.08224543 0.21428571]\n",
            "  [0.08224543 0.21428571]]\n",
            "\n",
            " [[0.08224543 0.21428571]\n",
            "  [0.08224543 0.21428571]\n",
            "  [0.08224543 0.21428571]\n",
            "  [0.08224543 0.21428571]\n",
            "  [0.08224543 0.21428571]]]\n",
            "(17542, 5, 2)\n"
          ]
        }
      ]
    },
    {
      "cell_type": "code",
      "source": [
        "print(y)\n",
        "print(y.shape)"
      ],
      "metadata": {
        "id": "1bgrqglxRBhs",
        "outputId": "563977e0-8f21-435d-a9be-a4919b38f1ef",
        "colab": {
          "base_uri": "https://localhost:8080/"
        }
      },
      "execution_count": null,
      "outputs": [
        {
          "output_type": "stream",
          "name": "stdout",
          "text": [
            "[0.98694517 0.9843342  0.98302872 ... 0.08224543 0.08224543 0.08224543]\n",
            "(17542,)\n"
          ]
        }
      ]
    },
    {
      "cell_type": "code",
      "source": [
        "# Check if there are any NaN values in X\n",
        "nan_in_X = np.isnan(X).any()\n",
        "nan_count_X = np.isnan(X).sum()\n",
        "\n",
        "# Check if there are any NaN values in y\n",
        "nan_in_y = np.isnan(y).any()\n",
        "nan_count_y = np.isnan(y).sum()\n",
        "\n",
        "print(f\"NaN values in X? {nan_in_X}\")\n",
        "print(f\"Total number of NaN values in X: {nan_count_X}\")\n",
        "\n",
        "print(f\"NaN values in y? {nan_in_y}\")\n",
        "print(f\"Total number of NaN values in y: {nan_count_y}\")"
      ],
      "metadata": {
        "id": "TCwhCgmlWyJl",
        "outputId": "4cffe0c9-6c9e-43c3-c98e-fa5a2ca60701",
        "colab": {
          "base_uri": "https://localhost:8080/"
        }
      },
      "execution_count": 84,
      "outputs": [
        {
          "output_type": "stream",
          "name": "stdout",
          "text": [
            "NaN values in X? False\n",
            "Total number of NaN values in X: 0\n",
            "NaN values in y? False\n",
            "Total number of NaN values in y: 0\n"
          ]
        }
      ]
    },
    {
      "cell_type": "code",
      "source": [
        "train_size = int(len(X) * 0.7)\n",
        "test_size = len(X) - train_size\n",
        "X_train, X_test = X[:train_size], X[train_size:]\n",
        "y_train, y_test = y[:train_size], y[train_size:]\n",
        "print(train_size)\n",
        "print(test_size)\n",
        "print(train_size+test_size)\n",
        "print(X_train.shape, 'X-train shape')\n",
        "print(X_test.shape, 'X-test shape')\n",
        "print(y_train.shape, 'y-train shape')\n",
        "print(X_test.shape, 'y-test shape')"
      ],
      "metadata": {
        "id": "RzapMSPYRGMx",
        "outputId": "4fdaa051-67f5-4d21-ffbf-025e410b98d5",
        "colab": {
          "base_uri": "https://localhost:8080/"
        }
      },
      "execution_count": null,
      "outputs": [
        {
          "output_type": "stream",
          "name": "stdout",
          "text": [
            "12279\n",
            "5263\n",
            "17542\n",
            "(12279, 5, 2) X-train shape\n",
            "(5263, 5, 2) X-test shape\n",
            "(12279,) y-train shape\n",
            "(5263, 5, 2) y-test shape\n"
          ]
        }
      ]
    },
    {
      "cell_type": "code",
      "source": [
        "input_shape = X_train.shape[1], X_train.shape[2]\n",
        "model = Sequential([\n",
        "        LSTM(units=50, return_sequences=True, input_shape=input_shape),\n",
        "        LSTM(units=50),\n",
        "        Dense(1)\n",
        "    ])\n",
        "model.compile(optimizer='adam', loss='mean_squared_error')\n",
        "model.fit(X_train, y_train, epochs=40, batch_size=64)\n"
      ],
      "metadata": {
        "id": "QWP8hd8fP1G3",
        "outputId": "e3233f4d-aaec-4ae0-b000-3ff039861ba9",
        "colab": {
          "base_uri": "https://localhost:8080/"
        }
      },
      "execution_count": null,
      "outputs": [
        {
          "output_type": "stream",
          "name": "stdout",
          "text": [
            "Epoch 1/40\n",
            "192/192 [==============================] - 4s 6ms/step - loss: 0.0011\n",
            "Epoch 2/40\n",
            "192/192 [==============================] - 1s 6ms/step - loss: 2.2345e-06\n",
            "Epoch 3/40\n",
            "192/192 [==============================] - 1s 6ms/step - loss: 1.6510e-06\n",
            "Epoch 4/40\n",
            "192/192 [==============================] - 1s 6ms/step - loss: 1.8494e-06\n",
            "Epoch 5/40\n",
            "192/192 [==============================] - 1s 6ms/step - loss: 1.7657e-06\n",
            "Epoch 6/40\n",
            "192/192 [==============================] - 1s 8ms/step - loss: 2.3092e-06\n",
            "Epoch 7/40\n",
            "192/192 [==============================] - 1s 7ms/step - loss: 2.7175e-06\n",
            "Epoch 8/40\n",
            "192/192 [==============================] - 1s 6ms/step - loss: 2.4360e-06\n",
            "Epoch 9/40\n",
            "192/192 [==============================] - 1s 6ms/step - loss: 2.4805e-06\n",
            "Epoch 10/40\n",
            "192/192 [==============================] - 1s 6ms/step - loss: 2.7004e-06\n",
            "Epoch 11/40\n",
            "192/192 [==============================] - 1s 6ms/step - loss: 5.4742e-06\n",
            "Epoch 12/40\n",
            "192/192 [==============================] - 1s 6ms/step - loss: 2.0345e-06\n",
            "Epoch 13/40\n",
            "192/192 [==============================] - 1s 6ms/step - loss: 3.8435e-06\n",
            "Epoch 14/40\n",
            "192/192 [==============================] - 1s 6ms/step - loss: 7.1592e-06\n",
            "Epoch 15/40\n",
            "192/192 [==============================] - 1s 6ms/step - loss: 2.9826e-06\n",
            "Epoch 16/40\n",
            "192/192 [==============================] - 2s 9ms/step - loss: 3.9440e-06\n",
            "Epoch 17/40\n",
            "192/192 [==============================] - 1s 6ms/step - loss: 2.6333e-06\n",
            "Epoch 18/40\n",
            "192/192 [==============================] - 1s 6ms/step - loss: 2.5427e-06\n",
            "Epoch 19/40\n",
            "192/192 [==============================] - 1s 6ms/step - loss: 3.4200e-06\n",
            "Epoch 20/40\n",
            "192/192 [==============================] - 1s 6ms/step - loss: 7.8248e-06\n",
            "Epoch 21/40\n",
            "192/192 [==============================] - 1s 6ms/step - loss: 4.6419e-06\n",
            "Epoch 22/40\n",
            "192/192 [==============================] - 1s 6ms/step - loss: 3.9389e-06\n",
            "Epoch 23/40\n",
            "192/192 [==============================] - 1s 6ms/step - loss: 2.3909e-05\n",
            "Epoch 24/40\n",
            "192/192 [==============================] - 1s 6ms/step - loss: 8.9709e-06\n",
            "Epoch 25/40\n",
            "192/192 [==============================] - 1s 6ms/step - loss: 1.6925e-06\n",
            "Epoch 26/40\n",
            "192/192 [==============================] - 2s 8ms/step - loss: 2.3427e-06\n",
            "Epoch 27/40\n",
            "192/192 [==============================] - 1s 6ms/step - loss: 3.7579e-06\n",
            "Epoch 28/40\n",
            "192/192 [==============================] - 1s 7ms/step - loss: 2.0197e-06\n",
            "Epoch 29/40\n",
            "192/192 [==============================] - 1s 7ms/step - loss: 3.8776e-06\n",
            "Epoch 30/40\n",
            "192/192 [==============================] - 1s 6ms/step - loss: 2.2584e-06\n",
            "Epoch 31/40\n",
            "192/192 [==============================] - 1s 6ms/step - loss: 4.1457e-06\n",
            "Epoch 32/40\n",
            "192/192 [==============================] - 1s 6ms/step - loss: 3.8380e-06\n",
            "Epoch 33/40\n",
            "192/192 [==============================] - 1s 6ms/step - loss: 4.6385e-06\n",
            "Epoch 34/40\n",
            "192/192 [==============================] - 1s 6ms/step - loss: 1.4574e-05\n",
            "Epoch 35/40\n",
            "192/192 [==============================] - 2s 8ms/step - loss: 2.4384e-06\n",
            "Epoch 36/40\n",
            "192/192 [==============================] - 1s 6ms/step - loss: 4.1243e-06\n",
            "Epoch 37/40\n",
            "192/192 [==============================] - 1s 6ms/step - loss: 5.3457e-06\n",
            "Epoch 38/40\n",
            "192/192 [==============================] - 1s 5ms/step - loss: 2.1465e-06\n",
            "Epoch 39/40\n",
            "192/192 [==============================] - 1s 6ms/step - loss: 2.2616e-06\n",
            "Epoch 40/40\n",
            "192/192 [==============================] - 1s 6ms/step - loss: 3.8833e-06\n"
          ]
        },
        {
          "output_type": "execute_result",
          "data": {
            "text/plain": [
              "<keras.src.callbacks.History at 0x7a3e1efead40>"
            ]
          },
          "metadata": {},
          "execution_count": 79
        }
      ]
    },
    {
      "cell_type": "code",
      "source": [
        "model.save('my_lstm_model.h5')\n",
        "trained_model = model\n",
        "print(trained_model)"
      ],
      "metadata": {
        "id": "hOEM5AV1R2jp",
        "outputId": "803506a3-18ea-418f-9008-30ab15c124b1",
        "colab": {
          "base_uri": "https://localhost:8080/"
        }
      },
      "execution_count": null,
      "outputs": [
        {
          "output_type": "stream",
          "name": "stdout",
          "text": [
            "<keras.src.engine.sequential.Sequential object at 0x7a3e1d39cc70>\n"
          ]
        }
      ]
    },
    {
      "cell_type": "code",
      "source": [
        "loss = trained_model.evaluate(X_test, y_test)\n",
        "print(loss)\n"
      ],
      "metadata": {
        "id": "SE3Gau87U9wt",
        "outputId": "f243cf62-bf49-4ec7-feb8-771978676478",
        "colab": {
          "base_uri": "https://localhost:8080/"
        }
      },
      "execution_count": null,
      "outputs": [
        {
          "output_type": "stream",
          "name": "stdout",
          "text": [
            "165/165 [==============================] - 1s 2ms/step - loss: 4.5934e-08\n",
            "4.5934491765819985e-08\n"
          ]
        }
      ]
    },
    {
      "cell_type": "markdown",
      "source": [
        "# **------------------------------Anomaly detection in new data------------------------**"
      ],
      "metadata": {
        "id": "0p1gRWaMxzT6"
      }
    },
    {
      "cell_type": "code",
      "source": [
        "uploaded_file = files.upload()"
      ],
      "metadata": {
        "id": "E0iBVp9c2_nk",
        "outputId": "a2256864-53b1-4466-dffe-47a173c05571",
        "colab": {
          "base_uri": "https://localhost:8080/",
          "height": 73
        }
      },
      "execution_count": 89,
      "outputs": [
        {
          "output_type": "display_data",
          "data": {
            "text/plain": [
              "<IPython.core.display.HTML object>"
            ],
            "text/html": [
              "\n",
              "     <input type=\"file\" id=\"files-8689e0f5-51f3-4485-b88f-e783b596a282\" name=\"files[]\" multiple disabled\n",
              "        style=\"border:none\" />\n",
              "     <output id=\"result-8689e0f5-51f3-4485-b88f-e783b596a282\">\n",
              "      Upload widget is only available when the cell has been executed in the\n",
              "      current browser session. Please rerun this cell to enable.\n",
              "      </output>\n",
              "      <script>// Copyright 2017 Google LLC\n",
              "//\n",
              "// Licensed under the Apache License, Version 2.0 (the \"License\");\n",
              "// you may not use this file except in compliance with the License.\n",
              "// You may obtain a copy of the License at\n",
              "//\n",
              "//      http://www.apache.org/licenses/LICENSE-2.0\n",
              "//\n",
              "// Unless required by applicable law or agreed to in writing, software\n",
              "// distributed under the License is distributed on an \"AS IS\" BASIS,\n",
              "// WITHOUT WARRANTIES OR CONDITIONS OF ANY KIND, either express or implied.\n",
              "// See the License for the specific language governing permissions and\n",
              "// limitations under the License.\n",
              "\n",
              "/**\n",
              " * @fileoverview Helpers for google.colab Python module.\n",
              " */\n",
              "(function(scope) {\n",
              "function span(text, styleAttributes = {}) {\n",
              "  const element = document.createElement('span');\n",
              "  element.textContent = text;\n",
              "  for (const key of Object.keys(styleAttributes)) {\n",
              "    element.style[key] = styleAttributes[key];\n",
              "  }\n",
              "  return element;\n",
              "}\n",
              "\n",
              "// Max number of bytes which will be uploaded at a time.\n",
              "const MAX_PAYLOAD_SIZE = 100 * 1024;\n",
              "\n",
              "function _uploadFiles(inputId, outputId) {\n",
              "  const steps = uploadFilesStep(inputId, outputId);\n",
              "  const outputElement = document.getElementById(outputId);\n",
              "  // Cache steps on the outputElement to make it available for the next call\n",
              "  // to uploadFilesContinue from Python.\n",
              "  outputElement.steps = steps;\n",
              "\n",
              "  return _uploadFilesContinue(outputId);\n",
              "}\n",
              "\n",
              "// This is roughly an async generator (not supported in the browser yet),\n",
              "// where there are multiple asynchronous steps and the Python side is going\n",
              "// to poll for completion of each step.\n",
              "// This uses a Promise to block the python side on completion of each step,\n",
              "// then passes the result of the previous step as the input to the next step.\n",
              "function _uploadFilesContinue(outputId) {\n",
              "  const outputElement = document.getElementById(outputId);\n",
              "  const steps = outputElement.steps;\n",
              "\n",
              "  const next = steps.next(outputElement.lastPromiseValue);\n",
              "  return Promise.resolve(next.value.promise).then((value) => {\n",
              "    // Cache the last promise value to make it available to the next\n",
              "    // step of the generator.\n",
              "    outputElement.lastPromiseValue = value;\n",
              "    return next.value.response;\n",
              "  });\n",
              "}\n",
              "\n",
              "/**\n",
              " * Generator function which is called between each async step of the upload\n",
              " * process.\n",
              " * @param {string} inputId Element ID of the input file picker element.\n",
              " * @param {string} outputId Element ID of the output display.\n",
              " * @return {!Iterable<!Object>} Iterable of next steps.\n",
              " */\n",
              "function* uploadFilesStep(inputId, outputId) {\n",
              "  const inputElement = document.getElementById(inputId);\n",
              "  inputElement.disabled = false;\n",
              "\n",
              "  const outputElement = document.getElementById(outputId);\n",
              "  outputElement.innerHTML = '';\n",
              "\n",
              "  const pickedPromise = new Promise((resolve) => {\n",
              "    inputElement.addEventListener('change', (e) => {\n",
              "      resolve(e.target.files);\n",
              "    });\n",
              "  });\n",
              "\n",
              "  const cancel = document.createElement('button');\n",
              "  inputElement.parentElement.appendChild(cancel);\n",
              "  cancel.textContent = 'Cancel upload';\n",
              "  const cancelPromise = new Promise((resolve) => {\n",
              "    cancel.onclick = () => {\n",
              "      resolve(null);\n",
              "    };\n",
              "  });\n",
              "\n",
              "  // Wait for the user to pick the files.\n",
              "  const files = yield {\n",
              "    promise: Promise.race([pickedPromise, cancelPromise]),\n",
              "    response: {\n",
              "      action: 'starting',\n",
              "    }\n",
              "  };\n",
              "\n",
              "  cancel.remove();\n",
              "\n",
              "  // Disable the input element since further picks are not allowed.\n",
              "  inputElement.disabled = true;\n",
              "\n",
              "  if (!files) {\n",
              "    return {\n",
              "      response: {\n",
              "        action: 'complete',\n",
              "      }\n",
              "    };\n",
              "  }\n",
              "\n",
              "  for (const file of files) {\n",
              "    const li = document.createElement('li');\n",
              "    li.append(span(file.name, {fontWeight: 'bold'}));\n",
              "    li.append(span(\n",
              "        `(${file.type || 'n/a'}) - ${file.size} bytes, ` +\n",
              "        `last modified: ${\n",
              "            file.lastModifiedDate ? file.lastModifiedDate.toLocaleDateString() :\n",
              "                                    'n/a'} - `));\n",
              "    const percent = span('0% done');\n",
              "    li.appendChild(percent);\n",
              "\n",
              "    outputElement.appendChild(li);\n",
              "\n",
              "    const fileDataPromise = new Promise((resolve) => {\n",
              "      const reader = new FileReader();\n",
              "      reader.onload = (e) => {\n",
              "        resolve(e.target.result);\n",
              "      };\n",
              "      reader.readAsArrayBuffer(file);\n",
              "    });\n",
              "    // Wait for the data to be ready.\n",
              "    let fileData = yield {\n",
              "      promise: fileDataPromise,\n",
              "      response: {\n",
              "        action: 'continue',\n",
              "      }\n",
              "    };\n",
              "\n",
              "    // Use a chunked sending to avoid message size limits. See b/62115660.\n",
              "    let position = 0;\n",
              "    do {\n",
              "      const length = Math.min(fileData.byteLength - position, MAX_PAYLOAD_SIZE);\n",
              "      const chunk = new Uint8Array(fileData, position, length);\n",
              "      position += length;\n",
              "\n",
              "      const base64 = btoa(String.fromCharCode.apply(null, chunk));\n",
              "      yield {\n",
              "        response: {\n",
              "          action: 'append',\n",
              "          file: file.name,\n",
              "          data: base64,\n",
              "        },\n",
              "      };\n",
              "\n",
              "      let percentDone = fileData.byteLength === 0 ?\n",
              "          100 :\n",
              "          Math.round((position / fileData.byteLength) * 100);\n",
              "      percent.textContent = `${percentDone}% done`;\n",
              "\n",
              "    } while (position < fileData.byteLength);\n",
              "  }\n",
              "\n",
              "  // All done.\n",
              "  yield {\n",
              "    response: {\n",
              "      action: 'complete',\n",
              "    }\n",
              "  };\n",
              "}\n",
              "\n",
              "scope.google = scope.google || {};\n",
              "scope.google.colab = scope.google.colab || {};\n",
              "scope.google.colab._files = {\n",
              "  _uploadFiles,\n",
              "  _uploadFilesContinue,\n",
              "};\n",
              "})(self);\n",
              "</script> "
            ]
          },
          "metadata": {}
        },
        {
          "output_type": "stream",
          "name": "stdout",
          "text": [
            "Saving river_a.xlsx to river_a (2).xlsx\n"
          ]
        }
      ]
    },
    {
      "cell_type": "code",
      "source": [
        "#Use consistent time data, in case of missing observations use forward fill to have consistent time data\n",
        "#date_format= '%Y-%m-%d %H:%M:%S'\n",
        "\n",
        "def merge_and_resample(file_groundwater, file_river, date_format_groundwater, date_format_river):\n",
        "    # Read the groundwater level data\n",
        "    gw_data = pd.read_excel(file_groundwater)\n",
        "    gw_data['Date'] = pd.to_datetime(gw_data['Date'], format=date_format_groundwater)\n",
        "\n",
        "    # Read the river water level data\n",
        "    river_data = pd.read_excel(file_river)\n",
        "    river_data['Date'] = pd.to_datetime(river_data['Date'], format=date_format_river)\n",
        "\n",
        "    # Merge the two datasets on the 'Date' column\n",
        "    merged_data = pd.merge_asof(gw_data.sort_values('Date'), river_data.sort_values('Date'), on='Date', direction='nearest')\n",
        "\n",
        "    # Set 'Date' as the index\n",
        "    merged_data.set_index('Date', inplace=True)\n",
        "\n",
        "    # Create a new date range that starts from the first timestamp in merged_data\n",
        "    start_date = merged_data.index.min()\n",
        "    end_date = merged_data.index.max()\n",
        "    new_date_range = pd.date_range(start=start_date, end=end_date, freq='H')\n",
        "\n",
        "    # Reindex and resample merged_data with the new date range\n",
        "    resampled_data = merged_data.reindex(new_date_range).ffill().bfill()\n",
        "\n",
        "    return resampled_data\n",
        "\n",
        "\n",
        "def train_model(x_train, y_train, input_shape, epochs=100, batch_size=32):\n",
        "    model = Sequential([\n",
        "        LSTM(units=50, return_sequences=True, input_shape=input_shape),\n",
        "        LSTM(units=50),\n",
        "        Dense(1)\n",
        "    ])\n",
        "    model.compile(optimizer='adam', loss='mean_squared_error')\n",
        "    model.fit(x_train, y_train, epochs=epochs, batch_size=batch_size)\n",
        "    return model\n",
        "\n",
        "def save_model(model, filename='my_lstm_model.h5'):\n",
        "    model.save(filename)\n",
        "    return model\n",
        "\n",
        "def evaluate_model(model, x_test, y_test):\n",
        "    # Evaluate the model's performance on the test data\n",
        "    # It returns a list: [loss, mse]\n",
        "    loss = model.evaluate(x_test, y_test)\n",
        "    return loss\n",
        "\n",
        "def preprocess_data_for_retraining(data, n_steps):\n",
        "    \"\"\"\n",
        "    Preprocess the data for LSTM model to predict 'G10' using past values of 'G10' and 'River'.\n",
        "    - data: pandas DataFrame containing 'G10' and 'River' columns.\n",
        "    - n_steps: number of time steps to use for predicting the next time step.\n",
        "\n",
        "    Returns:\n",
        "    - X, y: numpy arrays of features and labels suitable for LSTM model.\n",
        "    \"\"\"\n",
        "    # Select only relevant columns\n",
        "    relevant_data = data[['G10', 'River']].copy()\n",
        "\n",
        "    # Handling missing values using forward fill\n",
        "    relevant_data.fillna(method='ffill', inplace=True)\n",
        "\n",
        "    # Normalizing the data\n",
        "    scaler = MinMaxScaler(feature_range=(0, 1))\n",
        "    data_scaled = scaler.fit_transform(relevant_data)\n",
        "\n",
        "\n",
        "    # Creating sequences\n",
        "    X, y = [], []\n",
        "    for i in range(n_steps, len(data_scaled)):\n",
        "        X.append(data_scaled[i-n_steps:i, :])\n",
        "        y.append(data_scaled[i, 0])\n",
        "\n",
        "    X, y = np.array(X), np.array(y)\n",
        "    # Split the data into training and testing sets\n",
        "    train_size = int(len(X) * 0.7)\n",
        "    test_size = len(X) - train_size\n",
        "    X_train, X_test = X[:train_size], X[train_size:]\n",
        "    y_train, y_test = y[:train_size], y[train_size:]\n",
        "    return X_train, y_train, X_test, y_test\n",
        "\n",
        "def detect_anomalies_g10(data, window_size, threshold=2.0):\n",
        "    \"\"\"\n",
        "    Detects anomalies in the 'G10' column of a time series data using a moving window method.\n",
        "\n",
        "    - data: pandas DataFrame with a datetime index and at least a 'G10' column for groundwater levels.\n",
        "    - window_size: The size of the moving window.\n",
        "    - threshold: The z-score threshold to identify an anomaly.\n",
        "\n",
        "    Returns a DataFrame with an 'Anomaly' column indicating True where anomalies were detected in 'G10'.\n",
        "    \"\"\"\n",
        "    # Calculate the moving average and standard deviation for 'G10'\n",
        "    rolling_mean = data['G10'].rolling(window=window_size).mean()\n",
        "    rolling_std = data['G10'].rolling(window=window_size).std()\n",
        "\n",
        "    # Calculate the z-score for each data point in 'G10'\n",
        "    data['Z-Score'] = (data['G10'] - rolling_mean) / rolling_std\n",
        "\n",
        "    # Identify data points where the absolute z-score exceeds the threshold\n",
        "    data['Anomaly'] = abs(data['Z-Score']) > threshold\n",
        "\n",
        "    return data\n"
      ],
      "metadata": {
        "id": "qcxlyCzW5FJU"
      },
      "execution_count": 91,
      "outputs": []
    },
    {
      "cell_type": "code",
      "source": [
        "merged_df1 = merge_and_resample('gw_a.xlsx','river_a.xlsx', '%d/%m/%Y %H:%M' ,'%d/%m/%Y %H:%M')\n",
        "print(merged_df1)"
      ],
      "metadata": {
        "id": "10hb9DaHLEIr",
        "outputId": "b2783c5e-1dab-414e-e5ee-784cc953ba0e",
        "colab": {
          "base_uri": "https://localhost:8080/"
        }
      },
      "execution_count": 90,
      "outputs": [
        {
          "output_type": "stream",
          "name": "stdout",
          "text": [
            "                         G10  River\n",
            "2019-04-09 03:30:00  110.412  230.0\n",
            "2019-04-09 04:30:00  110.409  229.0\n",
            "2019-04-09 05:30:00  110.407  229.0\n",
            "2019-04-09 06:30:00  110.404  227.0\n",
            "2019-04-09 07:30:00  110.401  227.0\n",
            "...                      ...    ...\n",
            "2021-01-22 06:30:00  109.197  108.0\n",
            "2021-01-22 07:30:00  109.197  108.0\n",
            "2021-01-22 08:30:00  109.197  108.0\n",
            "2021-01-22 09:30:00  109.197  108.0\n",
            "2021-01-22 10:30:00  109.197  108.0\n",
            "\n",
            "[15704 rows x 2 columns]\n"
          ]
        }
      ]
    },
    {
      "cell_type": "code",
      "source": [
        "anomaly_df = detect_anomalies_g10(merged_df1, 3, threshold=1)\n",
        "print(anomaly_df)"
      ],
      "metadata": {
        "id": "Ny0qr89bL9fP",
        "outputId": "584fcf7d-8155-4424-e461-480b4e913edf",
        "colab": {
          "base_uri": "https://localhost:8080/"
        }
      },
      "execution_count": 98,
      "outputs": [
        {
          "output_type": "stream",
          "name": "stdout",
          "text": [
            "                         G10  River   Z-Score  Anomaly\n",
            "2019-04-09 03:30:00  110.412  230.0       NaN    False\n",
            "2019-04-09 04:30:00  110.409  229.0       NaN    False\n",
            "2019-04-09 05:30:00  110.407  229.0 -0.927173    False\n",
            "2019-04-09 06:30:00  110.404  227.0 -1.059626     True\n",
            "2019-04-09 07:30:00  110.401  227.0 -1.000000    False\n",
            "...                      ...    ...       ...      ...\n",
            "2021-01-22 06:30:00  109.197  108.0       NaN    False\n",
            "2021-01-22 07:30:00  109.197  108.0       NaN    False\n",
            "2021-01-22 08:30:00  109.197  108.0       NaN    False\n",
            "2021-01-22 09:30:00  109.197  108.0       NaN    False\n",
            "2021-01-22 10:30:00  109.197  108.0       NaN    False\n",
            "\n",
            "[15704 rows x 4 columns]\n"
          ]
        }
      ]
    },
    {
      "cell_type": "code",
      "source": [
        "# Assuming you have already run the anomaly detection function and have the resampled_data1 DataFrame\n",
        "\n",
        "# Check if there are any anomalies\n",
        "if anomaly_df['Anomaly'].any():\n",
        "    # Preprocess the data for retraining\n",
        "    X_train, y_train, X_test, y_test = preprocess_data_for_retraining(anomaly_df, n_steps)\n",
        "\n",
        "    # Define the input shape for the LSTM model\n",
        "    input_shape = (X_train.shape[1], X_train.shape[2])\n",
        "\n",
        "    # Retrain the model\n",
        "    trained_model = train_model(X_train, y_train, input_shape, epochs=40, batch_size=64)\n",
        "\n",
        "    # Optionally, you can evaluate and save the retrained model\n",
        "    saved_model = save_model(trained_model)\n",
        "    print(\"Model retrained due to anomaly detection.\")\n",
        "    evaluate_model(saved_model, X_test, y_test)\n",
        "else:\n",
        "    print(\"No anomalies detected, no retraining required.\")\n"
      ],
      "metadata": {
        "id": "413LOlb4Me1F",
        "outputId": "dfaaba55-5386-418f-feba-8e15b429c541",
        "colab": {
          "base_uri": "https://localhost:8080/"
        }
      },
      "execution_count": 99,
      "outputs": [
        {
          "output_type": "stream",
          "name": "stdout",
          "text": [
            "Epoch 1/40\n",
            "172/172 [==============================] - 6s 9ms/step - loss: 0.0033\n",
            "Epoch 2/40\n",
            "172/172 [==============================] - 2s 9ms/step - loss: 8.1454e-06\n",
            "Epoch 3/40\n",
            "172/172 [==============================] - 2s 9ms/step - loss: 5.0643e-06\n",
            "Epoch 4/40\n",
            "172/172 [==============================] - 2s 9ms/step - loss: 5.2811e-06\n",
            "Epoch 5/40\n",
            "172/172 [==============================] - 2s 9ms/step - loss: 5.3260e-06\n",
            "Epoch 6/40\n",
            "172/172 [==============================] - 2s 9ms/step - loss: 4.9983e-06\n",
            "Epoch 7/40\n",
            "172/172 [==============================] - 2s 14ms/step - loss: 5.8608e-06\n",
            "Epoch 8/40\n",
            "172/172 [==============================] - 2s 12ms/step - loss: 5.0526e-06\n",
            "Epoch 9/40\n",
            "172/172 [==============================] - 2s 9ms/step - loss: 4.9758e-06\n",
            "Epoch 10/40\n",
            "172/172 [==============================] - 2s 9ms/step - loss: 5.8728e-06\n",
            "Epoch 11/40\n",
            "172/172 [==============================] - 2s 9ms/step - loss: 5.9334e-06\n",
            "Epoch 12/40\n",
            "172/172 [==============================] - 2s 9ms/step - loss: 6.2036e-06\n",
            "Epoch 13/40\n",
            "172/172 [==============================] - 2s 10ms/step - loss: 7.4903e-06\n",
            "Epoch 14/40\n",
            "172/172 [==============================] - 2s 10ms/step - loss: 5.9003e-06\n",
            "Epoch 15/40\n",
            "172/172 [==============================] - 2s 15ms/step - loss: 5.8933e-06\n",
            "Epoch 16/40\n",
            "172/172 [==============================] - 2s 11ms/step - loss: 7.5125e-06\n",
            "Epoch 17/40\n",
            "172/172 [==============================] - 2s 9ms/step - loss: 1.0865e-05\n",
            "Epoch 18/40\n",
            "172/172 [==============================] - 2s 9ms/step - loss: 5.0340e-06\n",
            "Epoch 19/40\n",
            "172/172 [==============================] - 2s 9ms/step - loss: 5.7213e-06\n",
            "Epoch 20/40\n",
            "172/172 [==============================] - 2s 9ms/step - loss: 7.1609e-06\n",
            "Epoch 21/40\n",
            "172/172 [==============================] - 2s 10ms/step - loss: 5.7059e-06\n",
            "Epoch 22/40\n",
            "172/172 [==============================] - 2s 12ms/step - loss: 6.3619e-06\n",
            "Epoch 23/40\n",
            "172/172 [==============================] - 3s 15ms/step - loss: 4.9719e-06\n",
            "Epoch 24/40\n",
            "172/172 [==============================] - 2s 10ms/step - loss: 5.8787e-06\n",
            "Epoch 25/40\n",
            "172/172 [==============================] - 2s 9ms/step - loss: 5.2346e-06\n",
            "Epoch 26/40\n",
            "172/172 [==============================] - 2s 9ms/step - loss: 5.8032e-06\n",
            "Epoch 27/40\n",
            "172/172 [==============================] - 2s 9ms/step - loss: 1.1559e-05\n",
            "Epoch 28/40\n",
            "172/172 [==============================] - 2s 9ms/step - loss: 5.0687e-06\n",
            "Epoch 29/40\n",
            "172/172 [==============================] - 2s 9ms/step - loss: 5.6272e-06\n",
            "Epoch 30/40\n",
            "172/172 [==============================] - 2s 13ms/step - loss: 5.1978e-06\n",
            "Epoch 31/40\n",
            "172/172 [==============================] - 2s 14ms/step - loss: 5.6350e-06\n",
            "Epoch 32/40\n",
            "172/172 [==============================] - 2s 9ms/step - loss: 5.6647e-06\n",
            "Epoch 33/40\n",
            "172/172 [==============================] - 2s 9ms/step - loss: 8.6725e-06\n",
            "Epoch 34/40\n",
            "172/172 [==============================] - 2s 9ms/step - loss: 7.2521e-06\n",
            "Epoch 35/40\n",
            "172/172 [==============================] - 2s 9ms/step - loss: 5.2528e-06\n",
            "Epoch 36/40\n",
            "172/172 [==============================] - 2s 10ms/step - loss: 4.8368e-06\n",
            "Epoch 37/40\n",
            "172/172 [==============================] - 2s 12ms/step - loss: 6.6907e-06\n",
            "Epoch 38/40\n",
            "172/172 [==============================] - 3s 19ms/step - loss: 5.2245e-06\n",
            "Epoch 39/40\n",
            "172/172 [==============================] - 2s 11ms/step - loss: 5.8753e-06\n",
            "Epoch 40/40\n",
            "172/172 [==============================] - 2s 10ms/step - loss: 4.9218e-06\n"
          ]
        },
        {
          "output_type": "stream",
          "name": "stderr",
          "text": [
            "/usr/local/lib/python3.10/dist-packages/keras/src/engine/training.py:3103: UserWarning: You are saving your model as an HDF5 file via `model.save()`. This file format is considered legacy. We recommend using instead the native Keras format, e.g. `model.save('my_model.keras')`.\n",
            "  saving_api.save_model(\n"
          ]
        },
        {
          "output_type": "stream",
          "name": "stdout",
          "text": [
            "Model retrained due to anomaly detection.\n",
            "148/148 [==============================] - 1s 3ms/step - loss: 8.6182e-07\n"
          ]
        }
      ]
    },
    {
      "cell_type": "code",
      "source": [],
      "metadata": {
        "id": "PiI-pucbOdbZ"
      },
      "execution_count": null,
      "outputs": []
    }
  ]
}